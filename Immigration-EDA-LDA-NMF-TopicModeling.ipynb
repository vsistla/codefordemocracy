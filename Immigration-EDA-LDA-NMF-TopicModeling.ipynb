{
 "cells": [
  {
   "cell_type": "code",
   "execution_count": 1,
   "metadata": {},
   "outputs": [],
   "source": [
    "import json \n",
    "import pandas as pd\n",
    "import numpy as np\n",
    "from pandas.io.json import json_normalize #package for flattening json in pandas df\n",
    "from sklearn.feature_extraction.text import CountVectorizer\n",
    "from sklearn.decomposition import LatentDirichletAllocation"
   ]
  },
  {
   "cell_type": "code",
   "execution_count": 2,
   "metadata": {},
   "outputs": [
    {
     "name": "stdout",
     "output_type": "stream",
     "text": [
      "CPU times: user 2.68 s, sys: 611 ms, total: 3.3 s\n",
      "Wall time: 3.55 s\n"
     ]
    }
   ],
   "source": [
    "%%time\n",
    "\n",
    "df = pd.read_json(r'/opt/models/codefordemocracy/data/immi_articles.json', orient='columns')"
   ]
  },
  {
   "cell_type": "markdown",
   "metadata": {},
   "source": [
    "## Basic EDA"
   ]
  },
  {
   "cell_type": "code",
   "execution_count": 3,
   "metadata": {},
   "outputs": [
    {
     "data": {
      "text/html": [
       "<div>\n",
       "<style scoped>\n",
       "    .dataframe tbody tr th:only-of-type {\n",
       "        vertical-align: middle;\n",
       "    }\n",
       "\n",
       "    .dataframe tbody tr th {\n",
       "        vertical-align: top;\n",
       "    }\n",
       "\n",
       "    .dataframe thead th {\n",
       "        text-align: right;\n",
       "    }\n",
       "</style>\n",
       "<table border=\"1\" class=\"dataframe\">\n",
       "  <thead>\n",
       "    <tr style=\"text-align: right;\">\n",
       "      <th></th>\n",
       "      <th>_score</th>\n",
       "    </tr>\n",
       "  </thead>\n",
       "  <tbody>\n",
       "    <tr>\n",
       "      <th>count</th>\n",
       "      <td>50004.000000</td>\n",
       "    </tr>\n",
       "    <tr>\n",
       "      <th>mean</th>\n",
       "      <td>5.797664</td>\n",
       "    </tr>\n",
       "    <tr>\n",
       "      <th>std</th>\n",
       "      <td>1.180294</td>\n",
       "    </tr>\n",
       "    <tr>\n",
       "      <th>min</th>\n",
       "      <td>0.039519</td>\n",
       "    </tr>\n",
       "    <tr>\n",
       "      <th>25%</th>\n",
       "      <td>5.183180</td>\n",
       "    </tr>\n",
       "    <tr>\n",
       "      <th>50%</th>\n",
       "      <td>5.817132</td>\n",
       "    </tr>\n",
       "    <tr>\n",
       "      <th>75%</th>\n",
       "      <td>6.447397</td>\n",
       "    </tr>\n",
       "    <tr>\n",
       "      <th>max</th>\n",
       "      <td>10.616549</td>\n",
       "    </tr>\n",
       "  </tbody>\n",
       "</table>\n",
       "</div>"
      ],
      "text/plain": [
       "             _score\n",
       "count  50004.000000\n",
       "mean       5.797664\n",
       "std        1.180294\n",
       "min        0.039519\n",
       "25%        5.183180\n",
       "50%        5.817132\n",
       "75%        6.447397\n",
       "max       10.616549"
      ]
     },
     "execution_count": 3,
     "metadata": {},
     "output_type": "execute_result"
    }
   ],
   "source": [
    "df.describe()"
   ]
  },
  {
   "cell_type": "code",
   "execution_count": 4,
   "metadata": {},
   "outputs": [
    {
     "data": {
      "text/plain": [
       "_index     50004\n",
       "_type      50004\n",
       "_id        50004\n",
       "_score     50004\n",
       "_source    50004\n",
       "dtype: int64"
      ]
     },
     "execution_count": 4,
     "metadata": {},
     "output_type": "execute_result"
    }
   ],
   "source": [
    "df.count()"
   ]
  },
  {
   "cell_type": "code",
   "execution_count": 5,
   "metadata": {},
   "outputs": [
    {
     "data": {
      "text/plain": [
       "(50004, 5)"
      ]
     },
     "execution_count": 5,
     "metadata": {},
     "output_type": "execute_result"
    }
   ],
   "source": [
    "df.shape"
   ]
  },
  {
   "cell_type": "code",
   "execution_count": 6,
   "metadata": {},
   "outputs": [
    {
     "data": {
      "text/plain": [
       "_index                                              articles\n",
       "_type                                                   _doc\n",
       "_id                                     smcc4G4BNQspL_riokgN\n",
       "_score                                               10.6165\n",
       "_source    {'metadata': {'keywords': [''], 'description':...\n",
       "Name: 0, dtype: object"
      ]
     },
     "execution_count": 6,
     "metadata": {},
     "output_type": "execute_result"
    }
   ],
   "source": [
    "#print 1st column 1st row\n",
    "df.iloc[0] # this is same as df[[0]].values[0][0]"
   ]
  },
  {
   "cell_type": "code",
   "execution_count": 7,
   "metadata": {},
   "outputs": [],
   "source": [
    "df_clean= df.drop(['_id','_score', '_type'], axis=1)"
   ]
  },
  {
   "cell_type": "code",
   "execution_count": 8,
   "metadata": {},
   "outputs": [
    {
     "data": {
      "text/plain": [
       "(50004, 2)"
      ]
     },
     "execution_count": 8,
     "metadata": {},
     "output_type": "execute_result"
    }
   ],
   "source": [
    "df_clean.shape"
   ]
  },
  {
   "cell_type": "code",
   "execution_count": 9,
   "metadata": {},
   "outputs": [
    {
     "data": {
      "text/html": [
       "<div>\n",
       "<style scoped>\n",
       "    .dataframe tbody tr th:only-of-type {\n",
       "        vertical-align: middle;\n",
       "    }\n",
       "\n",
       "    .dataframe tbody tr th {\n",
       "        vertical-align: top;\n",
       "    }\n",
       "\n",
       "    .dataframe thead th {\n",
       "        text-align: right;\n",
       "    }\n",
       "</style>\n",
       "<table border=\"1\" class=\"dataframe\">\n",
       "  <thead>\n",
       "    <tr style=\"text-align: right;\">\n",
       "      <th></th>\n",
       "      <th>_index</th>\n",
       "      <th>_source</th>\n",
       "    </tr>\n",
       "  </thead>\n",
       "  <tbody>\n",
       "    <tr>\n",
       "      <th>0</th>\n",
       "      <td>articles</td>\n",
       "      <td>{'metadata': {'keywords': [''], 'description':...</td>\n",
       "    </tr>\n",
       "    <tr>\n",
       "      <th>1</th>\n",
       "      <td>articles</td>\n",
       "      <td>{'metadata': {'keywords': [''], 'description':...</td>\n",
       "    </tr>\n",
       "    <tr>\n",
       "      <th>2</th>\n",
       "      <td>articles</td>\n",
       "      <td>{'metadata': {'keywords': [''], 'description':...</td>\n",
       "    </tr>\n",
       "    <tr>\n",
       "      <th>3</th>\n",
       "      <td>articles</td>\n",
       "      <td>{'metadata': {'keywords': [''], 'description':...</td>\n",
       "    </tr>\n",
       "    <tr>\n",
       "      <th>4</th>\n",
       "      <td>articles</td>\n",
       "      <td>{'url': 'http://thehill.com/opinion/immigratio...</td>\n",
       "    </tr>\n",
       "  </tbody>\n",
       "</table>\n",
       "</div>"
      ],
      "text/plain": [
       "     _index                                            _source\n",
       "0  articles  {'metadata': {'keywords': [''], 'description':...\n",
       "1  articles  {'metadata': {'keywords': [''], 'description':...\n",
       "2  articles  {'metadata': {'keywords': [''], 'description':...\n",
       "3  articles  {'metadata': {'keywords': [''], 'description':...\n",
       "4  articles  {'url': 'http://thehill.com/opinion/immigratio..."
      ]
     },
     "execution_count": 9,
     "metadata": {},
     "output_type": "execute_result"
    }
   ],
   "source": [
    "df_clean.head(5)"
   ]
  },
  {
   "cell_type": "code",
   "execution_count": 10,
   "metadata": {},
   "outputs": [
    {
     "data": {
      "text/plain": [
       "_index                                              articles\n",
       "_source    {'metadata': {'keywords': [''], 'description':...\n",
       "Name: 0, dtype: object"
      ]
     },
     "execution_count": 10,
     "metadata": {},
     "output_type": "execute_result"
    }
   ],
   "source": [
    "df_clean.iloc[0]"
   ]
  },
  {
   "cell_type": "code",
   "execution_count": 11,
   "metadata": {},
   "outputs": [
    {
     "data": {
      "text/plain": [
       "_index                                              articles\n",
       "_type                                                   _doc\n",
       "_id                                     smcc4G4BNQspL_riokgN\n",
       "_score                                               10.6165\n",
       "_source    {'metadata': {'keywords': [''], 'description':...\n",
       "Name: 0, dtype: object"
      ]
     },
     "execution_count": 11,
     "metadata": {},
     "output_type": "execute_result"
    }
   ],
   "source": [
    "#df.iloc[0]"
   ]
  },
  {
   "cell_type": "code",
   "execution_count": 12,
   "metadata": {},
   "outputs": [
    {
     "data": {
      "text/html": [
       "<div>\n",
       "<style scoped>\n",
       "    .dataframe tbody tr th:only-of-type {\n",
       "        vertical-align: middle;\n",
       "    }\n",
       "\n",
       "    .dataframe tbody tr th {\n",
       "        vertical-align: top;\n",
       "    }\n",
       "\n",
       "    .dataframe thead th {\n",
       "        text-align: right;\n",
       "    }\n",
       "</style>\n",
       "<table border=\"1\" class=\"dataframe\">\n",
       "  <thead>\n",
       "    <tr style=\"text-align: right;\">\n",
       "      <th></th>\n",
       "      <th>_score</th>\n",
       "    </tr>\n",
       "  </thead>\n",
       "  <tbody>\n",
       "    <tr>\n",
       "      <th>count</th>\n",
       "      <td>50004.000000</td>\n",
       "    </tr>\n",
       "    <tr>\n",
       "      <th>mean</th>\n",
       "      <td>5.797664</td>\n",
       "    </tr>\n",
       "    <tr>\n",
       "      <th>std</th>\n",
       "      <td>1.180294</td>\n",
       "    </tr>\n",
       "    <tr>\n",
       "      <th>min</th>\n",
       "      <td>0.039519</td>\n",
       "    </tr>\n",
       "    <tr>\n",
       "      <th>25%</th>\n",
       "      <td>5.183180</td>\n",
       "    </tr>\n",
       "    <tr>\n",
       "      <th>50%</th>\n",
       "      <td>5.817132</td>\n",
       "    </tr>\n",
       "    <tr>\n",
       "      <th>75%</th>\n",
       "      <td>6.447397</td>\n",
       "    </tr>\n",
       "    <tr>\n",
       "      <th>max</th>\n",
       "      <td>10.616549</td>\n",
       "    </tr>\n",
       "  </tbody>\n",
       "</table>\n",
       "</div>"
      ],
      "text/plain": [
       "             _score\n",
       "count  50004.000000\n",
       "mean       5.797664\n",
       "std        1.180294\n",
       "min        0.039519\n",
       "25%        5.183180\n",
       "50%        5.817132\n",
       "75%        6.447397\n",
       "max       10.616549"
      ]
     },
     "execution_count": 12,
     "metadata": {},
     "output_type": "execute_result"
    }
   ],
   "source": [
    "#df.describe()"
   ]
  },
  {
   "cell_type": "code",
   "execution_count": 26,
   "metadata": {},
   "outputs": [
    {
     "data": {
      "text/plain": [
       "_index     object\n",
       "_type      object\n",
       "_id        object\n",
       "_score      int64\n",
       "_source    object\n",
       "dtype: object"
      ]
     },
     "execution_count": 26,
     "metadata": {},
     "output_type": "execute_result"
    }
   ],
   "source": [
    "df.dtypes"
   ]
  },
  {
   "cell_type": "code",
   "execution_count": 13,
   "metadata": {},
   "outputs": [
    {
     "data": {
      "text/plain": [
       "'_doc'"
      ]
     },
     "execution_count": 13,
     "metadata": {},
     "output_type": "execute_result"
    }
   ],
   "source": [
    "#Get value within a Series\n",
    "df.loc[0].at['_type']"
   ]
  },
  {
   "cell_type": "code",
   "execution_count": 14,
   "metadata": {},
   "outputs": [
    {
     "data": {
      "text/plain": [
       "{'metadata': {'keywords': [''],\n",
       "  'description': 'What’s the big worry? Immigration, immigration, immigration',\n",
       "  'language': 'en',\n",
       "  'dump': {'twitter': {'image': 'https://www.conservativewoman.co.uk/wp-content/uploads/2019/03/immigration-1.jpg',\n",
       "    'site': '@TheConWom',\n",
       "    'creator': '@TheConWom',\n",
       "    'description': 'What’s the big worry? Immigration, immigration, immigration',\n",
       "    'title': 'What’s the big worry? Immigration, immigration, immigration | The Conservative Woman',\n",
       "    'card': 'summary'},\n",
       "   'viewport': 'width=device-width, initial-scale=1.0',\n",
       "   'og': {'site_name': 'The Conservative Woman',\n",
       "    'updated_time': '2019-12-06T16:39:09+00:00',\n",
       "    'image': {'identifier': 'https://www.conservativewoman.co.uk/wp-content/uploads/2019/03/immigration-1.jpg',\n",
       "     'secure_url': 'https://www.conservativewoman.co.uk/wp-content/uploads/2019/03/immigration-1.jpg',\n",
       "     'width': 600,\n",
       "     'height': 300},\n",
       "    'description': 'What’s the big worry? Immigration, immigration, immigration',\n",
       "    'locale': 'en_GB',\n",
       "    'type': 'article',\n",
       "    'title': 'What’s the big worry? Immigration, immigration, immigration | The Conservative Woman',\n",
       "    'url': 'https://www.conservativewoman.co.uk/whats-the-big-worry-immigration-immigration-immigration/'},\n",
       "   'description': 'What’s the big worry? Immigration, immigration, immigration',\n",
       "   'generator': 'Powered by Slider Revolution 5.4.6.3.1 - responsive, Mobile-Friendly Slider Plugin for WordPress with comfortable drag and drop interface.',\n",
       "   'robots': 'max-snippet:-1, max-image-preview:large, max-video-preview:-1',\n",
       "   'article': {'modified_time': '2019-12-06T16:39:09+00:00',\n",
       "    'published_time': '2019-12-07T01:15:00+00:00',\n",
       "    'publisher': 'https://www.facebook.com/pages/The-Conservative-Woman',\n",
       "    'section': 'News'}},\n",
       "  'url': 'https://www.conservativewoman.co.uk/whats-the-big-worry-immigration-immigration-immigration/'},\n",
       " 'flags': {'in_graph': False, 'has_nlp': False},\n",
       " 'context': {'datetime': '2019-12-07T11:26:43.192963+00:00',\n",
       "  'scraper': 'newspaperbasic'},\n",
       " 'source': {'sitename': 'The Conservative Woman',\n",
       "  'url': 'https://www.conservativewoman.co.uk'},\n",
       " 'extracted': {'date': '2019-12-07T01:15:00+00:00',\n",
       "  'text': 'HOW many times in the past few months have we heard politicians and commentators, and those who benefit from high levels of immigration, say that the public is no longer bothered about the very high levels of immigration that this country continues to experience?\\n\\nThis is of course untrue and a new Deltapoll, commissioned by Migration Watch UK, gives the lie to the claim (see summary here and report by the Daily Mail here).\\n\\nNotwithstanding what we have been repeatedly told, the survey has found that nearly two-thirds of respondents (65 per cent) agree that recent levels of overseas net migration to the UK are a source of major concern for the public. Fewer than a quarter (22 per cent) disagree.\\n\\nSo why has immigration not been given the prominence in the election campaign that the public clearly believe it merits? Admittedly, as the campaign has worn on and the politicians have knocked on doors in search of votes, it has dawned on them that the electorate are not going to be fobbed off with vague commitments from one lot and flim-flam from the other (I am of course referring to the Tories and Labour).\\n\\nThe poll also helps explain why the public understand what the politicians appear reluctant to accept. Those who thought immigration levels to be a major public concern cited pressure on the NHS and pressure on schools as the top reasons. Others included competition for jobs, the environment and the changing nature of society. In Wales, the changing nature of society was selected by 70 per cent of respondents in the sample.\\n\\nThere were some stark variations in the poll. For example, among those supporting particular parties, 75 per cent of Conservative voters thought the average annual level of net migration that the UK has experienced over the past five calendar years was a ‘substantial concern’ for the public. It may come as a surprise to to some, but not to me, that 62 per cent of Labour voters and 53 per cent of Liberal Democrat voters felt the same.\\n\\nLooking at constituencies, and doubtless noteworthy for party HQs, 67 per cent in Labour-held marginals agreed that the level of immigration of the last five years was a ‘substantial concern’; this was also true of 61 per cent of those in Conservative-held marginals. Overall, 64 per cent of respondents in marginal seats agreed on ‘substantial concern’.\\n\\nThe regions where most voters agreed it to be a concern were Wales (69 per cent) and the Midlands (68 per cent). Indeed, 65 per cent of Londoners (who would have thought it?) and even 60 per cent of respondents in Scotland agreed: not what the SNP leadership would have you believe.\\n\\nAs for what this election is supposed to be about, 52 per cent of Remain voters were of this view and so were 81 per cent of Leave voters. Those who were concerned formed a majority of all age-groups – even 53 per cent of 18-24-year-olds who took part in the survey.\\n\\nWhy do people sense this concern regarding the immigration and what underlies it? Well, 81 per cent named pressure on the NHS. In Conservative-held marginal seats it was 91 per cent and 92 per cent among the 55-64 age group. In Wales, it was 92 per cent and in the North of England, 86 per cent.\\n\\nInevitably, when writing about polls and surveys there is a need to refer to numbers, which I regret, because what we are really looking at is not just numbers and percentages but people. Indeed, this was the main reason for commissioning the poll: to draw attention to how the public feels about and perceives the impact of high immigration.\\n\\nThe political class has for so long believed it knows what is best for us that it has increasingly assumed that we are happy to go along with whichever policy they throw at us.\\n\\nWhen they repeatedly fail to keep promises made in election campaigns, rather than considering why they have failed and redoubling their efforts, they simply turn their backs on commitments accepted in good faith by the electorate. That is not good enough.\\n\\nOrdinary people feel the pressures that derive from mass immigration. That is why 80 per cent of respondents pointed to pressure on the NHS, because, according to the Office for National Statistics, the number of annual registrations by those from overseas increased by 100,000 during the past decade.\\n\\nAnd yes, while our population is ageing, immigration has added a million to it every three years (see our paper here). How can such growth not have an impact on or put pressure on the NHS? In 2017/18 there was, on average, a new GP registration by someone from overseas every minute, and there are well over half a million such registrations each year.\\n\\nThese are the reasons why, O politicians, you have to commit to reducing immigration. That doesn’t mean stopping it or driving out people with every right to be here (although it does mean stepping up enforcement and properly resourcing the border so that we are not taken for mugs by those who have no compunction about abusing our largesse).\\n\\nYou have to come up with policies that will make this possible. If you think you will get away with avoiding or by proffering half-hearted policies on what remains a critically important issue for the electorate, you are grossly mistaken.\\n\\nOur poll findings pour ice-cold water on such an approach and show how out of touch you are with the voters.\\n\\n\\n\\nMy question to the two main aspirants for the keys to No 10 is: Do either of you have the nous or bottle to commit to giving the public what it wants, a substantial reduction in immigration?\\n\\n',\n",
       "  'title': 'What’s the big worry? Immigration, immigration, immigration',\n",
       "  'authors': ['Custom Css',\n",
       "   'Display',\n",
       "   'Inline-Block',\n",
       "   '.Tdb-Author-By',\n",
       "   'Margin-Right',\n",
       "   'Font-Family Garamond',\n",
       "   'Hoefler Text',\n",
       "   'Times New Roman',\n",
       "   'Times',\n",
       "   'Serif']},\n",
       " 'url': 'https://www.conservativewoman.co.uk/whats-the-big-worry-immigration-immigration-immigration/'}"
      ]
     },
     "execution_count": 14,
     "metadata": {},
     "output_type": "execute_result"
    }
   ],
   "source": [
    "#Get value within a Series\n",
    "df.loc[0].at['_source']"
   ]
  },
  {
   "cell_type": "code",
   "execution_count": 15,
   "metadata": {},
   "outputs": [],
   "source": [
    "df_src=df.drop(['_index','_id','_score', '_type'], axis=1)"
   ]
  },
  {
   "cell_type": "code",
   "execution_count": 16,
   "metadata": {},
   "outputs": [
    {
     "data": {
      "text/plain": [
       "_source    object\n",
       "dtype: object"
      ]
     },
     "execution_count": 16,
     "metadata": {},
     "output_type": "execute_result"
    }
   ],
   "source": [
    "df_src.dtypes"
   ]
  },
  {
   "cell_type": "code",
   "execution_count": 17,
   "metadata": {},
   "outputs": [
    {
     "name": "stdout",
     "output_type": "stream",
     "text": [
      "CPU times: user 41.5 s, sys: 548 ms, total: 42 s\n",
      "Wall time: 42 s\n"
     ]
    }
   ],
   "source": [
    "%%time\n",
    "\n",
    "df_src_norm = json_normalize(df_src['_source'])"
   ]
  },
  {
   "cell_type": "code",
   "execution_count": 18,
   "metadata": {},
   "outputs": [
    {
     "data": {
      "text/plain": [
       "[]"
      ]
     },
     "execution_count": 18,
     "metadata": {},
     "output_type": "execute_result"
    }
   ],
   "source": [
    "#list()"
   ]
  },
  {
   "cell_type": "code",
   "execution_count": 19,
   "metadata": {},
   "outputs": [
    {
     "data": {
      "text/html": [
       "<div>\n",
       "<style scoped>\n",
       "    .dataframe tbody tr th:only-of-type {\n",
       "        vertical-align: middle;\n",
       "    }\n",
       "\n",
       "    .dataframe tbody tr th {\n",
       "        vertical-align: top;\n",
       "    }\n",
       "\n",
       "    .dataframe thead th {\n",
       "        text-align: right;\n",
       "    }\n",
       "</style>\n",
       "<table border=\"1\" class=\"dataframe\">\n",
       "  <thead>\n",
       "    <tr style=\"text-align: right;\">\n",
       "      <th></th>\n",
       "      <th>url</th>\n",
       "      <th>metadata.keywords</th>\n",
       "      <th>metadata.description</th>\n",
       "      <th>metadata.language</th>\n",
       "      <th>metadata.dump.twitter.image</th>\n",
       "      <th>metadata.dump.twitter.site</th>\n",
       "      <th>metadata.dump.twitter.creator</th>\n",
       "      <th>metadata.dump.twitter.description</th>\n",
       "      <th>metadata.dump.twitter.title</th>\n",
       "      <th>metadata.dump.twitter.card</th>\n",
       "      <th>...</th>\n",
       "      <th>metadata.dump.citation_journal_abbrev</th>\n",
       "      <th>metadata.dump.citation_pages</th>\n",
       "      <th>metadata.dump.citation_language</th>\n",
       "      <th>metadata.dump.citation_keywords</th>\n",
       "      <th>metadata.dump.citation_date</th>\n",
       "      <th>metadata.dump.citation_author_institution</th>\n",
       "      <th>metadata.dump.specificfeeds-verification-code-Ri9Tb2pQYmlIUzh5M0VBdVovdmZMWitWaUp0NTF4MlpVSzVTMkRKbmRaQ2VzblhpUWdLcmpqM0dWM3pZcGxheEZCU0RCaGNVU28wTTJVRmFLcll6U3FMaTFPcVVhZlorb3B0cHZtYXRlTXA0RDFzNjRZU0N6MjRuSjZ4dGxlOFd8bTllRExVSS9iUDdldEkzOHJlSGYvL3cydTIvb3FhQ2RvaTAxdDczUklJTT0=</th>\n",
       "      <th>metadata.dump.webpack-public-path</th>\n",
       "      <th>metadata.dump.sentry-dsn</th>\n",
       "      <th>metadata.dump.contentUrl</th>\n",
       "    </tr>\n",
       "  </thead>\n",
       "  <tbody>\n",
       "    <tr>\n",
       "      <th>0</th>\n",
       "      <td>https://www.conservativewoman.co.uk/whats-the-...</td>\n",
       "      <td>[]</td>\n",
       "      <td>What’s the big worry? Immigration, immigration...</td>\n",
       "      <td>en</td>\n",
       "      <td>https://www.conservativewoman.co.uk/wp-content...</td>\n",
       "      <td>@TheConWom</td>\n",
       "      <td>@TheConWom</td>\n",
       "      <td>What’s the big worry? Immigration, immigration...</td>\n",
       "      <td>What’s the big worry? Immigration, immigration...</td>\n",
       "      <td>summary</td>\n",
       "      <td>...</td>\n",
       "      <td>NaN</td>\n",
       "      <td>NaN</td>\n",
       "      <td>NaN</td>\n",
       "      <td>NaN</td>\n",
       "      <td>NaN</td>\n",
       "      <td>NaN</td>\n",
       "      <td>NaN</td>\n",
       "      <td>NaN</td>\n",
       "      <td>NaN</td>\n",
       "      <td>NaN</td>\n",
       "    </tr>\n",
       "    <tr>\n",
       "      <th>1</th>\n",
       "      <td>http://gulfnews.com/business/val-morgan-immigr...</td>\n",
       "      <td>[]</td>\n",
       "      <td>Val Morgan Immigration specialises in UK immig...</td>\n",
       "      <td>en</td>\n",
       "      <td>NaN</td>\n",
       "      <td>@gulf_news</td>\n",
       "      <td>NaN</td>\n",
       "      <td>Val Morgan Immigration specialises in UK immig...</td>\n",
       "      <td>Val Morgan Immigration Advisers: Secure your f...</td>\n",
       "      <td>summary_large_image</td>\n",
       "      <td>...</td>\n",
       "      <td>NaN</td>\n",
       "      <td>NaN</td>\n",
       "      <td>NaN</td>\n",
       "      <td>NaN</td>\n",
       "      <td>NaN</td>\n",
       "      <td>NaN</td>\n",
       "      <td>NaN</td>\n",
       "      <td>NaN</td>\n",
       "      <td>NaN</td>\n",
       "      <td>NaN</td>\n",
       "    </tr>\n",
       "    <tr>\n",
       "      <th>2</th>\n",
       "      <td>http://www.immattyllp.com</td>\n",
       "      <td>[]</td>\n",
       "      <td>Immigration Attorneys, LLP - U.S. Immigration ...</td>\n",
       "      <td>en</td>\n",
       "      <td>NaN</td>\n",
       "      <td>NaN</td>\n",
       "      <td>NaN</td>\n",
       "      <td>NaN</td>\n",
       "      <td>NaN</td>\n",
       "      <td>NaN</td>\n",
       "      <td>...</td>\n",
       "      <td>NaN</td>\n",
       "      <td>NaN</td>\n",
       "      <td>NaN</td>\n",
       "      <td>NaN</td>\n",
       "      <td>NaN</td>\n",
       "      <td>NaN</td>\n",
       "      <td>NaN</td>\n",
       "      <td>NaN</td>\n",
       "      <td>NaN</td>\n",
       "      <td>NaN</td>\n",
       "    </tr>\n",
       "  </tbody>\n",
       "</table>\n",
       "<p>3 rows × 2254 columns</p>\n",
       "</div>"
      ],
      "text/plain": [
       "                                                 url metadata.keywords  \\\n",
       "0  https://www.conservativewoman.co.uk/whats-the-...                []   \n",
       "1  http://gulfnews.com/business/val-morgan-immigr...                []   \n",
       "2                          http://www.immattyllp.com                []   \n",
       "\n",
       "                                metadata.description metadata.language  \\\n",
       "0  What’s the big worry? Immigration, immigration...                en   \n",
       "1  Val Morgan Immigration specialises in UK immig...                en   \n",
       "2  Immigration Attorneys, LLP - U.S. Immigration ...                en   \n",
       "\n",
       "                         metadata.dump.twitter.image  \\\n",
       "0  https://www.conservativewoman.co.uk/wp-content...   \n",
       "1                                                NaN   \n",
       "2                                                NaN   \n",
       "\n",
       "  metadata.dump.twitter.site metadata.dump.twitter.creator  \\\n",
       "0                 @TheConWom                    @TheConWom   \n",
       "1                 @gulf_news                           NaN   \n",
       "2                        NaN                           NaN   \n",
       "\n",
       "                   metadata.dump.twitter.description  \\\n",
       "0  What’s the big worry? Immigration, immigration...   \n",
       "1  Val Morgan Immigration specialises in UK immig...   \n",
       "2                                                NaN   \n",
       "\n",
       "                         metadata.dump.twitter.title  \\\n",
       "0  What’s the big worry? Immigration, immigration...   \n",
       "1  Val Morgan Immigration Advisers: Secure your f...   \n",
       "2                                                NaN   \n",
       "\n",
       "  metadata.dump.twitter.card  ... metadata.dump.citation_journal_abbrev  \\\n",
       "0                    summary  ...                                   NaN   \n",
       "1        summary_large_image  ...                                   NaN   \n",
       "2                        NaN  ...                                   NaN   \n",
       "\n",
       "  metadata.dump.citation_pages metadata.dump.citation_language  \\\n",
       "0                          NaN                             NaN   \n",
       "1                          NaN                             NaN   \n",
       "2                          NaN                             NaN   \n",
       "\n",
       "  metadata.dump.citation_keywords metadata.dump.citation_date  \\\n",
       "0                             NaN                         NaN   \n",
       "1                             NaN                         NaN   \n",
       "2                             NaN                         NaN   \n",
       "\n",
       "  metadata.dump.citation_author_institution  \\\n",
       "0                                       NaN   \n",
       "1                                       NaN   \n",
       "2                                       NaN   \n",
       "\n",
       "  metadata.dump.specificfeeds-verification-code-Ri9Tb2pQYmlIUzh5M0VBdVovdmZMWitWaUp0NTF4MlpVSzVTMkRKbmRaQ2VzblhpUWdLcmpqM0dWM3pZcGxheEZCU0RCaGNVU28wTTJVRmFLcll6U3FMaTFPcVVhZlorb3B0cHZtYXRlTXA0RDFzNjRZU0N6MjRuSjZ4dGxlOFd8bTllRExVSS9iUDdldEkzOHJlSGYvL3cydTIvb3FhQ2RvaTAxdDczUklJTT0=  \\\n",
       "0                                                NaN                                                                                                                                                                                                                                       \n",
       "1                                                NaN                                                                                                                                                                                                                                       \n",
       "2                                                NaN                                                                                                                                                                                                                                       \n",
       "\n",
       "  metadata.dump.webpack-public-path metadata.dump.sentry-dsn  \\\n",
       "0                               NaN                      NaN   \n",
       "1                               NaN                      NaN   \n",
       "2                               NaN                      NaN   \n",
       "\n",
       "  metadata.dump.contentUrl  \n",
       "0                      NaN  \n",
       "1                      NaN  \n",
       "2                      NaN  \n",
       "\n",
       "[3 rows x 2254 columns]"
      ]
     },
     "execution_count": 19,
     "metadata": {},
     "output_type": "execute_result"
    }
   ],
   "source": [
    "df_src_norm.head(3)"
   ]
  },
  {
   "cell_type": "code",
   "execution_count": 20,
   "metadata": {},
   "outputs": [
    {
     "name": "stdout",
     "output_type": "stream",
     "text": [
      "<class 'pandas.core.frame.DataFrame'>\n",
      "RangeIndex: 50004 entries, 0 to 50003\n",
      "Columns: 2254 entries, url to metadata.dump.contentUrl\n",
      "dtypes: bool(2), float64(267), object(1985)\n",
      "memory usage: 859.2+ MB\n"
     ]
    }
   ],
   "source": [
    "df_src_norm.info()"
   ]
  },
  {
   "cell_type": "code",
   "execution_count": 21,
   "metadata": {},
   "outputs": [
    {
     "data": {
      "text/plain": [
       "(50004, 2254)"
      ]
     },
     "execution_count": 21,
     "metadata": {},
     "output_type": "execute_result"
    }
   ],
   "source": [
    "df_src_norm.shape"
   ]
  },
  {
   "cell_type": "code",
   "execution_count": 22,
   "metadata": {},
   "outputs": [],
   "source": [
    "df_src_norm_limited=df_src_norm.filter(items=['url', 'site_name','extracted.title', 'extracted.date', 'extracted.text', 'metadata.keywords', 'metadata.description'])"
   ]
  },
  {
   "cell_type": "code",
   "execution_count": 23,
   "metadata": {},
   "outputs": [
    {
     "data": {
      "text/plain": [
       "(50004, 6)"
      ]
     },
     "execution_count": 23,
     "metadata": {},
     "output_type": "execute_result"
    }
   ],
   "source": [
    "df_src_norm_limited.shape"
   ]
  },
  {
   "cell_type": "code",
   "execution_count": 24,
   "metadata": {},
   "outputs": [
    {
     "data": {
      "text/html": [
       "<div>\n",
       "<style scoped>\n",
       "    .dataframe tbody tr th:only-of-type {\n",
       "        vertical-align: middle;\n",
       "    }\n",
       "\n",
       "    .dataframe tbody tr th {\n",
       "        vertical-align: top;\n",
       "    }\n",
       "\n",
       "    .dataframe thead th {\n",
       "        text-align: right;\n",
       "    }\n",
       "</style>\n",
       "<table border=\"1\" class=\"dataframe\">\n",
       "  <thead>\n",
       "    <tr style=\"text-align: right;\">\n",
       "      <th></th>\n",
       "      <th>url</th>\n",
       "      <th>extracted.title</th>\n",
       "      <th>extracted.date</th>\n",
       "      <th>extracted.text</th>\n",
       "      <th>metadata.keywords</th>\n",
       "      <th>metadata.description</th>\n",
       "    </tr>\n",
       "  </thead>\n",
       "  <tbody>\n",
       "    <tr>\n",
       "      <th>0</th>\n",
       "      <td>https://www.conservativewoman.co.uk/whats-the-...</td>\n",
       "      <td>What’s the big worry? Immigration, immigration...</td>\n",
       "      <td>2019-12-07T01:15:00+00:00</td>\n",
       "      <td>HOW many times in the past few months have we ...</td>\n",
       "      <td>[]</td>\n",
       "      <td>What’s the big worry? Immigration, immigration...</td>\n",
       "    </tr>\n",
       "    <tr>\n",
       "      <th>1</th>\n",
       "      <td>http://gulfnews.com/business/val-morgan-immigr...</td>\n",
       "      <td>Val Morgan Immigration Advisers: Secure your f...</td>\n",
       "      <td>2019-11-21T00:00:36.623000+04:00</td>\n",
       "      <td>Val Morgan has been an integral part of the UK...</td>\n",
       "      <td>[]</td>\n",
       "      <td>Val Morgan Immigration specialises in UK immig...</td>\n",
       "    </tr>\n",
       "    <tr>\n",
       "      <th>2</th>\n",
       "      <td>http://www.immattyllp.com</td>\n",
       "      <td>Immigration Attorneys LLP</td>\n",
       "      <td>None</td>\n",
       "      <td></td>\n",
       "      <td>[]</td>\n",
       "      <td>Immigration Attorneys, LLP - U.S. Immigration ...</td>\n",
       "    </tr>\n",
       "    <tr>\n",
       "      <th>3</th>\n",
       "      <td>http://gulfnews.com/business/top-immigration-c...</td>\n",
       "      <td>Top immigration consultants in UAE: Secure you...</td>\n",
       "      <td>2019-11-21T00:00:36.623000+04:00</td>\n",
       "      <td>Val Morgan has been an integral part of the UK...</td>\n",
       "      <td>[]</td>\n",
       "      <td>Val Morgan Immigration specialises in UK immig...</td>\n",
       "    </tr>\n",
       "    <tr>\n",
       "      <th>4</th>\n",
       "      <td>http://thehill.com/opinion/immigration/512266-...</td>\n",
       "      <td>The prospect of a Kamala Harris presidency giv...</td>\n",
       "      <td>2020-08-17T11:00:09-04:00</td>\n",
       "      <td>Joe Biden has chosen U.S. Sen. Kamala D. Harri...</td>\n",
       "      <td>[Illegal immigration to the United States, def...</td>\n",
       "      <td>Harris’s immigration policies would encourage ...</td>\n",
       "    </tr>\n",
       "    <tr>\n",
       "      <th>5</th>\n",
       "      <td>http://onenewsnow.com/legal-courts/2020/03/30/...</td>\n",
       "      <td>Safeguards suggested to keep courts moving</td>\n",
       "      <td>2020-03-30T00:00:00</td>\n",
       "      <td>An immigration reform activist and former immi...</td>\n",
       "      <td>[]</td>\n",
       "      <td>An immigration reform activist and former immi...</td>\n",
       "    </tr>\n",
       "    <tr>\n",
       "      <th>6</th>\n",
       "      <td>http://americanimmigrationcouncil.org/news/new...</td>\n",
       "      <td>New Documents Reveal Immigration Judge Hiring ...</td>\n",
       "      <td>2020-05-01T15:00:00-04:00</td>\n",
       "      <td>WASHINGTON—Today, the American Immigration Law...</td>\n",
       "      <td>[]</td>\n",
       "      <td>The American Immigration Lawyers Association a...</td>\n",
       "    </tr>\n",
       "    <tr>\n",
       "      <th>7</th>\n",
       "      <td>http://fairus.org/news/newsletters</td>\n",
       "      <td>Federation for American Immigration Reform</td>\n",
       "      <td>None</td>\n",
       "      <td>Over 1M Illegal Aliens Expected to Arrive in U...</td>\n",
       "      <td>[]</td>\n",
       "      <td>FAIR's Immigration Report is the nation's most...</td>\n",
       "    </tr>\n",
       "    <tr>\n",
       "      <th>8</th>\n",
       "      <td>http://americanimmigrationcouncil.org/news/com...</td>\n",
       "      <td>Complaint Demands Oversight of Customs and Bor...</td>\n",
       "      <td>2019-09-04T12:54:00-04:00</td>\n",
       "      <td>WASHINGTON, DC – Today, the American Immigrati...</td>\n",
       "      <td>[]</td>\n",
       "      <td>WASHINGTON, DC – Today, the American Immigrati...</td>\n",
       "    </tr>\n",
       "    <tr>\n",
       "      <th>9</th>\n",
       "      <td>http://ow.ly/kBD22</td>\n",
       "      <td>What immigration reform must entail</td>\n",
       "      <td>None</td>\n",
       "      <td>Wed May 1, 2013 7:12 AM\\n\\nAmerica is a nation...</td>\n",
       "      <td>[What immigration reform must entail, Arizona,...</td>\n",
       "      <td>What immigration reform must entail,Arizona co...</td>\n",
       "    </tr>\n",
       "  </tbody>\n",
       "</table>\n",
       "</div>"
      ],
      "text/plain": [
       "                                                 url  \\\n",
       "0  https://www.conservativewoman.co.uk/whats-the-...   \n",
       "1  http://gulfnews.com/business/val-morgan-immigr...   \n",
       "2                          http://www.immattyllp.com   \n",
       "3  http://gulfnews.com/business/top-immigration-c...   \n",
       "4  http://thehill.com/opinion/immigration/512266-...   \n",
       "5  http://onenewsnow.com/legal-courts/2020/03/30/...   \n",
       "6  http://americanimmigrationcouncil.org/news/new...   \n",
       "7                 http://fairus.org/news/newsletters   \n",
       "8  http://americanimmigrationcouncil.org/news/com...   \n",
       "9                                 http://ow.ly/kBD22   \n",
       "\n",
       "                                     extracted.title  \\\n",
       "0  What’s the big worry? Immigration, immigration...   \n",
       "1  Val Morgan Immigration Advisers: Secure your f...   \n",
       "2                          Immigration Attorneys LLP   \n",
       "3  Top immigration consultants in UAE: Secure you...   \n",
       "4  The prospect of a Kamala Harris presidency giv...   \n",
       "5         Safeguards suggested to keep courts moving   \n",
       "6  New Documents Reveal Immigration Judge Hiring ...   \n",
       "7         Federation for American Immigration Reform   \n",
       "8  Complaint Demands Oversight of Customs and Bor...   \n",
       "9                What immigration reform must entail   \n",
       "\n",
       "                     extracted.date  \\\n",
       "0         2019-12-07T01:15:00+00:00   \n",
       "1  2019-11-21T00:00:36.623000+04:00   \n",
       "2                              None   \n",
       "3  2019-11-21T00:00:36.623000+04:00   \n",
       "4         2020-08-17T11:00:09-04:00   \n",
       "5               2020-03-30T00:00:00   \n",
       "6         2020-05-01T15:00:00-04:00   \n",
       "7                              None   \n",
       "8         2019-09-04T12:54:00-04:00   \n",
       "9                              None   \n",
       "\n",
       "                                      extracted.text  \\\n",
       "0  HOW many times in the past few months have we ...   \n",
       "1  Val Morgan has been an integral part of the UK...   \n",
       "2                                                      \n",
       "3  Val Morgan has been an integral part of the UK...   \n",
       "4  Joe Biden has chosen U.S. Sen. Kamala D. Harri...   \n",
       "5  An immigration reform activist and former immi...   \n",
       "6  WASHINGTON—Today, the American Immigration Law...   \n",
       "7  Over 1M Illegal Aliens Expected to Arrive in U...   \n",
       "8  WASHINGTON, DC – Today, the American Immigrati...   \n",
       "9  Wed May 1, 2013 7:12 AM\\n\\nAmerica is a nation...   \n",
       "\n",
       "                                   metadata.keywords  \\\n",
       "0                                                 []   \n",
       "1                                                 []   \n",
       "2                                                 []   \n",
       "3                                                 []   \n",
       "4  [Illegal immigration to the United States, def...   \n",
       "5                                                 []   \n",
       "6                                                 []   \n",
       "7                                                 []   \n",
       "8                                                 []   \n",
       "9  [What immigration reform must entail, Arizona,...   \n",
       "\n",
       "                                metadata.description  \n",
       "0  What’s the big worry? Immigration, immigration...  \n",
       "1  Val Morgan Immigration specialises in UK immig...  \n",
       "2  Immigration Attorneys, LLP - U.S. Immigration ...  \n",
       "3  Val Morgan Immigration specialises in UK immig...  \n",
       "4  Harris’s immigration policies would encourage ...  \n",
       "5  An immigration reform activist and former immi...  \n",
       "6  The American Immigration Lawyers Association a...  \n",
       "7  FAIR's Immigration Report is the nation's most...  \n",
       "8  WASHINGTON, DC – Today, the American Immigrati...  \n",
       "9  What immigration reform must entail,Arizona co...  "
      ]
     },
     "execution_count": 24,
     "metadata": {},
     "output_type": "execute_result"
    }
   ],
   "source": [
    "df_src_norm_limited.head(10)"
   ]
  },
  {
   "cell_type": "code",
   "execution_count": 25,
   "metadata": {},
   "outputs": [
    {
     "data": {
      "text/plain": [
       "'What’s the big worry? Immigration, immigration, immigration'"
      ]
     },
     "execution_count": 25,
     "metadata": {},
     "output_type": "execute_result"
    }
   ],
   "source": [
    "df_src_norm_limited['metadata.description'][0]"
   ]
  },
  {
   "cell_type": "code",
   "execution_count": 26,
   "metadata": {},
   "outputs": [
    {
     "data": {
      "text/plain": [
       "'HOW many times in the past few months have we heard politicians and commentators, and those who benefit from high levels of immigration, say that the public is no longer bothered about the very high levels of immigration that this country continues to experience?\\n\\nThis is of course untrue and a new Deltapoll, commissioned by Migration Watch UK, gives the lie to the claim (see summary here and report by the Daily Mail here).\\n\\nNotwithstanding what we have been repeatedly told, the survey has found that nearly two-thirds of respondents (65 per cent) agree that recent levels of overseas net migration to the UK are a source of major concern for the public. Fewer than a quarter (22 per cent) disagree.\\n\\nSo why has immigration not been given the prominence in the election campaign that the public clearly believe it merits? Admittedly, as the campaign has worn on and the politicians have knocked on doors in search of votes, it has dawned on them that the electorate are not going to be fobbed off with vague commitments from one lot and flim-flam from the other (I am of course referring to the Tories and Labour).\\n\\nThe poll also helps explain why the public understand what the politicians appear reluctant to accept. Those who thought immigration levels to be a major public concern cited pressure on the NHS and pressure on schools as the top reasons. Others included competition for jobs, the environment and the changing nature of society. In Wales, the changing nature of society was selected by 70 per cent of respondents in the sample.\\n\\nThere were some stark variations in the poll. For example, among those supporting particular parties, 75 per cent of Conservative voters thought the average annual level of net migration that the UK has experienced over the past five calendar years was a ‘substantial concern’ for the public. It may come as a surprise to to some, but not to me, that 62 per cent of Labour voters and 53 per cent of Liberal Democrat voters felt the same.\\n\\nLooking at constituencies, and doubtless noteworthy for party HQs, 67 per cent in Labour-held marginals agreed that the level of immigration of the last five years was a ‘substantial concern’; this was also true of 61 per cent of those in Conservative-held marginals. Overall, 64 per cent of respondents in marginal seats agreed on ‘substantial concern’.\\n\\nThe regions where most voters agreed it to be a concern were Wales (69 per cent) and the Midlands (68 per cent). Indeed, 65 per cent of Londoners (who would have thought it?) and even 60 per cent of respondents in Scotland agreed: not what the SNP leadership would have you believe.\\n\\nAs for what this election is supposed to be about, 52 per cent of Remain voters were of this view and so were 81 per cent of Leave voters. Those who were concerned formed a majority of all age-groups – even 53 per cent of 18-24-year-olds who took part in the survey.\\n\\nWhy do people sense this concern regarding the immigration and what underlies it? Well, 81 per cent named pressure on the NHS. In Conservative-held marginal seats it was 91 per cent and 92 per cent among the 55-64 age group. In Wales, it was 92 per cent and in the North of England, 86 per cent.\\n\\nInevitably, when writing about polls and surveys there is a need to refer to numbers, which I regret, because what we are really looking at is not just numbers and percentages but people. Indeed, this was the main reason for commissioning the poll: to draw attention to how the public feels about and perceives the impact of high immigration.\\n\\nThe political class has for so long believed it knows what is best for us that it has increasingly assumed that we are happy to go along with whichever policy they throw at us.\\n\\nWhen they repeatedly fail to keep promises made in election campaigns, rather than considering why they have failed and redoubling their efforts, they simply turn their backs on commitments accepted in good faith by the electorate. That is not good enough.\\n\\nOrdinary people feel the pressures that derive from mass immigration. That is why 80 per cent of respondents pointed to pressure on the NHS, because, according to the Office for National Statistics, the number of annual registrations by those from overseas increased by 100,000 during the past decade.\\n\\nAnd yes, while our population is ageing, immigration has added a million to it every three years (see our paper here). How can such growth not have an impact on or put pressure on the NHS? In 2017/18 there was, on average, a new GP registration by someone from overseas every minute, and there are well over half a million such registrations each year.\\n\\nThese are the reasons why, O politicians, you have to commit to reducing immigration. That doesn’t mean stopping it or driving out people with every right to be here (although it does mean stepping up enforcement and properly resourcing the border so that we are not taken for mugs by those who have no compunction about abusing our largesse).\\n\\nYou have to come up with policies that will make this possible. If you think you will get away with avoiding or by proffering half-hearted policies on what remains a critically important issue for the electorate, you are grossly mistaken.\\n\\nOur poll findings pour ice-cold water on such an approach and show how out of touch you are with the voters.\\n\\n\\n\\nMy question to the two main aspirants for the keys to No 10 is: Do either of you have the nous or bottle to commit to giving the public what it wants, a substantial reduction in immigration?\\n\\n'"
      ]
     },
     "execution_count": 26,
     "metadata": {},
     "output_type": "execute_result"
    }
   ],
   "source": [
    "df_src_norm_limited['extracted.text'][0]"
   ]
  },
  {
   "cell_type": "code",
   "execution_count": 27,
   "metadata": {},
   "outputs": [
    {
     "data": {
      "text/plain": [
       "'https://www.conservativewoman.co.uk/whats-the-big-worry-immigration-immigration-immigration/'"
      ]
     },
     "execution_count": 27,
     "metadata": {},
     "output_type": "execute_result"
    }
   ],
   "source": [
    "df_src_norm_limited['url'][0]"
   ]
  },
  {
   "cell_type": "code",
   "execution_count": 28,
   "metadata": {},
   "outputs": [
    {
     "data": {
      "text/plain": [
       "<bound method NDFrame.describe of                                                      url  \\\n",
       "0      https://www.conservativewoman.co.uk/whats-the-...   \n",
       "1      http://gulfnews.com/business/val-morgan-immigr...   \n",
       "2                              http://www.immattyllp.com   \n",
       "3      http://gulfnews.com/business/top-immigration-c...   \n",
       "4      http://thehill.com/opinion/immigration/512266-...   \n",
       "...                                                  ...   \n",
       "49999  http://www.realclearpolitics.com/video/2019/05...   \n",
       "50000  http://www.realclearpolitics.com/video/2019/06...   \n",
       "50001  http://www.realclearpolitics.com/video/2019/11...   \n",
       "50002  https://www.realclearpolitics.com/video/2017/1...   \n",
       "50003  http://cfr.org/event/2020-census-risks-getting...   \n",
       "\n",
       "                                         extracted.title  \\\n",
       "0      What’s the big worry? Immigration, immigration...   \n",
       "1      Val Morgan Immigration Advisers: Secure your f...   \n",
       "2                              Immigration Attorneys LLP   \n",
       "3      Top immigration consultants in UAE: Secure you...   \n",
       "4      The prospect of a Kamala Harris presidency giv...   \n",
       "...                                                  ...   \n",
       "49999  Trump Interview: Immigration Reform, China Tra...   \n",
       "50000  Sidney Powell on Mueller: Americans Just Want ...   \n",
       "50001  Trump Delivers Remarks on Federal Judicial Con...   \n",
       "50002  Trump Pushes Tax Plan: This Isn't Good For Rep...   \n",
       "50003     The 2020 Census: The Risks of Getting It Wrong   \n",
       "\n",
       "                         extracted.date  \\\n",
       "0             2019-12-07T01:15:00+00:00   \n",
       "1      2019-11-21T00:00:36.623000+04:00   \n",
       "2                                  None   \n",
       "3      2019-11-21T00:00:36.623000+04:00   \n",
       "4             2020-08-17T11:00:09-04:00   \n",
       "...                                 ...   \n",
       "49999               2019-05-20T00:00:00   \n",
       "50000               2019-06-03T00:00:00   \n",
       "50001               2019-11-06T00:00:00   \n",
       "50002               2017-11-29T00:00:00   \n",
       "50003                              None   \n",
       "\n",
       "                                          extracted.text  \\\n",
       "0      HOW many times in the past few months have we ...   \n",
       "1      Val Morgan has been an integral part of the UK...   \n",
       "2                                                          \n",
       "3      Val Morgan has been an integral part of the UK...   \n",
       "4      Joe Biden has chosen U.S. Sen. Kamala D. Harri...   \n",
       "...                                                  ...   \n",
       "49999  Rep. Adam Schiff said Sunday on CBS's \"Face th...   \n",
       "50000  Sidney Powell, author of 'Licensed to Lie,' sa...   \n",
       "50001  Trump Delivers Remarks on Federal Judicial Con...   \n",
       "50002  President Donald Trump delivered remarks on ta...   \n",
       "50003  Panelists discuss preparations for the 2020 U....   \n",
       "\n",
       "                                       metadata.keywords  \\\n",
       "0                                                     []   \n",
       "1                                                     []   \n",
       "2                                                     []   \n",
       "3                                                     []   \n",
       "4      [Illegal immigration to the United States, def...   \n",
       "...                                                  ...   \n",
       "49999                                   [Donald Trump, ]   \n",
       "50000    [Sidney Powell, Donald Trump, Robert Mueller, ]   \n",
       "50001                                   [Donald Trump, ]   \n",
       "50002                                   [Donald Trump, ]   \n",
       "50003  [United States, U.S. Foreign Policy, Aging, Yo...   \n",
       "\n",
       "                                    metadata.description  \n",
       "0      What’s the big worry? Immigration, immigration...  \n",
       "1      Val Morgan Immigration specialises in UK immig...  \n",
       "2      Immigration Attorneys, LLP - U.S. Immigration ...  \n",
       "3      Val Morgan Immigration specialises in UK immig...  \n",
       "4      Harris’s immigration policies would encourage ...  \n",
       "...                                                  ...  \n",
       "49999  President Trump sits down for an interview wit...  \n",
       "50000  Sidney Powell, author of 'Licensed to Lie,' sa...  \n",
       "50001  President Trump celebrates the confirmation of...  \n",
       "50002  President Donald Trump delivered remarks on ta...  \n",
       "50003  Panelists discuss preparations for the 2020 U....  \n",
       "\n",
       "[50004 rows x 6 columns]>"
      ]
     },
     "execution_count": 28,
     "metadata": {},
     "output_type": "execute_result"
    }
   ],
   "source": [
    "df_src_norm_limited.describe"
   ]
  },
  {
   "cell_type": "markdown",
   "metadata": {},
   "source": [
    "# Topic Modeling\n",
    "\n",
    "## Using Latent Dirichlet Allocation (LDA)\n",
    "#### The LDA is based upon two general assumptions:\n",
    "\n",
    "### Documents that have similar words usually have the same topic\n",
    "### Documents that have groups of words frequently occurring together usually have the same topic.\n",
    "\n",
    "\n",
    "# Vocabulary Creation\n",
    "\n",
    "### Using CountVectorizer class from the sklearn.feature_extraction.text module to create a document-term matrix. We specify to only include those words that appear in less than 80% of the document and appear in at least 2 documents. We also remove all the stop words as they do not really contribute to topic modeling."
   ]
  },
  {
   "cell_type": "code",
   "execution_count": 29,
   "metadata": {},
   "outputs": [
    {
     "data": {
      "text/plain": [
       "0        HOW many times in the past few months have we ...\n",
       "1        Val Morgan has been an integral part of the UK...\n",
       "2                                                         \n",
       "3        Val Morgan has been an integral part of the UK...\n",
       "4        Joe Biden has chosen U.S. Sen. Kamala D. Harri...\n",
       "                               ...                        \n",
       "49999    Rep. Adam Schiff said Sunday on CBS's \"Face th...\n",
       "50000    Sidney Powell, author of 'Licensed to Lie,' sa...\n",
       "50001    Trump Delivers Remarks on Federal Judicial Con...\n",
       "50002    President Donald Trump delivered remarks on ta...\n",
       "50003    Panelists discuss preparations for the 2020 U....\n",
       "Name: extracted.text, Length: 50004, dtype: object"
      ]
     },
     "execution_count": 29,
     "metadata": {},
     "output_type": "execute_result"
    }
   ],
   "source": [
    "extracted_text=df_src_norm_limited['extracted.text']\n",
    "extracted_text.dropna()"
   ]
  },
  {
   "cell_type": "code",
   "execution_count": 30,
   "metadata": {},
   "outputs": [],
   "source": [
    "count_vect = CountVectorizer(max_df=0.8, min_df=2, stop_words='english')\n",
    "#doc_term_matrix = count_vect.fit_transform(df_src_norm_limited['extracted.text'].values.astype('U'))\n",
    "doc_term_matrix = count_vect.fit_transform(extracted_text.values.astype('U'))\n"
   ]
  },
  {
   "cell_type": "code",
   "execution_count": 31,
   "metadata": {},
   "outputs": [
    {
     "data": {
      "text/plain": [
       "<50004x74205 sparse matrix of type '<class 'numpy.int64'>'\n",
       "\twith 9505526 stored elements in Compressed Sparse Row format>"
      ]
     },
     "execution_count": 31,
     "metadata": {},
     "output_type": "execute_result"
    }
   ],
   "source": [
    "doc_term_matrix"
   ]
  },
  {
   "cell_type": "code",
   "execution_count": 61,
   "metadata": {},
   "outputs": [],
   "source": [
    "# Has 9505526 stored elements size vocabulary in this dataset"
   ]
  },
  {
   "cell_type": "code",
   "execution_count": 32,
   "metadata": {},
   "outputs": [
    {
     "name": "stdout",
     "output_type": "stream",
     "text": [
      "CPU times: user 1h 32min 13s, sys: 2min 6s, total: 1h 34min 20s\n",
      "Wall time: 10min 10s\n"
     ]
    },
    {
     "data": {
      "text/plain": [
       "LatentDirichletAllocation(batch_size=128, doc_topic_prior=None,\n",
       "             evaluate_every=-1, learning_decay=0.7,\n",
       "             learning_method='batch', learning_offset=10.0,\n",
       "             max_doc_update_iter=100, max_iter=10, mean_change_tol=0.001,\n",
       "             n_components=20, n_jobs=None, n_topics=None, perp_tol=0.1,\n",
       "             random_state=42, topic_word_prior=None,\n",
       "             total_samples=1000000.0, verbose=0)"
      ]
     },
     "execution_count": 32,
     "metadata": {},
     "output_type": "execute_result"
    }
   ],
   "source": [
    "%%time\n",
    "\n",
    "# Next, we will use LDA to create topics along with the probability distribution for each word in our vocabulary for each topic. \n",
    "# LatentDirichletAllocation class from the sklearn.decomposition library to perform LDA on our document-term matrix. \n",
    "# The parameter n_components specifies the number of categories, or topics, that we want our text to be divided into. \n",
    "# The parameter random_state (aka the seed) is set to 42\n",
    "# Number of categories is set by n_components\n",
    "\n",
    "LDA = LatentDirichletAllocation(n_components=20, random_state=42)\n",
    "LDA.fit(doc_term_matrix)"
   ]
  },
  {
   "cell_type": "code",
   "execution_count": 33,
   "metadata": {},
   "outputs": [],
   "source": [
    "first_topic = LDA.components_[0]"
   ]
  },
  {
   "cell_type": "code",
   "execution_count": 34,
   "metadata": {},
   "outputs": [
    {
     "name": "stdout",
     "output_type": "stream",
     "text": [
      "CPU times: user 16.8 ms, sys: 20 µs, total: 16.8 ms\n",
      "Wall time: 14.7 ms\n"
     ]
    }
   ],
   "source": [
    "%%time\n",
    "top_topic_words = first_topic.argsort()[-10:]"
   ]
  },
  {
   "cell_type": "code",
   "execution_count": 35,
   "metadata": {},
   "outputs": [
    {
     "name": "stdout",
     "output_type": "stream",
     "text": [
      "workers\n",
      "think\n",
      "work\n",
      "don\n",
      "know\n",
      "going\n",
      "just\n",
      "like\n",
      "people\n",
      "said\n"
     ]
    }
   ],
   "source": [
    "for i in top_topic_words:\n",
    "    print(count_vect.get_feature_names()[i])"
   ]
  },
  {
   "cell_type": "code",
   "execution_count": 36,
   "metadata": {},
   "outputs": [],
   "source": [
    "second_topic = LDA.components_[1]"
   ]
  },
  {
   "cell_type": "code",
   "execution_count": 37,
   "metadata": {},
   "outputs": [
    {
     "name": "stdout",
     "output_type": "stream",
     "text": [
      "CPU times: user 13.4 ms, sys: 128 µs, total: 13.5 ms\n",
      "Wall time: 10.2 ms\n"
     ]
    }
   ],
   "source": [
    "%%time\n",
    "top_topic_words = second_topic.argsort()[-10:]"
   ]
  },
  {
   "cell_type": "code",
   "execution_count": 38,
   "metadata": {},
   "outputs": [
    {
     "name": "stdout",
     "output_type": "stream",
     "text": [
      "sanctuary\n",
      "new\n",
      "local\n",
      "county\n",
      "state\n",
      "said\n",
      "law\n",
      "federal\n",
      "enforcement\n",
      "ice\n"
     ]
    }
   ],
   "source": [
    "for i in top_topic_words:\n",
    "    print(count_vect.get_feature_names()[i])"
   ]
  },
  {
   "cell_type": "code",
   "execution_count": 39,
   "metadata": {},
   "outputs": [
    {
     "name": "stdout",
     "output_type": "stream",
     "text": [
      "Top 10 words for topic #0:\n",
      "['workers', 'think', 'work', 'don', 'know', 'going', 'just', 'like', 'people', 'said']\n",
      "\n",
      "\n",
      "Top 10 words for topic #1:\n",
      "['sanctuary', 'new', 'local', 'county', 'state', 'said', 'law', 'federal', 'enforcement', 'ice']\n",
      "\n",
      "\n",
      "Top 10 words for topic #2:\n",
      "['access', 'news', 'says', 'omar', 'people', 'new', 'com', 'canadian', 'said', 'canada']\n",
      "\n",
      "\n",
      "Top 10 words for topic #3:\n",
      "['medical', 'covid', 'facility', '19', 'health', 'center', 'detainees', 'said', 'ice', 'detention']\n",
      "\n",
      "\n",
      "Top 10 words for topic #4:\n",
      "['debate', 'campaign', 'obama', 'people', 'democrats', 'democratic', 'biden', 'said', 'president', 'trump']\n",
      "\n",
      "\n",
      "Top 10 words for topic #5:\n",
      "['miller', 'posted', 'group', 'like', 'media', 'people', 'new', 'post', 'anti', 'white']\n",
      "\n",
      "\n",
      "Top 10 words for topic #6:\n",
      "['uk', 'kong', '2019', 'hong', 'images', 'reuters', '2020', 'afp', '50', 'getty']\n",
      "\n",
      "\n",
      "Top 10 words for topic #7:\n",
      "['000', 'people', 'homeland', 'enforcement', 'illegal', 'trump', 'administration', 'said', 'security', 'border']\n",
      "\n",
      "\n",
      "Top 10 words for topic #8:\n",
      "['50', 'new', 'arizona', 'protesters', 'said', 'people', 'state', 'police', 'city', '2019']\n",
      "\n",
      "\n",
      "Top 10 words for topic #9:\n",
      "['detention', 'border', 'administration', 'trump', 'parents', 'family', 'ice', 'families', 'said', 'children']\n",
      "\n",
      "\n",
      "Top 10 words for topic #10:\n",
      "['legal', 'year', '000', 'work', 'public', 'visa', 'said', 'new', 'workers', 'immigrants']\n",
      "\n",
      "\n",
      "Top 10 words for topic #11:\n",
      "['order', 'americans', 'world', 'trump', 'people', 'country', 'american', 'countries', 'united', 'states']\n",
      "\n",
      "\n",
      "Top 10 words for topic #12:\n",
      "['europe', 'people', 'right', 'european', 'uk', 'said', 'government', 'eu', 'minister', 'party']\n",
      "\n",
      "\n",
      "Top 10 words for topic #13:\n",
      "['australia', 'schools', 'online', 'new', 'school', 'student', 'international', 'university', 'said', 'students']\n",
      "\n",
      "\n",
      "Top 10 words for topic #14:\n",
      "['old', 'authorities', 'told', 'sign', 'year', 'man', 'arrested', 'police', 'news', 'said']\n",
      "\n",
      "\n",
      "Top 10 words for topic #15:\n",
      "['people', 'rep', 'donald', 'democrats', 'border', 'white', 'house', 'said', 'president', 'trump']\n",
      "\n",
      "\n",
      "Top 10 words for topic #16:\n",
      "['states', 'country', 'tariffs', 'wall', 'said', 'illegal', 'president', 'border', 'mexico', 'trump']\n",
      "\n",
      "\n",
      "Top 10 words for topic #17:\n",
      "['daca', 'cuccinelli', 'senate', 'security', 'administration', 'white', 'house', 'president', 'said', 'trump']\n",
      "\n",
      "\n",
      "Top 10 words for topic #18:\n",
      "['government', 'policy', 'federal', 'cases', 'law', 'case', 'administration', 'judge', 'asylum', 'court']\n",
      "\n",
      "\n",
      "Top 10 words for topic #19:\n",
      "['guatemala', 'year', 'migrant', 'patrol', 'said', 'el', 'asylum', 'mexico', 'migrants', 'border']\n",
      "\n",
      "\n",
      "CPU times: user 16.5 s, sys: 44.4 ms, total: 16.5 s\n",
      "Wall time: 16.4 s\n"
     ]
    }
   ],
   "source": [
    "%%time\n",
    "# 10 words with highest probabilities for all the five topics:\n",
    "\n",
    "\n",
    "for i,topic in enumerate(LDA.components_):\n",
    "    print(f'Top 10 words for topic #{i}:')\n",
    "    print([count_vect.get_feature_names()[i] for i in topic.argsort()[-10:]])\n",
    "    print('\\n')"
   ]
  },
  {
   "cell_type": "code",
   "execution_count": 40,
   "metadata": {},
   "outputs": [
    {
     "data": {
      "text/plain": [
       "(50004, 20)"
      ]
     },
     "execution_count": 40,
     "metadata": {},
     "output_type": "execute_result"
    }
   ],
   "source": [
    "# we will add a column to the original data frame that will store the topic for the text. \n",
    "#To do so, we can use LDA.transform() method and pass it our document-term matrix. \n",
    "#This method will assign the probability of all the topics to each document\n",
    "\n",
    "topic_values = LDA.transform(doc_term_matrix)\n",
    "topic_values.shape"
   ]
  },
  {
   "cell_type": "code",
   "execution_count": 41,
   "metadata": {},
   "outputs": [
    {
     "name": "stdout",
     "output_type": "stream",
     "text": [
      "CPU times: user 10.1 ms, sys: 50 µs, total: 10.1 ms\n",
      "Wall time: 8.45 ms\n"
     ]
    }
   ],
   "source": [
    "%%time\n",
    "#adds a new column for topic in the data frame and assigns the topic value to each row in the column:\n",
    "# To find the topic index with maximum value, we can call the argmax() method and pass 1 as the value for the axis parameter.\n",
    "\n",
    "df_src_norm_limited['Topic'] = topic_values.argmax(axis=1)"
   ]
  },
  {
   "cell_type": "code",
   "execution_count": 42,
   "metadata": {},
   "outputs": [
    {
     "data": {
      "text/html": [
       "<div>\n",
       "<style scoped>\n",
       "    .dataframe tbody tr th:only-of-type {\n",
       "        vertical-align: middle;\n",
       "    }\n",
       "\n",
       "    .dataframe tbody tr th {\n",
       "        vertical-align: top;\n",
       "    }\n",
       "\n",
       "    .dataframe thead th {\n",
       "        text-align: right;\n",
       "    }\n",
       "</style>\n",
       "<table border=\"1\" class=\"dataframe\">\n",
       "  <thead>\n",
       "    <tr style=\"text-align: right;\">\n",
       "      <th></th>\n",
       "      <th>url</th>\n",
       "      <th>extracted.title</th>\n",
       "      <th>extracted.date</th>\n",
       "      <th>extracted.text</th>\n",
       "      <th>metadata.keywords</th>\n",
       "      <th>metadata.description</th>\n",
       "      <th>Topic</th>\n",
       "    </tr>\n",
       "  </thead>\n",
       "  <tbody>\n",
       "    <tr>\n",
       "      <th>0</th>\n",
       "      <td>https://www.conservativewoman.co.uk/whats-the-...</td>\n",
       "      <td>What’s the big worry? Immigration, immigration...</td>\n",
       "      <td>2019-12-07T01:15:00+00:00</td>\n",
       "      <td>HOW many times in the past few months have we ...</td>\n",
       "      <td>[]</td>\n",
       "      <td>What’s the big worry? Immigration, immigration...</td>\n",
       "      <td>12</td>\n",
       "    </tr>\n",
       "    <tr>\n",
       "      <th>1</th>\n",
       "      <td>http://gulfnews.com/business/val-morgan-immigr...</td>\n",
       "      <td>Val Morgan Immigration Advisers: Secure your f...</td>\n",
       "      <td>2019-11-21T00:00:36.623000+04:00</td>\n",
       "      <td>Val Morgan has been an integral part of the UK...</td>\n",
       "      <td>[]</td>\n",
       "      <td>Val Morgan Immigration specialises in UK immig...</td>\n",
       "      <td>10</td>\n",
       "    </tr>\n",
       "    <tr>\n",
       "      <th>2</th>\n",
       "      <td>http://www.immattyllp.com</td>\n",
       "      <td>Immigration Attorneys LLP</td>\n",
       "      <td>None</td>\n",
       "      <td></td>\n",
       "      <td>[]</td>\n",
       "      <td>Immigration Attorneys, LLP - U.S. Immigration ...</td>\n",
       "      <td>0</td>\n",
       "    </tr>\n",
       "    <tr>\n",
       "      <th>3</th>\n",
       "      <td>http://gulfnews.com/business/top-immigration-c...</td>\n",
       "      <td>Top immigration consultants in UAE: Secure you...</td>\n",
       "      <td>2019-11-21T00:00:36.623000+04:00</td>\n",
       "      <td>Val Morgan has been an integral part of the UK...</td>\n",
       "      <td>[]</td>\n",
       "      <td>Val Morgan Immigration specialises in UK immig...</td>\n",
       "      <td>10</td>\n",
       "    </tr>\n",
       "    <tr>\n",
       "      <th>4</th>\n",
       "      <td>http://thehill.com/opinion/immigration/512266-...</td>\n",
       "      <td>The prospect of a Kamala Harris presidency giv...</td>\n",
       "      <td>2020-08-17T11:00:09-04:00</td>\n",
       "      <td>Joe Biden has chosen U.S. Sen. Kamala D. Harri...</td>\n",
       "      <td>[Illegal immigration to the United States, def...</td>\n",
       "      <td>Harris’s immigration policies would encourage ...</td>\n",
       "      <td>4</td>\n",
       "    </tr>\n",
       "  </tbody>\n",
       "</table>\n",
       "</div>"
      ],
      "text/plain": [
       "                                                 url  \\\n",
       "0  https://www.conservativewoman.co.uk/whats-the-...   \n",
       "1  http://gulfnews.com/business/val-morgan-immigr...   \n",
       "2                          http://www.immattyllp.com   \n",
       "3  http://gulfnews.com/business/top-immigration-c...   \n",
       "4  http://thehill.com/opinion/immigration/512266-...   \n",
       "\n",
       "                                     extracted.title  \\\n",
       "0  What’s the big worry? Immigration, immigration...   \n",
       "1  Val Morgan Immigration Advisers: Secure your f...   \n",
       "2                          Immigration Attorneys LLP   \n",
       "3  Top immigration consultants in UAE: Secure you...   \n",
       "4  The prospect of a Kamala Harris presidency giv...   \n",
       "\n",
       "                     extracted.date  \\\n",
       "0         2019-12-07T01:15:00+00:00   \n",
       "1  2019-11-21T00:00:36.623000+04:00   \n",
       "2                              None   \n",
       "3  2019-11-21T00:00:36.623000+04:00   \n",
       "4         2020-08-17T11:00:09-04:00   \n",
       "\n",
       "                                      extracted.text  \\\n",
       "0  HOW many times in the past few months have we ...   \n",
       "1  Val Morgan has been an integral part of the UK...   \n",
       "2                                                      \n",
       "3  Val Morgan has been an integral part of the UK...   \n",
       "4  Joe Biden has chosen U.S. Sen. Kamala D. Harri...   \n",
       "\n",
       "                                   metadata.keywords  \\\n",
       "0                                                 []   \n",
       "1                                                 []   \n",
       "2                                                 []   \n",
       "3                                                 []   \n",
       "4  [Illegal immigration to the United States, def...   \n",
       "\n",
       "                                metadata.description  Topic  \n",
       "0  What’s the big worry? Immigration, immigration...     12  \n",
       "1  Val Morgan Immigration specialises in UK immig...     10  \n",
       "2  Immigration Attorneys, LLP - U.S. Immigration ...      0  \n",
       "3  Val Morgan Immigration specialises in UK immig...     10  \n",
       "4  Harris’s immigration policies would encourage ...      4  "
      ]
     },
     "execution_count": 42,
     "metadata": {},
     "output_type": "execute_result"
    }
   ],
   "source": [
    "df_src_norm_limited.head()"
   ]
  },
  {
   "cell_type": "code",
   "execution_count": 43,
   "metadata": {},
   "outputs": [
    {
     "data": {
      "text/plain": [
       "'Val Morgan has been an integral part of the UK and Dubai’s immigration services sector for the past decade Image Credit: Supplied\\n\\nVal Morgan Immigration Advisers specialises is securing your families future.\\n\\nVal Morgan has been an integral part of the UK and Dubai’s immigration services sector for the past decade.\\n\\nIt is recognised as a premier legal consultant delivering clients visionary life goals to emigrate to some of the worlds most desired locations including the UK, New Zealand, Australia, Europe and Canada.\\n\\nVal Morgan Immigration Advisers specialises in UK immigration under the Overseas Business Representative Programme and the newly announced UK Startup and Innovator visa, which requires minimal investments.\\n\\nAs one of the most renowned international immigration advisers in the region, this year the company became the first law firm in the Middle East and South Asia to receive the Innovator visa approval.\\n\\nFrom a global perspective, Val Morgan was the fifth law firm to receive approval for the Innovator visa programme.\\n\\nVal Morgan Immigration has an office in Dubai and its head office is based in London. It is authorised to provide Immigration services under the UK and the UAE law. Val Morgan Immigration has UK-qualified lawyers and barristers based at its offices in Dubai to provide clients with expert advice.\\n\\nIn addition to this, it has in-house fully dedicated teams for business\\n\\nplanning, documentation and processing.\\n\\nIf you would like to secure your family’s future today, learn more about the company by visiting Vmorgan.co.uk'"
      ]
     },
     "execution_count": 43,
     "metadata": {},
     "output_type": "execute_result"
    }
   ],
   "source": [
    "df_src_norm_limited['extracted.text'][1]"
   ]
  },
  {
   "cell_type": "markdown",
   "metadata": {},
   "source": [
    "# Topic Models Using\n",
    "## Non-Negative Matrix Factorization (NMF)\n",
    "\n",
    "### Non-negative matrix factorization is also a supervised learning technique which performs clustering as well as dimensionality reduction. It can be used in combination with TF-IDF scheme to perform topic modeling.\n"
   ]
  },
  {
   "cell_type": "code",
   "execution_count": 44,
   "metadata": {},
   "outputs": [],
   "source": [
    "from sklearn.feature_extraction.text import TfidfVectorizer\n",
    "\n",
    "tfidf_vect = TfidfVectorizer(max_df=0.8, min_df=2, stop_words='english')\n",
    "doc_term_matrix = tfidf_vect.fit_transform(extracted_text.values.astype('U'))"
   ]
  },
  {
   "cell_type": "code",
   "execution_count": 46,
   "metadata": {},
   "outputs": [
    {
     "name": "stdout",
     "output_type": "stream",
     "text": [
      "CPU times: user 6min 4s, sys: 8.65 s, total: 6min 13s\n",
      "Wall time: 38.6 s\n"
     ]
    },
    {
     "data": {
      "text/plain": [
       "NMF(alpha=0.0, beta_loss='frobenius', init=None, l1_ratio=0.0, max_iter=200,\n",
       "  n_components=20, random_state=42, shuffle=False, solver='cd', tol=0.0001,\n",
       "  verbose=0)"
      ]
     },
     "execution_count": 46,
     "metadata": {},
     "output_type": "execute_result"
    }
   ],
   "source": [
    "%%time\n",
    "\n",
    "from sklearn.decomposition import NMF\n",
    "\n",
    "nmf = NMF(n_components=20, random_state=42)\n",
    "nmf.fit(doc_term_matrix )"
   ]
  },
  {
   "cell_type": "code",
   "execution_count": 47,
   "metadata": {},
   "outputs": [
    {
     "name": "stdout",
     "output_type": "stream",
     "text": [
      "sullying\n",
      "trousers\n",
      "baloch\n",
      "orroral\n",
      "517\n",
      "blanketed\n",
      "vet\n",
      "unifier\n",
      "gotta\n",
      "bearable\n"
     ]
    }
   ],
   "source": [
    "# get random 10 words from the vocabulary\n",
    "\n",
    "import random\n",
    "\n",
    "for i in range(10):\n",
    "    random_id = random.randint(0,len(tfidf_vect.get_feature_names()))\n",
    "    print(tfidf_vect.get_feature_names()[random_id])"
   ]
  },
  {
   "cell_type": "code",
   "execution_count": 48,
   "metadata": {},
   "outputs": [],
   "source": [
    "#retrieve the probability vector of words for the first topic and will retrieve the indexes of the ten words with the highest probabilities\n",
    "\n",
    "first_topic = nmf.components_[0]\n",
    "top_topic_words = first_topic.argsort()[-10:]\n"
   ]
  },
  {
   "cell_type": "code",
   "execution_count": 49,
   "metadata": {},
   "outputs": [
    {
     "name": "stdout",
     "output_type": "stream",
     "text": [
      "senate\n",
      "republicans\n",
      "plan\n",
      "border\n",
      "said\n",
      "democrats\n",
      "white\n",
      "house\n",
      "president\n",
      "trump\n"
     ]
    }
   ],
   "source": [
    "#pull the actual words\n",
    "for i in top_topic_words:\n",
    "    print(tfidf_vect.get_feature_names()[i])"
   ]
  },
  {
   "cell_type": "code",
   "execution_count": 50,
   "metadata": {},
   "outputs": [
    {
     "name": "stdout",
     "output_type": "stream",
     "text": [
      "Top 10 words for topic #0:\n",
      "['senate', 'republicans', 'plan', 'border', 'said', 'democrats', 'white', 'house', 'president', 'trump']\n",
      "\n",
      "\n",
      "Top 10 words for topic #1:\n",
      "['pbs', 'com', 'click', 'headlines', 'daily', 'email', 'news', 'sign', 'breaking', 'subscribe']\n",
      "\n",
      "\n",
      "Top 10 words for topic #2:\n",
      "['use', 'sign', 'understand', 'agree', 'site', 'privacy', 'registration', 'user', 'constitutes', 'agreement']\n",
      "\n",
      "\n",
      "Top 10 words for topic #3:\n",
      "['customs', 'agency', 'arrests', 'arrested', 'agents', 'said', 'operation', 'enforcement', 'raids', 'ice']\n",
      "\n",
      "\n",
      "Top 10 words for topic #4:\n",
      "['topics', 'newsletter', 'news', 'national', 'local', 'sign', 'latest', 'breaking', 'delivered', 'inbox']\n",
      "\n",
      "\n",
      "Top 10 words for topic #5:\n",
      "['guatemala', 'southern', 'united', 'central', 'tariffs', 'mexican', 'asylum', 'migrants', 'border', 'mexico']\n",
      "\n",
      "\n",
      "Top 10 words for topic #6:\n",
      "['petitions', 'custom', 'competitors', 'profession', 'curve', 'motions', 'briefs', 'case', 'access', 'law360']\n",
      "\n",
      "\n",
      "Top 10 words for topic #7:\n",
      "['pbs', 'inbox', 'email', 'breaking', 'll', 'send', 'happen', 'sign', 'news', 'alerts']\n",
      "\n",
      "\n",
      "Top 10 words for topic #8:\n",
      "['britain', 'brexit', 'minister', 'party', 'government', 'people', 'canada', 'eu', 'uk', 'said']\n",
      "\n",
      "\n",
      "Top 10 words for topic #9:\n",
      "['rights', 'press', 'associated', 'published', 'copyright', 'material', 'broadcast', 'reserved', 'redistributed', 'rewritten']\n",
      "\n",
      "\n",
      "Top 10 words for topic #10:\n",
      "['coronavirus', 'facilities', 'said', 'center', '19', 'facility', 'covid', 'ice', 'detention', 'detainees']\n",
      "\n",
      "\n",
      "Top 10 words for topic #11:\n",
      "['illegal', 'police', 'local', 'city', 'enforcement', 'cities', 'state', 'federal', 'law', 'sanctuary']\n",
      "\n",
      "\n",
      "Top 10 words for topic #12:\n",
      "['states', 'foreign', 'immigrants', 'american', 'order', 'americans', 'visa', 'jobs', 'visas', 'workers']\n",
      "\n",
      "\n",
      "Top 10 words for topic #13:\n",
      "['ruling', 'cases', 'seekers', 'courts', 'supreme', 'administration', 'judge', 'judges', 'asylum', 'court']\n",
      "\n",
      "\n",
      "Top 10 words for topic #14:\n",
      "['account', 'plus', 'upgrade', 'log', 'sorry', 'access', 'reading', 'subscriber', 'digital', 'subscription']\n",
      "\n",
      "\n",
      "Top 10 words for topic #15:\n",
      "['leon', 'firm', 'managing', 'partner', 'michael', 'law', 'facebook', 'offices', 'weinberg', 'wildes']\n",
      "\n",
      "\n",
      "Top 10 words for topic #16:\n",
      "['colleges', 'fall', 'student', 'universities', 'classes', 'schools', 'university', 'online', 'international', 'students']\n",
      "\n",
      "\n",
      "Top 10 words for topic #17:\n",
      "['joe', 'president', 'sanders', 'presidential', 'obama', 'candidates', 'castro', 'democratic', 'debate', 'biden']\n",
      "\n",
      "\n",
      "Top 10 words for topic #18:\n",
      "['administration', 'migrant', 'detention', 'child', 'separated', 'family', 'border', 'families', 'parents', 'children']\n",
      "\n",
      "\n",
      "Top 10 words for topic #19:\n",
      "['acting', 'services', 'benefits', 'immigrants', 'citizenship', 'charge', 'public', 'uscis', 'rule', 'cuccinelli']\n",
      "\n",
      "\n"
     ]
    }
   ],
   "source": [
    "#the ten words with highest probabilities for each of the topics:\n",
    "for i,topic in enumerate(nmf.components_):\n",
    "    print(f'Top 10 words for topic #{i}:')\n",
    "    print([tfidf_vect.get_feature_names()[i] for i in topic.argsort()[-10:]])\n",
    "    print('\\n')"
   ]
  },
  {
   "cell_type": "markdown",
   "metadata": {},
   "source": [
    "### Metadata Description\n",
    "\n",
    "Using this field to do topic modeling.\n"
   ]
  },
  {
   "cell_type": "code",
   "execution_count": 51,
   "metadata": {},
   "outputs": [],
   "source": [
    "metadata_description=df_src_norm_limited['metadata.description']"
   ]
  },
  {
   "cell_type": "code",
   "execution_count": 52,
   "metadata": {},
   "outputs": [],
   "source": [
    "from sklearn.feature_extraction.text import TfidfVectorizer\n",
    "\n",
    "tfidf_vect = TfidfVectorizer(max_df=0.8, min_df=2, stop_words='english')\n",
    "doc_term_matrix = tfidf_vect.fit_transform(metadata_description.values.astype('U'))"
   ]
  },
  {
   "cell_type": "code",
   "execution_count": 53,
   "metadata": {},
   "outputs": [
    {
     "data": {
      "text/plain": [
       "NMF(alpha=0.0, beta_loss='frobenius', init=None, l1_ratio=0.0, max_iter=200,\n",
       "  n_components=20, random_state=42, shuffle=False, solver='cd', tol=0.0001,\n",
       "  verbose=0)"
      ]
     },
     "execution_count": 53,
     "metadata": {},
     "output_type": "execute_result"
    }
   ],
   "source": [
    "from sklearn.decomposition import NMF\n",
    "\n",
    "nmf = NMF(n_components=20, random_state=42)\n",
    "nmf.fit(doc_term_matrix )"
   ]
  },
  {
   "cell_type": "code",
   "execution_count": 54,
   "metadata": {},
   "outputs": [
    {
     "name": "stdout",
     "output_type": "stream",
     "text": [
      "careerbuilder\n",
      "ladders\n",
      "colonization\n",
      "fly\n",
      "muddied\n",
      "cite\n",
      "setting\n",
      "georgetown\n",
      "june\n",
      "kicks\n"
     ]
    }
   ],
   "source": [
    "# get random 10 words from the vocabulary\n",
    "\n",
    "import random\n",
    "\n",
    "for i in range(10):\n",
    "    random_id = random.randint(0,len(tfidf_vect.get_feature_names()))\n",
    "    print(tfidf_vect.get_feature_names()[random_id])"
   ]
  },
  {
   "cell_type": "code",
   "execution_count": 55,
   "metadata": {},
   "outputs": [],
   "source": [
    "#retrieve the probability vector of words for the first topic and will retrieve the indexes of the ten words with the highest probabilities\n",
    "\n",
    "first_topic = nmf.components_[0]\n",
    "top_topic_words = first_topic.argsort()[-10:]\n"
   ]
  },
  {
   "cell_type": "code",
   "execution_count": 56,
   "metadata": {},
   "outputs": [
    {
     "name": "stdout",
     "output_type": "stream",
     "text": [
      "campaign\n",
      "hardline\n",
      "said\n",
      "tuesday\n",
      "plan\n",
      "washington\n",
      "policies\n",
      "donald\n",
      "trump\n",
      "president\n"
     ]
    }
   ],
   "source": [
    "#pull the actual words\n",
    "for i in top_topic_words:\n",
    "    print(tfidf_vect.get_feature_names()[i])"
   ]
  },
  {
   "cell_type": "code",
   "execution_count": 57,
   "metadata": {},
   "outputs": [
    {
     "name": "stdout",
     "output_type": "stream",
     "text": [
      "Top 10 words for topic #0:\n",
      "['campaign', 'hardline', 'said', 'tuesday', 'plan', 'washington', 'policies', 'donald', 'trump', 'president']\n",
      "\n",
      "\n",
      "Top 10 words for topic #1:\n",
      "['portland', 'director', 'county', 'custody', 'arrested', 'agents', 'agency', 'ice', 'customs', 'enforcement']\n",
      "\n",
      "\n",
      "Top 10 words for topic #2:\n",
      "['government', 'law', 'san', 'appeals', 'supreme', 'authorities', 'ruled', 'judge', 'court', 'federal']\n",
      "\n",
      "\n",
      "Top 10 words for topic #3:\n",
      "['ron', 'vitiello', 'donald', 'sweeps', 'chicago', 'washington', 'times', 'local', 'latest', 'ap']\n",
      "\n",
      "\n",
      "Top 10 words for topic #4:\n",
      "['crisis', 'policy', 'threatens', 'bringing', 'coordinate', 'shut', 'czar', 'patrol', 'southern', 'border']\n",
      "\n",
      "\n",
      "Top 10 words for topic #5:\n",
      "['workers', 'visas', 'based', 'international', 'plan', 'government', 'city', 'students', 'york', 'new']\n",
      "\n",
      "\n",
      "Top 10 words for topic #6:\n",
      "['deal', 'asylum', 'ap', 'city', 'tariffs', 'american', 'central', 'mexican', 'migrants', 'mexico']\n",
      "\n",
      "\n",
      "Top 10 words for topic #7:\n",
      "['liberty', 'agency', 'statue', 'uscis', 'ken', 'cuccinelli', 'director', 'acting', 'services', 'citizenship']\n",
      "\n",
      "\n",
      "Top 10 words for topic #8:\n",
      "['facilities', 'release', 'held', 'children', 'detainees', 'centers', 'covid', '19', 'center', 'detention']\n",
      "\n",
      "\n",
      "Top 10 words for topic #9:\n",
      "['wednesday', '680', 'raids', 'miss', 'raided', 'officials', 'largest', 'processing', 'plants', 'mississippi']\n",
      "\n",
      "\n",
      "Top 10 words for topic #10:\n",
      "['stephen', 'nielsen', 'line', 'miller', 'secretary', 'white', 'department', 'homeland', 'house', 'security']\n",
      "\n",
      "\n",
      "Top 10 words for topic #11:\n",
      "['police', 'year', 'early', 'armed', 'jail', 'threw', 'state', 'devices', 'incendiary', 'man']\n",
      "\n",
      "\n",
      "Top 10 words for topic #12:\n",
      "['deport', 'temporary', 'millions', 'legal', 'seeking', 'washington', 'illegally', 'announced', 'united', 'states']\n",
      "\n",
      "\n",
      "Top 10 words for topic #13:\n",
      "['qualified', 'nyc', 'michael', 'firm', 'post', 'shared', 'offices', 'weinberg', 'wildes', 'law']\n",
      "\n",
      "\n",
      "Top 10 words for topic #14:\n",
      "['judges', 'policies', 'wait', 'legal', 'children', 'seekers', 'policy', 'asylum', 'trump', 'administration']\n",
      "\n",
      "\n",
      "Top 10 words for topic #15:\n",
      "['including', 'living', 'sweep', 'said', 'nationwide', 'families', 'deport', 'country', 'illegally', 'people']\n",
      "\n",
      "\n",
      "Top 10 words for topic #16:\n",
      "['suspending', 'pandemic', 'said', 'sign', 'monday', 'suspend', 'coronavirus', 'temporarily', 'executive', 'order']\n",
      "\n",
      "\n",
      "Top 10 words for topic #17:\n",
      "['says', 'country', 'stop', 'america', 'undocumented', 'sanctuary', 'legal', 'aliens', 'immigrants', 'illegal']\n",
      "\n",
      "\n",
      "Top 10 words for topic #18:\n",
      "['iv', 'drips', 'ap', 'indian', 'facility', 'seeking', 'asylum', 'paso', 'el', 'texas']\n",
      "\n",
      "\n",
      "Top 10 words for topic #19:\n",
      "['candidate', '2020', 'candidates', 'joe', 'care', 'health', 'biden', 'debate', 'presidential', 'democratic']\n",
      "\n",
      "\n"
     ]
    }
   ],
   "source": [
    "#the ten words with highest probabilities for each of the topics:\n",
    "for i,topic in enumerate(nmf.components_):\n",
    "    print(f'Top 10 words for topic #{i}:')\n",
    "    print([tfidf_vect.get_feature_names()[i] for i in topic.argsort()[-10:]])\n",
    "    print('\\n')"
   ]
  },
  {
   "cell_type": "markdown",
   "metadata": {},
   "source": [
    "### Keywords\n"
   ]
  },
  {
   "cell_type": "code",
   "execution_count": 58,
   "metadata": {},
   "outputs": [],
   "source": [
    "metadata_keywords=df_src_norm_limited['metadata.keywords']"
   ]
  },
  {
   "cell_type": "code",
   "execution_count": 59,
   "metadata": {},
   "outputs": [],
   "source": [
    "from sklearn.feature_extraction.text import TfidfVectorizer\n",
    "\n",
    "tfidf_vect = TfidfVectorizer(max_df=0.8, min_df=2, stop_words='english')\n",
    "doc_term_matrix = tfidf_vect.fit_transform(metadata_description.values.astype('U'))"
   ]
  },
  {
   "cell_type": "code",
   "execution_count": 60,
   "metadata": {},
   "outputs": [
    {
     "data": {
      "text/plain": [
       "NMF(alpha=0.0, beta_loss='frobenius', init=None, l1_ratio=0.0, max_iter=200,\n",
       "  n_components=20, random_state=42, shuffle=False, solver='cd', tol=0.0001,\n",
       "  verbose=0)"
      ]
     },
     "execution_count": 60,
     "metadata": {},
     "output_type": "execute_result"
    }
   ],
   "source": [
    "from sklearn.decomposition import NMF\n",
    "\n",
    "nmf = NMF(n_components=20, random_state=42)\n",
    "nmf.fit(doc_term_matrix )"
   ]
  },
  {
   "cell_type": "code",
   "execution_count": 61,
   "metadata": {},
   "outputs": [
    {
     "name": "stdout",
     "output_type": "stream",
     "text": [
      "permission\n",
      "hatchet\n",
      "libertarians\n",
      "mixes\n",
      "hhs\n",
      "nod\n",
      "preaches\n",
      "patricia\n",
      "straws\n",
      "prosperous\n"
     ]
    }
   ],
   "source": [
    "# get random 10 words from the vocabulary\n",
    "\n",
    "import random\n",
    "\n",
    "for i in range(10):\n",
    "    random_id = random.randint(0,len(tfidf_vect.get_feature_names()))\n",
    "    print(tfidf_vect.get_feature_names()[random_id])"
   ]
  },
  {
   "cell_type": "code",
   "execution_count": 62,
   "metadata": {},
   "outputs": [],
   "source": [
    "#retrieve the probability vector of words for the first topic and will retrieve the indexes of the ten words with the highest probabilities\n",
    "\n",
    "first_topic = nmf.components_[0]\n",
    "top_topic_words = first_topic.argsort()[-10:]\n"
   ]
  },
  {
   "cell_type": "code",
   "execution_count": 63,
   "metadata": {},
   "outputs": [
    {
     "name": "stdout",
     "output_type": "stream",
     "text": [
      "campaign\n",
      "hardline\n",
      "said\n",
      "tuesday\n",
      "plan\n",
      "washington\n",
      "policies\n",
      "donald\n",
      "trump\n",
      "president\n"
     ]
    }
   ],
   "source": [
    "#pull the actual words\n",
    "for i in top_topic_words:\n",
    "    print(tfidf_vect.get_feature_names()[i])"
   ]
  },
  {
   "cell_type": "code",
   "execution_count": 64,
   "metadata": {},
   "outputs": [
    {
     "name": "stdout",
     "output_type": "stream",
     "text": [
      "Top 10 words for topic #0:\n",
      "['campaign', 'hardline', 'said', 'tuesday', 'plan', 'washington', 'policies', 'donald', 'trump', 'president']\n",
      "\n",
      "\n",
      "Top 10 words for topic #1:\n",
      "['portland', 'director', 'county', 'custody', 'arrested', 'agents', 'agency', 'ice', 'customs', 'enforcement']\n",
      "\n",
      "\n",
      "Top 10 words for topic #2:\n",
      "['government', 'law', 'san', 'appeals', 'supreme', 'authorities', 'ruled', 'judge', 'court', 'federal']\n",
      "\n",
      "\n",
      "Top 10 words for topic #3:\n",
      "['ron', 'vitiello', 'donald', 'sweeps', 'chicago', 'washington', 'times', 'local', 'latest', 'ap']\n",
      "\n",
      "\n",
      "Top 10 words for topic #4:\n",
      "['crisis', 'policy', 'threatens', 'bringing', 'coordinate', 'shut', 'czar', 'patrol', 'southern', 'border']\n",
      "\n",
      "\n",
      "Top 10 words for topic #5:\n",
      "['workers', 'visas', 'based', 'international', 'plan', 'government', 'city', 'students', 'york', 'new']\n",
      "\n",
      "\n",
      "Top 10 words for topic #6:\n",
      "['deal', 'asylum', 'ap', 'city', 'tariffs', 'american', 'central', 'mexican', 'migrants', 'mexico']\n",
      "\n",
      "\n",
      "Top 10 words for topic #7:\n",
      "['liberty', 'agency', 'statue', 'uscis', 'ken', 'cuccinelli', 'director', 'acting', 'services', 'citizenship']\n",
      "\n",
      "\n",
      "Top 10 words for topic #8:\n",
      "['facilities', 'release', 'held', 'children', 'detainees', 'centers', 'covid', '19', 'center', 'detention']\n",
      "\n",
      "\n",
      "Top 10 words for topic #9:\n",
      "['wednesday', '680', 'raids', 'miss', 'raided', 'officials', 'largest', 'processing', 'plants', 'mississippi']\n",
      "\n",
      "\n",
      "Top 10 words for topic #10:\n",
      "['stephen', 'nielsen', 'line', 'miller', 'secretary', 'white', 'department', 'homeland', 'house', 'security']\n",
      "\n",
      "\n",
      "Top 10 words for topic #11:\n",
      "['police', 'year', 'early', 'armed', 'jail', 'threw', 'state', 'devices', 'incendiary', 'man']\n",
      "\n",
      "\n",
      "Top 10 words for topic #12:\n",
      "['deport', 'temporary', 'millions', 'legal', 'seeking', 'washington', 'illegally', 'announced', 'united', 'states']\n",
      "\n",
      "\n",
      "Top 10 words for topic #13:\n",
      "['qualified', 'nyc', 'michael', 'firm', 'post', 'shared', 'offices', 'weinberg', 'wildes', 'law']\n",
      "\n",
      "\n",
      "Top 10 words for topic #14:\n",
      "['judges', 'policies', 'wait', 'legal', 'children', 'seekers', 'policy', 'asylum', 'trump', 'administration']\n",
      "\n",
      "\n",
      "Top 10 words for topic #15:\n",
      "['including', 'living', 'sweep', 'said', 'nationwide', 'families', 'deport', 'country', 'illegally', 'people']\n",
      "\n",
      "\n",
      "Top 10 words for topic #16:\n",
      "['suspending', 'pandemic', 'said', 'sign', 'monday', 'suspend', 'coronavirus', 'temporarily', 'executive', 'order']\n",
      "\n",
      "\n",
      "Top 10 words for topic #17:\n",
      "['says', 'country', 'stop', 'america', 'undocumented', 'sanctuary', 'legal', 'aliens', 'immigrants', 'illegal']\n",
      "\n",
      "\n",
      "Top 10 words for topic #18:\n",
      "['iv', 'drips', 'ap', 'indian', 'facility', 'seeking', 'asylum', 'paso', 'el', 'texas']\n",
      "\n",
      "\n",
      "Top 10 words for topic #19:\n",
      "['candidate', '2020', 'candidates', 'joe', 'care', 'health', 'biden', 'debate', 'presidential', 'democratic']\n",
      "\n",
      "\n"
     ]
    }
   ],
   "source": [
    "#the ten words with highest probabilities for each of the topics:\n",
    "for i,topic in enumerate(nmf.components_):\n",
    "    print(f'Top 10 words for topic #{i}:')\n",
    "    print([tfidf_vect.get_feature_names()[i] for i in topic.argsort()[-10:]])\n",
    "    print('\\n')"
   ]
  },
  {
   "cell_type": "code",
   "execution_count": null,
   "metadata": {},
   "outputs": [],
   "source": []
  }
 ],
 "metadata": {
  "kernelspec": {
   "display_name": "Python 3",
   "language": "python",
   "name": "python3"
  },
  "language_info": {
   "codemirror_mode": {
    "name": "ipython",
    "version": 3
   },
   "file_extension": ".py",
   "mimetype": "text/x-python",
   "name": "python",
   "nbconvert_exporter": "python",
   "pygments_lexer": "ipython3",
   "version": "3.7.6"
  }
 },
 "nbformat": 4,
 "nbformat_minor": 4
}
