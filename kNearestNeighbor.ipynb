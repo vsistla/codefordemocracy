{
 "cells": [
  {
   "cell_type": "code",
   "execution_count": null,
   "metadata": {},
   "outputs": [],
   "source": []
  },
  {
   "cell_type": "markdown",
   "metadata": {},
   "source": [
    "# Using KNearest Neighbour and brute force algorithm, for a given article, we should be able to recommend top 10 articles that are closest to that article. "
   ]
  },
  {
   "cell_type": "code",
   "execution_count": 8,
   "metadata": {},
   "outputs": [],
   "source": [
    "import json \n",
    "import pandas as pd\n",
    "import numpy as np\n",
    "from pandas.io.json import json_normalize #package for flattening json in pandas df\n",
    "from sklearn.feature_extraction.text import CountVectorizer\n",
    "from sklearn.feature_extraction.text import TfidfVectorizer\n",
    "from sklearn.neighbors import NearestNeighbors"
   ]
  },
  {
   "cell_type": "code",
   "execution_count": 3,
   "metadata": {},
   "outputs": [
    {
     "name": "stderr",
     "output_type": "stream",
     "text": [
      "/opt/conda/lib/python3.7/site-packages/ipykernel_launcher.py:5: FutureWarning: pandas.io.json.json_normalize is deprecated, use pandas.json_normalize instead\n",
      "  \"\"\"\n"
     ]
    },
    {
     "name": "stdout",
     "output_type": "stream",
     "text": [
      "CPU times: user 45.2 s, sys: 1.49 s, total: 46.7 s\n",
      "Wall time: 46.7 s\n"
     ]
    }
   ],
   "source": [
    "%%time\n",
    "\n",
    "#df = pd.read_json(r'/opt/models/codefordemocracy/data/immi_articles.json', orient='columns')\n",
    "df = pd.read_json(r'/opt/trainml/input/immigration_articles.json/immigration_articles.json', orient='columns')\n",
    "df_clean= df.drop(['_id','_score', '_type'], axis=1)\n",
    "df_src=df.drop(['_index','_id','_score', '_type'], axis=1)\n",
    "df_src_norm = json_normalize(df_src['_source'])\n",
    "df_src_norm_limited=df_src_norm.filter(items=['url', 'site_name','extracted.title', 'extracted.date', 'extracted.text', 'metadata.keywords', 'metadata.description'])\n"
   ]
  },
  {
   "cell_type": "code",
   "execution_count": 4,
   "metadata": {},
   "outputs": [
    {
     "name": "stdout",
     "output_type": "stream",
     "text": [
      "CPU times: user 20.7 ms, sys: 0 ns, total: 20.7 ms\n",
      "Wall time: 19.3 ms\n"
     ]
    },
    {
     "data": {
      "text/plain": [
       "0        HOW many times in the past few months have we ...\n",
       "1        Val Morgan has been an integral part of the UK...\n",
       "2                                                         \n",
       "3        Val Morgan has been an integral part of the UK...\n",
       "4        Joe Biden has chosen U.S. Sen. Kamala D. Harri...\n",
       "                               ...                        \n",
       "49999    Rep. Adam Schiff said Sunday on CBS's \"Face th...\n",
       "50000    Sidney Powell, author of 'Licensed to Lie,' sa...\n",
       "50001    Trump Delivers Remarks on Federal Judicial Con...\n",
       "50002    President Donald Trump delivered remarks on ta...\n",
       "50003    Panelists discuss preparations for the 2020 U....\n",
       "Name: extracted.text, Length: 50004, dtype: object"
      ]
     },
     "execution_count": 4,
     "metadata": {},
     "output_type": "execute_result"
    }
   ],
   "source": [
    "%%time\n",
    "\n",
    "\n",
    "extracted_text=df_src_norm_limited['extracted.text']\n",
    "extracted_text.dropna()\n",
    "#include only those words that appear in less than max_df = 80% of the documents\n",
    "\n",
    "\n"
   ]
  },
  {
   "cell_type": "code",
   "execution_count": 20,
   "metadata": {},
   "outputs": [
    {
     "data": {
      "text/plain": [
       "<50004x31897 sparse matrix of type '<class 'numpy.int64'>'\n",
       "\twith 9346374 stored elements in Compressed Sparse Row format>"
      ]
     },
     "execution_count": 20,
     "metadata": {},
     "output_type": "execute_result"
    }
   ],
   "source": [
    "count_vect = CountVectorizer(max_df=0.7, min_df=10, stop_words='english')\n",
    "#count_vect = CountVectorizer(max_df=0.8, min_df=2, stop_words=my_stop_words)\n",
    "\n",
    "#doc_term_matrix = count_vect.fit_transform(df_src_norm_limited['extracted.text'].values.astype('U'))\n",
    "doc_term_matrix = count_vect.fit_transform(extracted_text.values.astype('U'))\n",
    "\n",
    "doc_term_matrix"
   ]
  },
  {
   "cell_type": "code",
   "execution_count": 21,
   "metadata": {},
   "outputs": [
    {
     "data": {
      "text/plain": [
       "NearestNeighbors(algorithm='brute', metric='euclidean')"
      ]
     },
     "execution_count": 21,
     "metadata": {},
     "output_type": "execute_result"
    }
   ],
   "source": [
    "from sklearn.neighbors import NearestNeighbors\n",
    "\n",
    "model = NearestNeighbors(metric='euclidean', algorithm='brute')\n",
    "model.fit(doc_term_matrix)"
   ]
  },
  {
   "cell_type": "markdown",
   "metadata": {},
   "source": [
    "## Here are passing one article - doc_term_matrix[i] and getting back top n neighbors. "
   ]
  },
  {
   "cell_type": "code",
   "execution_count": 22,
   "metadata": {},
   "outputs": [],
   "source": [
    "distances, indices = model.kneighbors(doc_term_matrix[0], n_neighbors=10) # 1st arg: word count vector"
   ]
  },
  {
   "cell_type": "code",
   "execution_count": 23,
   "metadata": {},
   "outputs": [
    {
     "name": "stdout",
     "output_type": "stream",
     "text": [
      "[[ 0.         29.68164416 30.69201851 30.69201851 32.04684072 32.31098884\n",
      "  32.40370349 32.49615362 32.92415527 33.61547263]]\n"
     ]
    }
   ],
   "source": [
    "#print (doc_term_matrix.join(neighbors, on='id').sort('distance')[['id','name','distance']])\n",
    "print(distances)"
   ]
  },
  {
   "cell_type": "code",
   "execution_count": 15,
   "metadata": {},
   "outputs": [
    {
     "name": "stdout",
     "output_type": "stream",
     "text": [
      "[[    0   508 22632 22943 42559 17544 19351 45024 49568 36827]]\n"
     ]
    }
   ],
   "source": [
    "print (indices)"
   ]
  },
  {
   "cell_type": "code",
   "execution_count": 18,
   "metadata": {},
   "outputs": [
    {
     "name": "stdout",
     "output_type": "stream",
     "text": [
      "Care workers and nurses from overseas should be exempt from salary caps in the Government's new points-based immigration system after Brexit, say two thirds of the public.\n",
      "\n",
      "An ICMP poll for think tank British Future found some 63 per cent of people said that there should be exceptions to a salary threshold for people moving to the UK to do important jobs that need doing, such as nurses and care workers.\n",
      "\n",
      "That sentiment was shared across political divides, with agreement from 62 per cent of 2019 Conservative voters and 67 per cent of Labour voters; 58 per cent of Leave voters and 73 per cent of Remain voters.\n",
      "\n",
      "It is the key area where the public divides from ministers. More than three-quarters of the public would be happy for the numbers of high-skilled workers coming to the UK from the EU (79 per cent) or outside the EU (77 per cent) to stay the same or increase.\n",
      "\n",
      "Some 64 per cent would like to see the numbers of international students coming to the UK either remain the same or increase.\n",
      "\n",
      "A majority (51 per cent) of people would like to reduce the amount of lower-skilled EU migration to the UK. The Government has proposed ending low skilled migration when free movement in the EU is scrapped at the end of this year.\n",
      "\n",
      "The research also found that immigration was no longer “top of the mind” of voters, having dropped from the number one issue during the EU referendum in 2016 to ninth of ten, with the NHS and Brexit at the top.\n",
      "\n",
      "British Future says this provides a chance to “reset” immigration policy with a more pragmatic and constructive approach without the level of tension seen during the referendum.\n"
     ]
    }
   ],
   "source": [
    "print(extracted_text[22632])"
   ]
  },
  {
   "cell_type": "markdown",
   "metadata": {},
   "source": [
    "# Implementing TF-IDF\n",
    "\n",
    "## To retrieve articles that are more relevant, we should focus more on rare words that don't happen in every article. TF-IDF (term frequency–inverse document frequency) is a feature representation that penalizes words that are too common. Let us load in the TF-IDF vectors and repeat the nearest neighbor search."
   ]
  },
  {
   "cell_type": "code",
   "execution_count": 5,
   "metadata": {},
   "outputs": [],
   "source": [
    "vectorizer = TfidfVectorizer()\n",
    "tfidf_vector = vectorizer.fit_transform(extracted_text)\n"
   ]
  },
  {
   "cell_type": "code",
   "execution_count": 6,
   "metadata": {},
   "outputs": [
    {
     "data": {
      "text/plain": [
       "(50004, 129090)"
      ]
     },
     "execution_count": 6,
     "metadata": {},
     "output_type": "execute_result"
    }
   ],
   "source": [
    "tfidf_vector.shape"
   ]
  },
  {
   "cell_type": "code",
   "execution_count": 10,
   "metadata": {},
   "outputs": [
    {
     "name": "stdout",
     "output_type": "stream",
     "text": [
      "CPU times: user 38.2 ms, sys: 11.9 ms, total: 50.1 ms\n",
      "Wall time: 47.4 ms\n"
     ]
    },
    {
     "data": {
      "text/plain": [
       "NearestNeighbors(algorithm='brute', metric='euclidean')"
      ]
     },
     "execution_count": 10,
     "metadata": {},
     "output_type": "execute_result"
    }
   ],
   "source": [
    "%%time\n",
    "model_tf_idf = NearestNeighbors(metric='euclidean', algorithm='brute')\n",
    "model_tf_idf.fit(tfidf_vector)"
   ]
  },
  {
   "cell_type": "code",
   "execution_count": 15,
   "metadata": {},
   "outputs": [],
   "source": [
    "tf_distances, tf_indices = model_tf_idf.kneighbors(tfidf_vector[0], n_neighbors=10)"
   ]
  },
  {
   "cell_type": "code",
   "execution_count": 16,
   "metadata": {},
   "outputs": [
    {
     "name": "stdout",
     "output_type": "stream",
     "text": [
      "[[    0   508 17544 22943 22632  8909 19755 39906 45093 40580]]\n"
     ]
    }
   ],
   "source": [
    "print (tf_indices)"
   ]
  },
  {
   "cell_type": "code",
   "execution_count": 17,
   "metadata": {},
   "outputs": [
    {
     "name": "stdout",
     "output_type": "stream",
     "text": [
      "[[0.         0.77291921 0.85913338 0.87155565 0.87155565 0.87890538\n",
      "  0.89874159 0.9045648  0.90524147 0.90653462]]\n"
     ]
    }
   ],
   "source": [
    "print(tf_distances)"
   ]
  },
  {
   "cell_type": "code",
   "execution_count": 24,
   "metadata": {},
   "outputs": [
    {
     "name": "stdout",
     "output_type": "stream",
     "text": [
      "Almost two-thirds of Britons are still concerned about their country’s high levels of immigration, citing pressure on the National Health Service (NHS) and schools as especially worrying.\n",
      "\n",
      "Deltapoll research commissioned by the Migration Watch UK think tank found that some 65 per cent of Britons “agree that recent levels of overseas net migration to the UK are a source of major concern for the public”, compared to just 22 per cent who think is not.\n",
      "\n",
      "A majority of supporters of the Conservative Party, opposition Labour Party, and even the left-progressive Liberal Democrats which the Labour Party would likely have to rely on to form a government in the event of a hung parliament after national elections in December, all told pollsters immigration was a cause of “substantial concern”.\n",
      "\n",
      "The majority among Conservative supporters was 75 per cent, among Labour supporters 62 per cent, and among Lib Dem voters 53 per cent.\n",
      "\n",
      "By region, 65 per cent of respondents even in the hyper-diverse, multicultural capital of London said immigration levels were a cause for concern\n",
      "\n",
      "So did 60 per cent of respondents in Scotland, where the regional government is led by a left-separatist Scottish National Party (SNP) which claims to need “more migration to our country, not less” to replace a “native population [which] is declining”.\n",
      "\n",
      "SNP: Scotland Needs ‘More Migration’ to Replace Declining ‘Native Population’ https://t.co/yWy8jRqq5F — Breitbart London (@BreitbartLondon) October 22, 2019\n",
      "\n",
      "Among Brits who voted to Leave the European Union in 2016, a massive 81 per cent said immigration was a cause for public concern — but so did a majority of Remain supporters (52 per cent), as well as voters in the 18-24-year-old demographic (53 per cent) which the mainstream media has generally presented as having a near-universally positive view of open borders.\n",
      "\n",
      "“Increasingly in recent months we have heard from politicians and those who benefit from high levels of immigration that the public is no longer concerned about this. This is simply not true,” commented Alp Mehmet, Chairman of Migration Watch UK, in a press release received by Breitbart London.\n",
      "\n",
      "“The Deltapoll findings both pour ice cold water on the claim and show how grossly out of touch the politicians are with the voters. Will either of the two principal aspirants for the keys to Number 10 have the courage to commit to giving the public what it wants, a substantial reduction in immigration? I have my doubts.”\n",
      "\n",
      "Immigration is an overall COST to public finances Those who don't want more of the public to know the truth will imply that it is 'xenophobic' to recognise this basic fact https://t.co/bQWvI09MWc — Migration Watch UK – The voice of 30 million (@MigrationWatch) December 6, 2019\n",
      "\n",
      "While the Labour Party led by 70-year-old socialist Jeremy Corbyn voted to retain Free Movement immigration from the European Union and extend it globally at its annual conference — and to shut down detention centres and give the vote to non-citizens as well — the governing Conservative Party has at least claimed to be interested in bringing immigration under control.\n",
      "\n",
      "The party pledged to reduce the net inflow from “the hundreds of thousands of thousands to the tens of thousands” ahead of the 2010, 2015, and 2017 general elections, but has failed completely, with non-EU immigration — which is almost entirely under national control — having risen to near-record levels in the latest statistics.\n",
      "\n",
      "Former Chancellor of the Exchequer George Osborne revealed that senior Tories “[never supported] the pledge in private and all would be glad to see the back of [it]” in 2017, openly admitting that the government “could” have reduced non-EU immigration but chose not to.\n",
      "\n",
      "Current prime minister and Tory leader Boris Johnson has now dropped the “tens of thousands” pledge, refused to commit to an annual cap on immigration, and even hinted that he will give an amnesty to illegal aliens — which he long-advocated in former roles as Mayor of London and as Foreign Secretary in Theresa May’s Cabinet.\n",
      "\n",
      "Migration Watch Slams Boris Plan to Give Amnesty to Illegal Aliens: 'Manna for Traffickers' https://t.co/KPTexhaX3B — Breitbart London (@BreitbartLondon) July 6, 2019\n",
      "\n",
      "Follow Jack Montgomery on Twitter: @JackBMontgomery\n"
     ]
    }
   ],
   "source": [
    "print(extracted_text[17544])"
   ]
  },
  {
   "cell_type": "markdown",
   "metadata": {},
   "source": [
    "### Note: Both word-count features and TF-IDF are proportional to word frequencies. While TF-IDF penalizes very common words, longer articles tend to have longer TF-IDF vectors simply because they have more words in them. To remove this bias, we turn to cosine distances:"
   ]
  },
  {
   "cell_type": "markdown",
   "metadata": {},
   "source": [
    "## Cosine Similarity\n",
    "\n",
    "### Cosine distances let us compare word distributions of two articles of varying lengths. Let us train a new nearest neighbor model, this time with cosine distances."
   ]
  },
  {
   "cell_type": "code",
   "execution_count": 27,
   "metadata": {},
   "outputs": [],
   "source": [
    "model2_tf_idf = NearestNeighbors(algorithm='brute', metric='cosine')\n",
    "model2_tf_idf.fit(tfidf_vector)\n",
    "cs_distances, cs_indices = model2_tf_idf.kneighbors(tfidf_vector[0], n_neighbors=10)"
   ]
  },
  {
   "cell_type": "code",
   "execution_count": 28,
   "metadata": {},
   "outputs": [
    {
     "name": "stdout",
     "output_type": "stream",
     "text": [
      "[[    0   508 17544 22632 22943  8909 19755 39906 45093 40580]]\n"
     ]
    }
   ],
   "source": [
    "print (cs_indices)"
   ]
  },
  {
   "cell_type": "code",
   "execution_count": null,
   "metadata": {},
   "outputs": [],
   "source": [
    "## For, there is no major difference in results between Cosine Similarity and TF-IDF. Need to do "
   ]
  }
 ],
 "metadata": {
  "kernelspec": {
   "display_name": "Python 3",
   "language": "python",
   "name": "python3"
  },
  "language_info": {
   "codemirror_mode": {
    "name": "ipython",
    "version": 3
   },
   "file_extension": ".py",
   "mimetype": "text/x-python",
   "name": "python",
   "nbconvert_exporter": "python",
   "pygments_lexer": "ipython3",
   "version": "3.7.7"
  }
 },
 "nbformat": 4,
 "nbformat_minor": 4
}
