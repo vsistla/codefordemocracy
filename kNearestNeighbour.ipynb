{
 "cells": [
  {
   "cell_type": "code",
   "execution_count": null,
   "metadata": {},
   "outputs": [],
   "source": []
  },
  {
   "cell_type": "markdown",
   "metadata": {},
   "source": [
    "# Using KNearest Neighbour and brute force algorithm, for a given article, we should be able to recommend top 10 articles that are closest to that article. "
   ]
  },
  {
   "cell_type": "code",
   "execution_count": 7,
   "metadata": {},
   "outputs": [],
   "source": [
    "import json \n",
    "import pandas as pd\n",
    "import numpy as np\n",
    "from pandas.io.json import json_normalize #package for flattening json in pandas df\n",
    "from sklearn.feature_extraction.text import CountVectorizer\n"
   ]
  },
  {
   "cell_type": "code",
   "execution_count": 5,
   "metadata": {},
   "outputs": [
    {
     "name": "stderr",
     "output_type": "stream",
     "text": [
      "/opt/conda/lib/python3.7/site-packages/ipykernel_launcher.py:5: FutureWarning: pandas.io.json.json_normalize is deprecated, use pandas.json_normalize instead\n",
      "  \"\"\"\n"
     ]
    },
    {
     "name": "stdout",
     "output_type": "stream",
     "text": [
      "CPU times: user 45.8 s, sys: 1.63 s, total: 47.4 s\n",
      "Wall time: 47.5 s\n"
     ]
    }
   ],
   "source": [
    "%%time\n",
    "\n",
    "#df = pd.read_json(r'/opt/models/codefordemocracy/data/immi_articles.json', orient='columns')\n",
    "df = pd.read_json(r'/opt/trainml/input/immigration_articles.json/immigration_articles.json', orient='columns')\n",
    "df_clean= df.drop(['_id','_score', '_type'], axis=1)\n",
    "df_src=df.drop(['_index','_id','_score', '_type'], axis=1)\n",
    "df_src_norm = json_normalize(df_src['_source'])\n",
    "df_src_norm_limited=df_src_norm.filter(items=['url', 'site_name','extracted.title', 'extracted.date', 'extracted.text', 'metadata.keywords', 'metadata.description'])\n"
   ]
  },
  {
   "cell_type": "code",
   "execution_count": 8,
   "metadata": {},
   "outputs": [
    {
     "name": "stdout",
     "output_type": "stream",
     "text": [
      "CPU times: user 36.2 s, sys: 6.7 s, total: 42.9 s\n",
      "Wall time: 42.9 s\n"
     ]
    },
    {
     "data": {
      "text/plain": [
       "<50004x31897 sparse matrix of type '<class 'numpy.int64'>'\n",
       "\twith 9346374 stored elements in Compressed Sparse Row format>"
      ]
     },
     "execution_count": 8,
     "metadata": {},
     "output_type": "execute_result"
    }
   ],
   "source": [
    "%%time\n",
    "\n",
    "\n",
    "extracted_text=df_src_norm_limited['extracted.text']\n",
    "extracted_text.dropna()\n",
    "#include only those words that appear in less than max_df = 80% of the documents\n",
    "\n",
    "\n",
    "count_vect = CountVectorizer(max_df=0.7, min_df=10, stop_words='english')\n",
    "#count_vect = CountVectorizer(max_df=0.8, min_df=2, stop_words=my_stop_words)\n",
    "\n",
    "#doc_term_matrix = count_vect.fit_transform(df_src_norm_limited['extracted.text'].values.astype('U'))\n",
    "doc_term_matrix = count_vect.fit_transform(extracted_text.values.astype('U'))\n",
    "\n",
    "doc_term_matrix"
   ]
  },
  {
   "cell_type": "code",
   "execution_count": 9,
   "metadata": {},
   "outputs": [
    {
     "data": {
      "text/plain": [
       "NearestNeighbors(algorithm='brute', metric='euclidean')"
      ]
     },
     "execution_count": 9,
     "metadata": {},
     "output_type": "execute_result"
    }
   ],
   "source": [
    "from sklearn.neighbors import NearestNeighbors\n",
    "\n",
    "model = NearestNeighbors(metric='euclidean', algorithm='brute')\n",
    "model.fit(doc_term_matrix)"
   ]
  },
  {
   "cell_type": "markdown",
   "metadata": {},
   "source": [
    "## Here are passing one article - doc_term_matrix[i] and getting back top n neighbors. "
   ]
  },
  {
   "cell_type": "code",
   "execution_count": 10,
   "metadata": {},
   "outputs": [],
   "source": [
    "distances, indices = model.kneighbors(doc_term_matrix[0], n_neighbors=10) # 1st arg: word count vector"
   ]
  },
  {
   "cell_type": "code",
   "execution_count": 13,
   "metadata": {},
   "outputs": [],
   "source": [
    "#print (doc_term_matrix.join(neighbors, on='id').sort('distance')[['id','name','distance']])"
   ]
  },
  {
   "cell_type": "code",
   "execution_count": 15,
   "metadata": {},
   "outputs": [
    {
     "name": "stdout",
     "output_type": "stream",
     "text": [
      "[[    0   508 22632 22943 42559 17544 19351 45024 49568 36827]]\n"
     ]
    }
   ],
   "source": [
    "print (indices)"
   ]
  },
  {
   "cell_type": "code",
   "execution_count": 18,
   "metadata": {},
   "outputs": [
    {
     "name": "stdout",
     "output_type": "stream",
     "text": [
      "Care workers and nurses from overseas should be exempt from salary caps in the Government's new points-based immigration system after Brexit, say two thirds of the public.\n",
      "\n",
      "An ICMP poll for think tank British Future found some 63 per cent of people said that there should be exceptions to a salary threshold for people moving to the UK to do important jobs that need doing, such as nurses and care workers.\n",
      "\n",
      "That sentiment was shared across political divides, with agreement from 62 per cent of 2019 Conservative voters and 67 per cent of Labour voters; 58 per cent of Leave voters and 73 per cent of Remain voters.\n",
      "\n",
      "It is the key area where the public divides from ministers. More than three-quarters of the public would be happy for the numbers of high-skilled workers coming to the UK from the EU (79 per cent) or outside the EU (77 per cent) to stay the same or increase.\n",
      "\n",
      "Some 64 per cent would like to see the numbers of international students coming to the UK either remain the same or increase.\n",
      "\n",
      "A majority (51 per cent) of people would like to reduce the amount of lower-skilled EU migration to the UK. The Government has proposed ending low skilled migration when free movement in the EU is scrapped at the end of this year.\n",
      "\n",
      "The research also found that immigration was no longer “top of the mind” of voters, having dropped from the number one issue during the EU referendum in 2016 to ninth of ten, with the NHS and Brexit at the top.\n",
      "\n",
      "British Future says this provides a chance to “reset” immigration policy with a more pragmatic and constructive approach without the level of tension seen during the referendum.\n"
     ]
    }
   ],
   "source": [
    "print(extracted_text[22632])"
   ]
  },
  {
   "cell_type": "code",
   "execution_count": null,
   "metadata": {},
   "outputs": [],
   "source": []
  }
 ],
 "metadata": {
  "kernelspec": {
   "display_name": "Python 3",
   "language": "python",
   "name": "python3"
  },
  "language_info": {
   "codemirror_mode": {
    "name": "ipython",
    "version": 3
   },
   "file_extension": ".py",
   "mimetype": "text/x-python",
   "name": "python",
   "nbconvert_exporter": "python",
   "pygments_lexer": "ipython3",
   "version": "3.7.7"
  }
 },
 "nbformat": 4,
 "nbformat_minor": 4
}
