{
 "cells": [
  {
   "cell_type": "code",
   "execution_count": 38,
   "metadata": {},
   "outputs": [],
   "source": [
    "import json \n",
    "import pandas as pd\n",
    "from pandas.io.json import json_normalize #package for flattening json in pandas df"
   ]
  },
  {
   "cell_type": "code",
   "execution_count": 9,
   "metadata": {},
   "outputs": [],
   "source": [
    "df = pd.read_json(r'/opt/data/articles_list_Oct12_2020.json', orient='columns')"
   ]
  },
  {
   "cell_type": "markdown",
   "metadata": {},
   "source": [
    "## Basic EDA"
   ]
  },
  {
   "cell_type": "code",
   "execution_count": 10,
   "metadata": {},
   "outputs": [
    {
     "data": {
      "text/html": [
       "<div>\n",
       "<style scoped>\n",
       "    .dataframe tbody tr th:only-of-type {\n",
       "        vertical-align: middle;\n",
       "    }\n",
       "\n",
       "    .dataframe tbody tr th {\n",
       "        vertical-align: top;\n",
       "    }\n",
       "\n",
       "    .dataframe thead th {\n",
       "        text-align: right;\n",
       "    }\n",
       "</style>\n",
       "<table border=\"1\" class=\"dataframe\">\n",
       "  <thead>\n",
       "    <tr style=\"text-align: right;\">\n",
       "      <th></th>\n",
       "      <th>_score</th>\n",
       "    </tr>\n",
       "  </thead>\n",
       "  <tbody>\n",
       "    <tr>\n",
       "      <th>count</th>\n",
       "      <td>60374.0</td>\n",
       "    </tr>\n",
       "    <tr>\n",
       "      <th>mean</th>\n",
       "      <td>1.0</td>\n",
       "    </tr>\n",
       "    <tr>\n",
       "      <th>std</th>\n",
       "      <td>0.0</td>\n",
       "    </tr>\n",
       "    <tr>\n",
       "      <th>min</th>\n",
       "      <td>1.0</td>\n",
       "    </tr>\n",
       "    <tr>\n",
       "      <th>25%</th>\n",
       "      <td>1.0</td>\n",
       "    </tr>\n",
       "    <tr>\n",
       "      <th>50%</th>\n",
       "      <td>1.0</td>\n",
       "    </tr>\n",
       "    <tr>\n",
       "      <th>75%</th>\n",
       "      <td>1.0</td>\n",
       "    </tr>\n",
       "    <tr>\n",
       "      <th>max</th>\n",
       "      <td>1.0</td>\n",
       "    </tr>\n",
       "  </tbody>\n",
       "</table>\n",
       "</div>"
      ],
      "text/plain": [
       "        _score\n",
       "count  60374.0\n",
       "mean       1.0\n",
       "std        0.0\n",
       "min        1.0\n",
       "25%        1.0\n",
       "50%        1.0\n",
       "75%        1.0\n",
       "max        1.0"
      ]
     },
     "execution_count": 10,
     "metadata": {},
     "output_type": "execute_result"
    }
   ],
   "source": [
    "df.describe()"
   ]
  },
  {
   "cell_type": "code",
   "execution_count": 11,
   "metadata": {},
   "outputs": [
    {
     "data": {
      "text/plain": [
       "_index     60374\n",
       "_type      60374\n",
       "_id        60374\n",
       "_score     60374\n",
       "_source    60374\n",
       "dtype: int64"
      ]
     },
     "execution_count": 11,
     "metadata": {},
     "output_type": "execute_result"
    }
   ],
   "source": [
    "df.count()"
   ]
  },
  {
   "cell_type": "code",
   "execution_count": 12,
   "metadata": {},
   "outputs": [
    {
     "data": {
      "text/plain": [
       "(60374, 5)"
      ]
     },
     "execution_count": 12,
     "metadata": {},
     "output_type": "execute_result"
    }
   ],
   "source": [
    "df.shape"
   ]
  },
  {
   "cell_type": "code",
   "execution_count": 14,
   "metadata": {},
   "outputs": [
    {
     "data": {
      "text/plain": [
       "_index                                              articles\n",
       "_type                                                   _doc\n",
       "_id                                     jzHWHnUBlmHqFksVvSCK\n",
       "_score                                                     1\n",
       "_source    {'url': 'http://actionnewsjax.com/news/trendin...\n",
       "Name: 0, dtype: object"
      ]
     },
     "execution_count": 14,
     "metadata": {},
     "output_type": "execute_result"
    }
   ],
   "source": [
    "#print 1st column 1st row\n",
    "df.iloc[0] # this is same as df[[0]].values[0][0]"
   ]
  },
  {
   "cell_type": "code",
   "execution_count": 15,
   "metadata": {},
   "outputs": [],
   "source": [
    "df_clean= df.drop(['_id','_score', '_type'], axis=1)"
   ]
  },
  {
   "cell_type": "code",
   "execution_count": 17,
   "metadata": {},
   "outputs": [
    {
     "data": {
      "text/plain": [
       "(60374, 2)"
      ]
     },
     "execution_count": 17,
     "metadata": {},
     "output_type": "execute_result"
    }
   ],
   "source": [
    "df_clean.shape"
   ]
  },
  {
   "cell_type": "code",
   "execution_count": 18,
   "metadata": {},
   "outputs": [
    {
     "data": {
      "text/html": [
       "<div>\n",
       "<style scoped>\n",
       "    .dataframe tbody tr th:only-of-type {\n",
       "        vertical-align: middle;\n",
       "    }\n",
       "\n",
       "    .dataframe tbody tr th {\n",
       "        vertical-align: top;\n",
       "    }\n",
       "\n",
       "    .dataframe thead th {\n",
       "        text-align: right;\n",
       "    }\n",
       "</style>\n",
       "<table border=\"1\" class=\"dataframe\">\n",
       "  <thead>\n",
       "    <tr style=\"text-align: right;\">\n",
       "      <th></th>\n",
       "      <th>_index</th>\n",
       "      <th>_source</th>\n",
       "    </tr>\n",
       "  </thead>\n",
       "  <tbody>\n",
       "    <tr>\n",
       "      <th>0</th>\n",
       "      <td>articles</td>\n",
       "      <td>{'url': 'http://actionnewsjax.com/news/trendin...</td>\n",
       "    </tr>\n",
       "    <tr>\n",
       "      <th>1</th>\n",
       "      <td>articles</td>\n",
       "      <td>{'url': 'https://www.13newsnow.com/article/new...</td>\n",
       "    </tr>\n",
       "    <tr>\n",
       "      <th>2</th>\n",
       "      <td>articles</td>\n",
       "      <td>{'url': 'http://digg.com/digg-picks/link/kindl...</td>\n",
       "    </tr>\n",
       "    <tr>\n",
       "      <th>3</th>\n",
       "      <td>articles</td>\n",
       "      <td>{'url': 'http://sports.mynorthwest.com/1199798...</td>\n",
       "    </tr>\n",
       "    <tr>\n",
       "      <th>4</th>\n",
       "      <td>articles</td>\n",
       "      <td>{'url': 'https://www.aier.org/article/lockdown...</td>\n",
       "    </tr>\n",
       "  </tbody>\n",
       "</table>\n",
       "</div>"
      ],
      "text/plain": [
       "     _index                                            _source\n",
       "0  articles  {'url': 'http://actionnewsjax.com/news/trendin...\n",
       "1  articles  {'url': 'https://www.13newsnow.com/article/new...\n",
       "2  articles  {'url': 'http://digg.com/digg-picks/link/kindl...\n",
       "3  articles  {'url': 'http://sports.mynorthwest.com/1199798...\n",
       "4  articles  {'url': 'https://www.aier.org/article/lockdown..."
      ]
     },
     "execution_count": 18,
     "metadata": {},
     "output_type": "execute_result"
    }
   ],
   "source": [
    "df_clean.head(5)"
   ]
  },
  {
   "cell_type": "code",
   "execution_count": 19,
   "metadata": {},
   "outputs": [
    {
     "data": {
      "text/plain": [
       "_index                                              articles\n",
       "_source    {'url': 'http://actionnewsjax.com/news/trendin...\n",
       "Name: 0, dtype: object"
      ]
     },
     "execution_count": 19,
     "metadata": {},
     "output_type": "execute_result"
    }
   ],
   "source": [
    "df_clean.iloc[0]"
   ]
  },
  {
   "cell_type": "code",
   "execution_count": 20,
   "metadata": {},
   "outputs": [
    {
     "data": {
      "text/plain": [
       "_index                                              articles\n",
       "_type                                                   _doc\n",
       "_id                                     jzHWHnUBlmHqFksVvSCK\n",
       "_score                                                     1\n",
       "_source    {'url': 'http://actionnewsjax.com/news/trendin...\n",
       "Name: 0, dtype: object"
      ]
     },
     "execution_count": 20,
     "metadata": {},
     "output_type": "execute_result"
    }
   ],
   "source": [
    "df.iloc[0]"
   ]
  },
  {
   "cell_type": "code",
   "execution_count": 24,
   "metadata": {},
   "outputs": [
    {
     "data": {
      "text/html": [
       "<div>\n",
       "<style scoped>\n",
       "    .dataframe tbody tr th:only-of-type {\n",
       "        vertical-align: middle;\n",
       "    }\n",
       "\n",
       "    .dataframe tbody tr th {\n",
       "        vertical-align: top;\n",
       "    }\n",
       "\n",
       "    .dataframe thead th {\n",
       "        text-align: right;\n",
       "    }\n",
       "</style>\n",
       "<table border=\"1\" class=\"dataframe\">\n",
       "  <thead>\n",
       "    <tr style=\"text-align: right;\">\n",
       "      <th></th>\n",
       "      <th>_score</th>\n",
       "    </tr>\n",
       "  </thead>\n",
       "  <tbody>\n",
       "    <tr>\n",
       "      <th>count</th>\n",
       "      <td>60374.0</td>\n",
       "    </tr>\n",
       "    <tr>\n",
       "      <th>mean</th>\n",
       "      <td>1.0</td>\n",
       "    </tr>\n",
       "    <tr>\n",
       "      <th>std</th>\n",
       "      <td>0.0</td>\n",
       "    </tr>\n",
       "    <tr>\n",
       "      <th>min</th>\n",
       "      <td>1.0</td>\n",
       "    </tr>\n",
       "    <tr>\n",
       "      <th>25%</th>\n",
       "      <td>1.0</td>\n",
       "    </tr>\n",
       "    <tr>\n",
       "      <th>50%</th>\n",
       "      <td>1.0</td>\n",
       "    </tr>\n",
       "    <tr>\n",
       "      <th>75%</th>\n",
       "      <td>1.0</td>\n",
       "    </tr>\n",
       "    <tr>\n",
       "      <th>max</th>\n",
       "      <td>1.0</td>\n",
       "    </tr>\n",
       "  </tbody>\n",
       "</table>\n",
       "</div>"
      ],
      "text/plain": [
       "        _score\n",
       "count  60374.0\n",
       "mean       1.0\n",
       "std        0.0\n",
       "min        1.0\n",
       "25%        1.0\n",
       "50%        1.0\n",
       "75%        1.0\n",
       "max        1.0"
      ]
     },
     "execution_count": 24,
     "metadata": {},
     "output_type": "execute_result"
    }
   ],
   "source": [
    "df.describe()"
   ]
  },
  {
   "cell_type": "code",
   "execution_count": 26,
   "metadata": {},
   "outputs": [
    {
     "data": {
      "text/plain": [
       "_index     object\n",
       "_type      object\n",
       "_id        object\n",
       "_score      int64\n",
       "_source    object\n",
       "dtype: object"
      ]
     },
     "execution_count": 26,
     "metadata": {},
     "output_type": "execute_result"
    }
   ],
   "source": [
    "df.dtypes"
   ]
  },
  {
   "cell_type": "code",
   "execution_count": 32,
   "metadata": {},
   "outputs": [
    {
     "data": {
      "text/plain": [
       "'_doc'"
      ]
     },
     "execution_count": 32,
     "metadata": {},
     "output_type": "execute_result"
    }
   ],
   "source": [
    "#Get value within a Series\n",
    "df.loc[0].at['_type']"
   ]
  },
  {
   "cell_type": "code",
   "execution_count": 29,
   "metadata": {},
   "outputs": [
    {
     "data": {
      "text/plain": [
       "{'url': 'http://actionnewsjax.com/news/trending/amy-coney-barrett-hearing-day-2-questioning-begins-livestream-live-updates/MSRUGTDZVRFO3M7PXIQC6UY45U/',\n",
       " 'extracted': {'title': 'Amy Coney Barrett hearing Day 2: Questioning begins; livestream, live updates',\n",
       "  'date': None,\n",
       "  'authors': ['Debbie Lord',\n",
       "   'Cox Media Group National Content Desk',\n",
       "   'Updated',\n",
       "   'October',\n",
       "   '- Pm',\n",
       "   'Kelli Dugan',\n",
       "   'Crystal Bonvillian',\n",
       "   'Brianna Chambers',\n",
       "   'Theresa Seiger'],\n",
       "  'text': '“His judicial philosophy was straightforward: A judge must apply the law as written, not as the judge wishes it were. Sometimes that approach meant reaching results that he did not like. But as he put it in one of his best-known opinions, that is what it means to say we have a government of laws, not of men.”'},\n",
       " 'metadata': {'keywords': ['amy coney barrett',\n",
       "   'amy coney barrett hearing',\n",
       "   'what time doe the amy coney barrett hearing start',\n",
       "   'what channel is the amy coney barrett hearing on',\n",
       "   'livestream amy coney barrett hearing',\n",
       "   'when is the vote on amy coney barrett',\n",
       "   'will amy coney barrett be confirmed for the supreme court'],\n",
       "  'description': 'Judge Amy Coney Barrett will face questions from the members of the Senate Judiciary Committee on Tuesday, as hearings into her nomination to the United States Supreme Court continue.',\n",
       "  'language': 'en',\n",
       "  'url': 'https://www.actionnewsjax.com/news/trending/amy-coney-barrett-hearing-day-2-questioning-begins-livestream-live-updates/MSRUGTDZVRFO3M7PXIQC6UY45U/',\n",
       "  'dump': {'distribution': 'global',\n",
       "   'rating': 'general',\n",
       "   'viewport': 'width=device-width, minimum-scale=1, initial-scale=1',\n",
       "   'copyright': 'Copyright (c) 2019 Cox Media Group',\n",
       "   'keywords': 'amy coney barrett, amy coney barrett hearing, what time doe the amy coney barrett hearing start, what channel is the amy coney barrett hearing on, livestream amy coney barrett hearing, when is the vote on amy coney barrett, will amy coney barrett be confirmed for the supreme court',\n",
       "   'news_keywords': 'amy coney barrett, amy coney barrett hearing, what time doe the amy coney barrett hearing start, what channel is the amy coney barrett hearing on, livestream amy coney barrett hearing, when is the vote on amy coney barrett, will amy coney barrett be confirmed for the supreme court',\n",
       "   'date': '2020-10-12T19:44:31.492Z',\n",
       "   'description': 'Judge Amy Coney Barrett will face questions from the members of the Senate Judiciary Committee on Tuesday, as hearings into her nomination to the United States Supreme Court continue.',\n",
       "   'thumbnail': '“https://www.actionnewsjax.com/resizer/WuvIfO2RVZhggvZvrNuoqO-tf6U=/1200x628/d1hfln2sfez66z.cloudfront.net/10-12-2020/t_47e6f009fef4446a982aa13a486a570e_name_Judge_Amy_Coney_Barrett_and_Senate_Judic_5f84c5e147719e19b06ef096_1_Oct_12_2020_21_36_49_poster.jpg”/',\n",
       "   'robots': 'index,follow,noarchive',\n",
       "   'googlebot': 'index',\n",
       "   'googlebot-news': 'index',\n",
       "   'twitter': {'title': 'Amy Coney Barrett hearing Day 2: Questioning begins; livestream, live updates',\n",
       "    'url': 'https://www.actionnewsjax.com/news/trending/amy-coney-barrett-hearing-day-2-questioning-begins-livestream-live-updates/MSRUGTDZVRFO3M7PXIQC6UY45U/',\n",
       "    'image': 'https://www.actionnewsjax.com/resizer/WuvIfO2RVZhggvZvrNuoqO-tf6U=/1200x628/d1hfln2sfez66z.cloudfront.net/10-12-2020/t_47e6f009fef4446a982aa13a486a570e_name_Judge_Amy_Coney_Barrett_and_Senate_Judic_5f84c5e147719e19b06ef096_1_Oct_12_2020_21_36_49_poster.jpg',\n",
       "    'card': 'summary_large_image',\n",
       "    'description': 'Judge Amy Coney Barrett will face questions from the members of the Senate Judiciary Committee on Tuesday, as hearings into her nomination to the United States Supreme Court continue.',\n",
       "    'site': '@ActionNewsJax',\n",
       "    'creator': '@ActionNewsJax'},\n",
       "   'og': {'url': 'https://www.actionnewsjax.com/news/trending/amy-coney-barrett-hearing-day-2-questioning-begins-livestream-live-updates/MSRUGTDZVRFO3M7PXIQC6UY45U/',\n",
       "    'title': 'Amy Coney Barrett hearing Day 2: Questioning begins; livestream, live updates',\n",
       "    'image': {'identifier': 'https://www.actionnewsjax.com/resizer/WuvIfO2RVZhggvZvrNuoqO-tf6U=/1200x628/d1hfln2sfez66z.cloudfront.net/10-12-2020/t_47e6f009fef4446a982aa13a486a570e_name_Judge_Amy_Coney_Barrett_and_Senate_Judic_5f84c5e147719e19b06ef096_1_Oct_12_2020_21_36_49_poster.jpg',\n",
       "     'width': 1200,\n",
       "     'height': 628},\n",
       "    'description': 'Judge Amy Coney Barrett will face questions from the members of the Senate Judiciary Committee on Tuesday, as hearings into her nomination to the United States Supreme Court continue.',\n",
       "    'locale': 'en_US',\n",
       "    'site_name': 'WJAX',\n",
       "    'type': 'article'},\n",
       "   'article': {'opinion': 'false',\n",
       "    'tag': 'cox_shared, cox_stub, cox_irresistible, dl_stub, video_added'},\n",
       "   'page-type': 'article',\n",
       "   'fb': {'app_id': 1354518441311456, 'pages': 115853591820469},\n",
       "   'author': 'Debbie Lord, Cox Media Group National Content Desk'}},\n",
       " 'source': {'url': 'http://actionnewsjax.com', 'sitename': 'WJAX'},\n",
       " 'flags': {'in_graph': False, 'has_nlp': False},\n",
       " 'context': {'scraper': 'newspaperbasic',\n",
       "  'datetime': '2020-10-12T22:03:11.021791+00:00'}}"
      ]
     },
     "execution_count": 29,
     "metadata": {},
     "output_type": "execute_result"
    }
   ],
   "source": [
    "#Get value within a Series\n",
    "df.loc[0].at['_source']"
   ]
  },
  {
   "cell_type": "code",
   "execution_count": 36,
   "metadata": {},
   "outputs": [],
   "source": [
    "df_src=df.drop(['_index','_id','_score', '_type'], axis=1)"
   ]
  },
  {
   "cell_type": "code",
   "execution_count": 37,
   "metadata": {},
   "outputs": [
    {
     "data": {
      "text/plain": [
       "_source    object\n",
       "dtype: object"
      ]
     },
     "execution_count": 37,
     "metadata": {},
     "output_type": "execute_result"
    }
   ],
   "source": [
    "df_src.dtypes"
   ]
  },
  {
   "cell_type": "code",
   "execution_count": 39,
   "metadata": {},
   "outputs": [],
   "source": [
    "%%time\n",
    "df_src_norm = json_normalize(df_src['_source'])"
   ]
  },
  {
   "cell_type": "code",
   "execution_count": 40,
   "metadata": {},
   "outputs": [
    {
     "data": {
      "text/html": [
       "<div>\n",
       "<style scoped>\n",
       "    .dataframe tbody tr th:only-of-type {\n",
       "        vertical-align: middle;\n",
       "    }\n",
       "\n",
       "    .dataframe tbody tr th {\n",
       "        vertical-align: top;\n",
       "    }\n",
       "\n",
       "    .dataframe thead th {\n",
       "        text-align: right;\n",
       "    }\n",
       "</style>\n",
       "<table border=\"1\" class=\"dataframe\">\n",
       "  <thead>\n",
       "    <tr style=\"text-align: right;\">\n",
       "      <th></th>\n",
       "      <th>url</th>\n",
       "      <th>extracted.title</th>\n",
       "      <th>extracted.date</th>\n",
       "      <th>extracted.authors</th>\n",
       "      <th>extracted.text</th>\n",
       "      <th>metadata.keywords</th>\n",
       "      <th>metadata.description</th>\n",
       "      <th>metadata.language</th>\n",
       "      <th>metadata.url</th>\n",
       "      <th>metadata.dump.distribution</th>\n",
       "      <th>...</th>\n",
       "      <th>metadata.dump.The Echelon exercise bike is $100 off, down to $499, right now at Walmart — and it comes with a free 6-month membership</th>\n",
       "      <th>metadata.dump.DC.source</th>\n",
       "      <th>metadata.dump.DC.date.published</th>\n",
       "      <th>metadata.dump.webit_document_id</th>\n",
       "      <th>metadata.dump.webit_document_name</th>\n",
       "      <th>metadata.dump.webit_cover_date</th>\n",
       "      <th>metadata.dump.burntime</th>\n",
       "      <th>metadata.dump.Everything we know about Ariana Grande's sixth album</th>\n",
       "      <th>metadata.dump.article_references</th>\n",
       "      <th>metadata.dump.epdf_available</th>\n",
       "    </tr>\n",
       "  </thead>\n",
       "  <tbody>\n",
       "    <tr>\n",
       "      <th>0</th>\n",
       "      <td>http://actionnewsjax.com/news/trending/amy-con...</td>\n",
       "      <td>Amy Coney Barrett hearing Day 2: Questioning b...</td>\n",
       "      <td>None</td>\n",
       "      <td>[Debbie Lord, Cox Media Group National Content...</td>\n",
       "      <td>“His judicial philosophy was straightforward: ...</td>\n",
       "      <td>[amy coney barrett, amy coney barrett hearing,...</td>\n",
       "      <td>Judge Amy Coney Barrett will face questions fr...</td>\n",
       "      <td>en</td>\n",
       "      <td>https://www.actionnewsjax.com/news/trending/am...</td>\n",
       "      <td>global</td>\n",
       "      <td>...</td>\n",
       "      <td>NaN</td>\n",
       "      <td>NaN</td>\n",
       "      <td>NaN</td>\n",
       "      <td>NaN</td>\n",
       "      <td>NaN</td>\n",
       "      <td>NaN</td>\n",
       "      <td>NaN</td>\n",
       "      <td>NaN</td>\n",
       "      <td>NaN</td>\n",
       "      <td>NaN</td>\n",
       "    </tr>\n",
       "    <tr>\n",
       "      <th>1</th>\n",
       "      <td>https://www.13newsnow.com/article/news/nation-...</td>\n",
       "      <td>Vanessa Bryant wishes Kobe, Gigi could've seen...</td>\n",
       "      <td>2020-10-12T19:24:52</td>\n",
       "      <td>[Author, Douglas Jones, Tegna]</td>\n",
       "      <td>Vanessa Bryant wrote that she wished Kobe and ...</td>\n",
       "      <td>[]</td>\n",
       "      <td>After the Los Angeles Lakers won the NBA champ...</td>\n",
       "      <td>en</td>\n",
       "      <td>https://www.13newsnow.com/article/news/nation-...</td>\n",
       "      <td>NaN</td>\n",
       "      <td>...</td>\n",
       "      <td>NaN</td>\n",
       "      <td>NaN</td>\n",
       "      <td>NaN</td>\n",
       "      <td>NaN</td>\n",
       "      <td>NaN</td>\n",
       "      <td>NaN</td>\n",
       "      <td>NaN</td>\n",
       "      <td>NaN</td>\n",
       "      <td>NaN</td>\n",
       "      <td>NaN</td>\n",
       "    </tr>\n",
       "    <tr>\n",
       "      <th>2</th>\n",
       "      <td>http://digg.com/digg-picks/link/kindles-video-...</td>\n",
       "      <td>Kindles, Video Doorbells And More Are On Sale ...</td>\n",
       "      <td>None</td>\n",
       "      <td>[Digg Editors]</td>\n",
       "      <td>👋 Welcome to Digg\\n\\nThanks for creating an ac...</td>\n",
       "      <td>[]</td>\n",
       "      <td>&lt;p&gt;If you're a Prime member, Amazon has a nice...</td>\n",
       "      <td>en</td>\n",
       "      <td>https://digg.com/digg-picks/link/kindles-video...</td>\n",
       "      <td>NaN</td>\n",
       "      <td>...</td>\n",
       "      <td>NaN</td>\n",
       "      <td>NaN</td>\n",
       "      <td>NaN</td>\n",
       "      <td>NaN</td>\n",
       "      <td>NaN</td>\n",
       "      <td>NaN</td>\n",
       "      <td>NaN</td>\n",
       "      <td>NaN</td>\n",
       "      <td>NaN</td>\n",
       "      <td>NaN</td>\n",
       "    </tr>\n",
       "  </tbody>\n",
       "</table>\n",
       "<p>3 rows × 2481 columns</p>\n",
       "</div>"
      ],
      "text/plain": [
       "                                                 url  \\\n",
       "0  http://actionnewsjax.com/news/trending/amy-con...   \n",
       "1  https://www.13newsnow.com/article/news/nation-...   \n",
       "2  http://digg.com/digg-picks/link/kindles-video-...   \n",
       "\n",
       "                                     extracted.title       extracted.date  \\\n",
       "0  Amy Coney Barrett hearing Day 2: Questioning b...                 None   \n",
       "1  Vanessa Bryant wishes Kobe, Gigi could've seen...  2020-10-12T19:24:52   \n",
       "2  Kindles, Video Doorbells And More Are On Sale ...                 None   \n",
       "\n",
       "                                   extracted.authors  \\\n",
       "0  [Debbie Lord, Cox Media Group National Content...   \n",
       "1                     [Author, Douglas Jones, Tegna]   \n",
       "2                                     [Digg Editors]   \n",
       "\n",
       "                                      extracted.text  \\\n",
       "0  “His judicial philosophy was straightforward: ...   \n",
       "1  Vanessa Bryant wrote that she wished Kobe and ...   \n",
       "2  👋 Welcome to Digg\\n\\nThanks for creating an ac...   \n",
       "\n",
       "                                   metadata.keywords  \\\n",
       "0  [amy coney barrett, amy coney barrett hearing,...   \n",
       "1                                                 []   \n",
       "2                                                 []   \n",
       "\n",
       "                                metadata.description metadata.language  \\\n",
       "0  Judge Amy Coney Barrett will face questions fr...                en   \n",
       "1  After the Los Angeles Lakers won the NBA champ...                en   \n",
       "2  <p>If you're a Prime member, Amazon has a nice...                en   \n",
       "\n",
       "                                        metadata.url  \\\n",
       "0  https://www.actionnewsjax.com/news/trending/am...   \n",
       "1  https://www.13newsnow.com/article/news/nation-...   \n",
       "2  https://digg.com/digg-picks/link/kindles-video...   \n",
       "\n",
       "  metadata.dump.distribution  ...  \\\n",
       "0                     global  ...   \n",
       "1                        NaN  ...   \n",
       "2                        NaN  ...   \n",
       "\n",
       "  metadata.dump.The Echelon exercise bike is $100 off, down to $499, right now at Walmart — and it comes with a free 6-month membership  \\\n",
       "0                                                NaN                                                                                      \n",
       "1                                                NaN                                                                                      \n",
       "2                                                NaN                                                                                      \n",
       "\n",
       "  metadata.dump.DC.source metadata.dump.DC.date.published  \\\n",
       "0                     NaN                             NaN   \n",
       "1                     NaN                             NaN   \n",
       "2                     NaN                             NaN   \n",
       "\n",
       "  metadata.dump.webit_document_id metadata.dump.webit_document_name  \\\n",
       "0                             NaN                               NaN   \n",
       "1                             NaN                               NaN   \n",
       "2                             NaN                               NaN   \n",
       "\n",
       "  metadata.dump.webit_cover_date metadata.dump.burntime  \\\n",
       "0                            NaN                    NaN   \n",
       "1                            NaN                    NaN   \n",
       "2                            NaN                    NaN   \n",
       "\n",
       "  metadata.dump.Everything we know about Ariana Grande's sixth album  \\\n",
       "0                                                NaN                   \n",
       "1                                                NaN                   \n",
       "2                                                NaN                   \n",
       "\n",
       "  metadata.dump.article_references metadata.dump.epdf_available  \n",
       "0                              NaN                          NaN  \n",
       "1                              NaN                          NaN  \n",
       "2                              NaN                          NaN  \n",
       "\n",
       "[3 rows x 2481 columns]"
      ]
     },
     "execution_count": 40,
     "metadata": {},
     "output_type": "execute_result"
    }
   ],
   "source": [
    "df_src_norm.head(3)"
   ]
  },
  {
   "cell_type": "code",
   "execution_count": null,
   "metadata": {},
   "outputs": [],
   "source": []
  }
 ],
 "metadata": {
  "kernelspec": {
   "display_name": "Python 3",
   "language": "python",
   "name": "python3"
  },
  "language_info": {
   "codemirror_mode": {
    "name": "ipython",
    "version": 3
   },
   "file_extension": ".py",
   "mimetype": "text/x-python",
   "name": "python",
   "nbconvert_exporter": "python",
   "pygments_lexer": "ipython3",
   "version": "3.7.6"
  }
 },
 "nbformat": 4,
 "nbformat_minor": 4
}
