{
 "cells": [
  {
   "cell_type": "code",
   "execution_count": 62,
   "metadata": {},
   "outputs": [],
   "source": [
    "import json \n",
    "import pandas as pd\n",
    "import numpy as np\n",
    "from pandas.io.json import json_normalize #package for flattening json in pandas df\n",
    "from sklearn.feature_extraction.text import CountVectorizer\n",
    "from sklearn.decomposition import LatentDirichletAllocation"
   ]
  },
  {
   "cell_type": "code",
   "execution_count": 9,
   "metadata": {},
   "outputs": [],
   "source": [
    "df = pd.read_json(r'/opt/data/articles_list_Oct12_2020.json', orient='columns')"
   ]
  },
  {
   "cell_type": "markdown",
   "metadata": {},
   "source": [
    "## Basic EDA"
   ]
  },
  {
   "cell_type": "code",
   "execution_count": 10,
   "metadata": {},
   "outputs": [
    {
     "data": {
      "text/html": [
       "<div>\n",
       "<style scoped>\n",
       "    .dataframe tbody tr th:only-of-type {\n",
       "        vertical-align: middle;\n",
       "    }\n",
       "\n",
       "    .dataframe tbody tr th {\n",
       "        vertical-align: top;\n",
       "    }\n",
       "\n",
       "    .dataframe thead th {\n",
       "        text-align: right;\n",
       "    }\n",
       "</style>\n",
       "<table border=\"1\" class=\"dataframe\">\n",
       "  <thead>\n",
       "    <tr style=\"text-align: right;\">\n",
       "      <th></th>\n",
       "      <th>_score</th>\n",
       "    </tr>\n",
       "  </thead>\n",
       "  <tbody>\n",
       "    <tr>\n",
       "      <th>count</th>\n",
       "      <td>60374.0</td>\n",
       "    </tr>\n",
       "    <tr>\n",
       "      <th>mean</th>\n",
       "      <td>1.0</td>\n",
       "    </tr>\n",
       "    <tr>\n",
       "      <th>std</th>\n",
       "      <td>0.0</td>\n",
       "    </tr>\n",
       "    <tr>\n",
       "      <th>min</th>\n",
       "      <td>1.0</td>\n",
       "    </tr>\n",
       "    <tr>\n",
       "      <th>25%</th>\n",
       "      <td>1.0</td>\n",
       "    </tr>\n",
       "    <tr>\n",
       "      <th>50%</th>\n",
       "      <td>1.0</td>\n",
       "    </tr>\n",
       "    <tr>\n",
       "      <th>75%</th>\n",
       "      <td>1.0</td>\n",
       "    </tr>\n",
       "    <tr>\n",
       "      <th>max</th>\n",
       "      <td>1.0</td>\n",
       "    </tr>\n",
       "  </tbody>\n",
       "</table>\n",
       "</div>"
      ],
      "text/plain": [
       "        _score\n",
       "count  60374.0\n",
       "mean       1.0\n",
       "std        0.0\n",
       "min        1.0\n",
       "25%        1.0\n",
       "50%        1.0\n",
       "75%        1.0\n",
       "max        1.0"
      ]
     },
     "execution_count": 10,
     "metadata": {},
     "output_type": "execute_result"
    }
   ],
   "source": [
    "df.describe()"
   ]
  },
  {
   "cell_type": "code",
   "execution_count": 11,
   "metadata": {},
   "outputs": [
    {
     "data": {
      "text/plain": [
       "_index     60374\n",
       "_type      60374\n",
       "_id        60374\n",
       "_score     60374\n",
       "_source    60374\n",
       "dtype: int64"
      ]
     },
     "execution_count": 11,
     "metadata": {},
     "output_type": "execute_result"
    }
   ],
   "source": [
    "df.count()"
   ]
  },
  {
   "cell_type": "code",
   "execution_count": 12,
   "metadata": {},
   "outputs": [
    {
     "data": {
      "text/plain": [
       "(60374, 5)"
      ]
     },
     "execution_count": 12,
     "metadata": {},
     "output_type": "execute_result"
    }
   ],
   "source": [
    "df.shape"
   ]
  },
  {
   "cell_type": "code",
   "execution_count": 14,
   "metadata": {},
   "outputs": [
    {
     "data": {
      "text/plain": [
       "_index                                              articles\n",
       "_type                                                   _doc\n",
       "_id                                     jzHWHnUBlmHqFksVvSCK\n",
       "_score                                                     1\n",
       "_source    {'url': 'http://actionnewsjax.com/news/trendin...\n",
       "Name: 0, dtype: object"
      ]
     },
     "execution_count": 14,
     "metadata": {},
     "output_type": "execute_result"
    }
   ],
   "source": [
    "#print 1st column 1st row\n",
    "df.iloc[0] # this is same as df[[0]].values[0][0]"
   ]
  },
  {
   "cell_type": "code",
   "execution_count": 15,
   "metadata": {},
   "outputs": [],
   "source": [
    "df_clean= df.drop(['_id','_score', '_type'], axis=1)"
   ]
  },
  {
   "cell_type": "code",
   "execution_count": 17,
   "metadata": {},
   "outputs": [
    {
     "data": {
      "text/plain": [
       "(60374, 2)"
      ]
     },
     "execution_count": 17,
     "metadata": {},
     "output_type": "execute_result"
    }
   ],
   "source": [
    "df_clean.shape"
   ]
  },
  {
   "cell_type": "code",
   "execution_count": 18,
   "metadata": {},
   "outputs": [
    {
     "data": {
      "text/html": [
       "<div>\n",
       "<style scoped>\n",
       "    .dataframe tbody tr th:only-of-type {\n",
       "        vertical-align: middle;\n",
       "    }\n",
       "\n",
       "    .dataframe tbody tr th {\n",
       "        vertical-align: top;\n",
       "    }\n",
       "\n",
       "    .dataframe thead th {\n",
       "        text-align: right;\n",
       "    }\n",
       "</style>\n",
       "<table border=\"1\" class=\"dataframe\">\n",
       "  <thead>\n",
       "    <tr style=\"text-align: right;\">\n",
       "      <th></th>\n",
       "      <th>_index</th>\n",
       "      <th>_source</th>\n",
       "    </tr>\n",
       "  </thead>\n",
       "  <tbody>\n",
       "    <tr>\n",
       "      <th>0</th>\n",
       "      <td>articles</td>\n",
       "      <td>{'url': 'http://actionnewsjax.com/news/trendin...</td>\n",
       "    </tr>\n",
       "    <tr>\n",
       "      <th>1</th>\n",
       "      <td>articles</td>\n",
       "      <td>{'url': 'https://www.13newsnow.com/article/new...</td>\n",
       "    </tr>\n",
       "    <tr>\n",
       "      <th>2</th>\n",
       "      <td>articles</td>\n",
       "      <td>{'url': 'http://digg.com/digg-picks/link/kindl...</td>\n",
       "    </tr>\n",
       "    <tr>\n",
       "      <th>3</th>\n",
       "      <td>articles</td>\n",
       "      <td>{'url': 'http://sports.mynorthwest.com/1199798...</td>\n",
       "    </tr>\n",
       "    <tr>\n",
       "      <th>4</th>\n",
       "      <td>articles</td>\n",
       "      <td>{'url': 'https://www.aier.org/article/lockdown...</td>\n",
       "    </tr>\n",
       "  </tbody>\n",
       "</table>\n",
       "</div>"
      ],
      "text/plain": [
       "     _index                                            _source\n",
       "0  articles  {'url': 'http://actionnewsjax.com/news/trendin...\n",
       "1  articles  {'url': 'https://www.13newsnow.com/article/new...\n",
       "2  articles  {'url': 'http://digg.com/digg-picks/link/kindl...\n",
       "3  articles  {'url': 'http://sports.mynorthwest.com/1199798...\n",
       "4  articles  {'url': 'https://www.aier.org/article/lockdown..."
      ]
     },
     "execution_count": 18,
     "metadata": {},
     "output_type": "execute_result"
    }
   ],
   "source": [
    "df_clean.head(5)"
   ]
  },
  {
   "cell_type": "code",
   "execution_count": 19,
   "metadata": {},
   "outputs": [
    {
     "data": {
      "text/plain": [
       "_index                                              articles\n",
       "_source    {'url': 'http://actionnewsjax.com/news/trendin...\n",
       "Name: 0, dtype: object"
      ]
     },
     "execution_count": 19,
     "metadata": {},
     "output_type": "execute_result"
    }
   ],
   "source": [
    "df_clean.iloc[0]"
   ]
  },
  {
   "cell_type": "code",
   "execution_count": 20,
   "metadata": {},
   "outputs": [
    {
     "data": {
      "text/plain": [
       "_index                                              articles\n",
       "_type                                                   _doc\n",
       "_id                                     jzHWHnUBlmHqFksVvSCK\n",
       "_score                                                     1\n",
       "_source    {'url': 'http://actionnewsjax.com/news/trendin...\n",
       "Name: 0, dtype: object"
      ]
     },
     "execution_count": 20,
     "metadata": {},
     "output_type": "execute_result"
    }
   ],
   "source": [
    "df.iloc[0]"
   ]
  },
  {
   "cell_type": "code",
   "execution_count": 24,
   "metadata": {},
   "outputs": [
    {
     "data": {
      "text/html": [
       "<div>\n",
       "<style scoped>\n",
       "    .dataframe tbody tr th:only-of-type {\n",
       "        vertical-align: middle;\n",
       "    }\n",
       "\n",
       "    .dataframe tbody tr th {\n",
       "        vertical-align: top;\n",
       "    }\n",
       "\n",
       "    .dataframe thead th {\n",
       "        text-align: right;\n",
       "    }\n",
       "</style>\n",
       "<table border=\"1\" class=\"dataframe\">\n",
       "  <thead>\n",
       "    <tr style=\"text-align: right;\">\n",
       "      <th></th>\n",
       "      <th>_score</th>\n",
       "    </tr>\n",
       "  </thead>\n",
       "  <tbody>\n",
       "    <tr>\n",
       "      <th>count</th>\n",
       "      <td>60374.0</td>\n",
       "    </tr>\n",
       "    <tr>\n",
       "      <th>mean</th>\n",
       "      <td>1.0</td>\n",
       "    </tr>\n",
       "    <tr>\n",
       "      <th>std</th>\n",
       "      <td>0.0</td>\n",
       "    </tr>\n",
       "    <tr>\n",
       "      <th>min</th>\n",
       "      <td>1.0</td>\n",
       "    </tr>\n",
       "    <tr>\n",
       "      <th>25%</th>\n",
       "      <td>1.0</td>\n",
       "    </tr>\n",
       "    <tr>\n",
       "      <th>50%</th>\n",
       "      <td>1.0</td>\n",
       "    </tr>\n",
       "    <tr>\n",
       "      <th>75%</th>\n",
       "      <td>1.0</td>\n",
       "    </tr>\n",
       "    <tr>\n",
       "      <th>max</th>\n",
       "      <td>1.0</td>\n",
       "    </tr>\n",
       "  </tbody>\n",
       "</table>\n",
       "</div>"
      ],
      "text/plain": [
       "        _score\n",
       "count  60374.0\n",
       "mean       1.0\n",
       "std        0.0\n",
       "min        1.0\n",
       "25%        1.0\n",
       "50%        1.0\n",
       "75%        1.0\n",
       "max        1.0"
      ]
     },
     "execution_count": 24,
     "metadata": {},
     "output_type": "execute_result"
    }
   ],
   "source": [
    "df.describe()"
   ]
  },
  {
   "cell_type": "code",
   "execution_count": 26,
   "metadata": {},
   "outputs": [
    {
     "data": {
      "text/plain": [
       "_index     object\n",
       "_type      object\n",
       "_id        object\n",
       "_score      int64\n",
       "_source    object\n",
       "dtype: object"
      ]
     },
     "execution_count": 26,
     "metadata": {},
     "output_type": "execute_result"
    }
   ],
   "source": [
    "df.dtypes"
   ]
  },
  {
   "cell_type": "code",
   "execution_count": 32,
   "metadata": {},
   "outputs": [
    {
     "data": {
      "text/plain": [
       "'_doc'"
      ]
     },
     "execution_count": 32,
     "metadata": {},
     "output_type": "execute_result"
    }
   ],
   "source": [
    "#Get value within a Series\n",
    "df.loc[0].at['_type']"
   ]
  },
  {
   "cell_type": "code",
   "execution_count": 29,
   "metadata": {},
   "outputs": [
    {
     "data": {
      "text/plain": [
       "{'url': 'http://actionnewsjax.com/news/trending/amy-coney-barrett-hearing-day-2-questioning-begins-livestream-live-updates/MSRUGTDZVRFO3M7PXIQC6UY45U/',\n",
       " 'extracted': {'title': 'Amy Coney Barrett hearing Day 2: Questioning begins; livestream, live updates',\n",
       "  'date': None,\n",
       "  'authors': ['Debbie Lord',\n",
       "   'Cox Media Group National Content Desk',\n",
       "   'Updated',\n",
       "   'October',\n",
       "   '- Pm',\n",
       "   'Kelli Dugan',\n",
       "   'Crystal Bonvillian',\n",
       "   'Brianna Chambers',\n",
       "   'Theresa Seiger'],\n",
       "  'text': '“His judicial philosophy was straightforward: A judge must apply the law as written, not as the judge wishes it were. Sometimes that approach meant reaching results that he did not like. But as he put it in one of his best-known opinions, that is what it means to say we have a government of laws, not of men.”'},\n",
       " 'metadata': {'keywords': ['amy coney barrett',\n",
       "   'amy coney barrett hearing',\n",
       "   'what time doe the amy coney barrett hearing start',\n",
       "   'what channel is the amy coney barrett hearing on',\n",
       "   'livestream amy coney barrett hearing',\n",
       "   'when is the vote on amy coney barrett',\n",
       "   'will amy coney barrett be confirmed for the supreme court'],\n",
       "  'description': 'Judge Amy Coney Barrett will face questions from the members of the Senate Judiciary Committee on Tuesday, as hearings into her nomination to the United States Supreme Court continue.',\n",
       "  'language': 'en',\n",
       "  'url': 'https://www.actionnewsjax.com/news/trending/amy-coney-barrett-hearing-day-2-questioning-begins-livestream-live-updates/MSRUGTDZVRFO3M7PXIQC6UY45U/',\n",
       "  'dump': {'distribution': 'global',\n",
       "   'rating': 'general',\n",
       "   'viewport': 'width=device-width, minimum-scale=1, initial-scale=1',\n",
       "   'copyright': 'Copyright (c) 2019 Cox Media Group',\n",
       "   'keywords': 'amy coney barrett, amy coney barrett hearing, what time doe the amy coney barrett hearing start, what channel is the amy coney barrett hearing on, livestream amy coney barrett hearing, when is the vote on amy coney barrett, will amy coney barrett be confirmed for the supreme court',\n",
       "   'news_keywords': 'amy coney barrett, amy coney barrett hearing, what time doe the amy coney barrett hearing start, what channel is the amy coney barrett hearing on, livestream amy coney barrett hearing, when is the vote on amy coney barrett, will amy coney barrett be confirmed for the supreme court',\n",
       "   'date': '2020-10-12T19:44:31.492Z',\n",
       "   'description': 'Judge Amy Coney Barrett will face questions from the members of the Senate Judiciary Committee on Tuesday, as hearings into her nomination to the United States Supreme Court continue.',\n",
       "   'thumbnail': '“https://www.actionnewsjax.com/resizer/WuvIfO2RVZhggvZvrNuoqO-tf6U=/1200x628/d1hfln2sfez66z.cloudfront.net/10-12-2020/t_47e6f009fef4446a982aa13a486a570e_name_Judge_Amy_Coney_Barrett_and_Senate_Judic_5f84c5e147719e19b06ef096_1_Oct_12_2020_21_36_49_poster.jpg”/',\n",
       "   'robots': 'index,follow,noarchive',\n",
       "   'googlebot': 'index',\n",
       "   'googlebot-news': 'index',\n",
       "   'twitter': {'title': 'Amy Coney Barrett hearing Day 2: Questioning begins; livestream, live updates',\n",
       "    'url': 'https://www.actionnewsjax.com/news/trending/amy-coney-barrett-hearing-day-2-questioning-begins-livestream-live-updates/MSRUGTDZVRFO3M7PXIQC6UY45U/',\n",
       "    'image': 'https://www.actionnewsjax.com/resizer/WuvIfO2RVZhggvZvrNuoqO-tf6U=/1200x628/d1hfln2sfez66z.cloudfront.net/10-12-2020/t_47e6f009fef4446a982aa13a486a570e_name_Judge_Amy_Coney_Barrett_and_Senate_Judic_5f84c5e147719e19b06ef096_1_Oct_12_2020_21_36_49_poster.jpg',\n",
       "    'card': 'summary_large_image',\n",
       "    'description': 'Judge Amy Coney Barrett will face questions from the members of the Senate Judiciary Committee on Tuesday, as hearings into her nomination to the United States Supreme Court continue.',\n",
       "    'site': '@ActionNewsJax',\n",
       "    'creator': '@ActionNewsJax'},\n",
       "   'og': {'url': 'https://www.actionnewsjax.com/news/trending/amy-coney-barrett-hearing-day-2-questioning-begins-livestream-live-updates/MSRUGTDZVRFO3M7PXIQC6UY45U/',\n",
       "    'title': 'Amy Coney Barrett hearing Day 2: Questioning begins; livestream, live updates',\n",
       "    'image': {'identifier': 'https://www.actionnewsjax.com/resizer/WuvIfO2RVZhggvZvrNuoqO-tf6U=/1200x628/d1hfln2sfez66z.cloudfront.net/10-12-2020/t_47e6f009fef4446a982aa13a486a570e_name_Judge_Amy_Coney_Barrett_and_Senate_Judic_5f84c5e147719e19b06ef096_1_Oct_12_2020_21_36_49_poster.jpg',\n",
       "     'width': 1200,\n",
       "     'height': 628},\n",
       "    'description': 'Judge Amy Coney Barrett will face questions from the members of the Senate Judiciary Committee on Tuesday, as hearings into her nomination to the United States Supreme Court continue.',\n",
       "    'locale': 'en_US',\n",
       "    'site_name': 'WJAX',\n",
       "    'type': 'article'},\n",
       "   'article': {'opinion': 'false',\n",
       "    'tag': 'cox_shared, cox_stub, cox_irresistible, dl_stub, video_added'},\n",
       "   'page-type': 'article',\n",
       "   'fb': {'app_id': 1354518441311456, 'pages': 115853591820469},\n",
       "   'author': 'Debbie Lord, Cox Media Group National Content Desk'}},\n",
       " 'source': {'url': 'http://actionnewsjax.com', 'sitename': 'WJAX'},\n",
       " 'flags': {'in_graph': False, 'has_nlp': False},\n",
       " 'context': {'scraper': 'newspaperbasic',\n",
       "  'datetime': '2020-10-12T22:03:11.021791+00:00'}}"
      ]
     },
     "execution_count": 29,
     "metadata": {},
     "output_type": "execute_result"
    }
   ],
   "source": [
    "#Get value within a Series\n",
    "df.loc[0].at['_source']"
   ]
  },
  {
   "cell_type": "code",
   "execution_count": 36,
   "metadata": {},
   "outputs": [],
   "source": [
    "df_src=df.drop(['_index','_id','_score', '_type'], axis=1)"
   ]
  },
  {
   "cell_type": "code",
   "execution_count": 37,
   "metadata": {},
   "outputs": [
    {
     "data": {
      "text/plain": [
       "_source    object\n",
       "dtype: object"
      ]
     },
     "execution_count": 37,
     "metadata": {},
     "output_type": "execute_result"
    }
   ],
   "source": [
    "df_src.dtypes"
   ]
  },
  {
   "cell_type": "code",
   "execution_count": 39,
   "metadata": {},
   "outputs": [],
   "source": [
    "%%time\n",
    "df_src_norm = json_normalize(df_src['_source'])"
   ]
  },
  {
   "cell_type": "code",
   "execution_count": 40,
   "metadata": {},
   "outputs": [
    {
     "data": {
      "text/html": [
       "<div>\n",
       "<style scoped>\n",
       "    .dataframe tbody tr th:only-of-type {\n",
       "        vertical-align: middle;\n",
       "    }\n",
       "\n",
       "    .dataframe tbody tr th {\n",
       "        vertical-align: top;\n",
       "    }\n",
       "\n",
       "    .dataframe thead th {\n",
       "        text-align: right;\n",
       "    }\n",
       "</style>\n",
       "<table border=\"1\" class=\"dataframe\">\n",
       "  <thead>\n",
       "    <tr style=\"text-align: right;\">\n",
       "      <th></th>\n",
       "      <th>url</th>\n",
       "      <th>extracted.title</th>\n",
       "      <th>extracted.date</th>\n",
       "      <th>extracted.authors</th>\n",
       "      <th>extracted.text</th>\n",
       "      <th>metadata.keywords</th>\n",
       "      <th>metadata.description</th>\n",
       "      <th>metadata.language</th>\n",
       "      <th>metadata.url</th>\n",
       "      <th>metadata.dump.distribution</th>\n",
       "      <th>...</th>\n",
       "      <th>metadata.dump.The Echelon exercise bike is $100 off, down to $499, right now at Walmart — and it comes with a free 6-month membership</th>\n",
       "      <th>metadata.dump.DC.source</th>\n",
       "      <th>metadata.dump.DC.date.published</th>\n",
       "      <th>metadata.dump.webit_document_id</th>\n",
       "      <th>metadata.dump.webit_document_name</th>\n",
       "      <th>metadata.dump.webit_cover_date</th>\n",
       "      <th>metadata.dump.burntime</th>\n",
       "      <th>metadata.dump.Everything we know about Ariana Grande's sixth album</th>\n",
       "      <th>metadata.dump.article_references</th>\n",
       "      <th>metadata.dump.epdf_available</th>\n",
       "    </tr>\n",
       "  </thead>\n",
       "  <tbody>\n",
       "    <tr>\n",
       "      <th>0</th>\n",
       "      <td>http://actionnewsjax.com/news/trending/amy-con...</td>\n",
       "      <td>Amy Coney Barrett hearing Day 2: Questioning b...</td>\n",
       "      <td>None</td>\n",
       "      <td>[Debbie Lord, Cox Media Group National Content...</td>\n",
       "      <td>“His judicial philosophy was straightforward: ...</td>\n",
       "      <td>[amy coney barrett, amy coney barrett hearing,...</td>\n",
       "      <td>Judge Amy Coney Barrett will face questions fr...</td>\n",
       "      <td>en</td>\n",
       "      <td>https://www.actionnewsjax.com/news/trending/am...</td>\n",
       "      <td>global</td>\n",
       "      <td>...</td>\n",
       "      <td>NaN</td>\n",
       "      <td>NaN</td>\n",
       "      <td>NaN</td>\n",
       "      <td>NaN</td>\n",
       "      <td>NaN</td>\n",
       "      <td>NaN</td>\n",
       "      <td>NaN</td>\n",
       "      <td>NaN</td>\n",
       "      <td>NaN</td>\n",
       "      <td>NaN</td>\n",
       "    </tr>\n",
       "    <tr>\n",
       "      <th>1</th>\n",
       "      <td>https://www.13newsnow.com/article/news/nation-...</td>\n",
       "      <td>Vanessa Bryant wishes Kobe, Gigi could've seen...</td>\n",
       "      <td>2020-10-12T19:24:52</td>\n",
       "      <td>[Author, Douglas Jones, Tegna]</td>\n",
       "      <td>Vanessa Bryant wrote that she wished Kobe and ...</td>\n",
       "      <td>[]</td>\n",
       "      <td>After the Los Angeles Lakers won the NBA champ...</td>\n",
       "      <td>en</td>\n",
       "      <td>https://www.13newsnow.com/article/news/nation-...</td>\n",
       "      <td>NaN</td>\n",
       "      <td>...</td>\n",
       "      <td>NaN</td>\n",
       "      <td>NaN</td>\n",
       "      <td>NaN</td>\n",
       "      <td>NaN</td>\n",
       "      <td>NaN</td>\n",
       "      <td>NaN</td>\n",
       "      <td>NaN</td>\n",
       "      <td>NaN</td>\n",
       "      <td>NaN</td>\n",
       "      <td>NaN</td>\n",
       "    </tr>\n",
       "    <tr>\n",
       "      <th>2</th>\n",
       "      <td>http://digg.com/digg-picks/link/kindles-video-...</td>\n",
       "      <td>Kindles, Video Doorbells And More Are On Sale ...</td>\n",
       "      <td>None</td>\n",
       "      <td>[Digg Editors]</td>\n",
       "      <td>👋 Welcome to Digg\\n\\nThanks for creating an ac...</td>\n",
       "      <td>[]</td>\n",
       "      <td>&lt;p&gt;If you're a Prime member, Amazon has a nice...</td>\n",
       "      <td>en</td>\n",
       "      <td>https://digg.com/digg-picks/link/kindles-video...</td>\n",
       "      <td>NaN</td>\n",
       "      <td>...</td>\n",
       "      <td>NaN</td>\n",
       "      <td>NaN</td>\n",
       "      <td>NaN</td>\n",
       "      <td>NaN</td>\n",
       "      <td>NaN</td>\n",
       "      <td>NaN</td>\n",
       "      <td>NaN</td>\n",
       "      <td>NaN</td>\n",
       "      <td>NaN</td>\n",
       "      <td>NaN</td>\n",
       "    </tr>\n",
       "  </tbody>\n",
       "</table>\n",
       "<p>3 rows × 2481 columns</p>\n",
       "</div>"
      ],
      "text/plain": [
       "                                                 url  \\\n",
       "0  http://actionnewsjax.com/news/trending/amy-con...   \n",
       "1  https://www.13newsnow.com/article/news/nation-...   \n",
       "2  http://digg.com/digg-picks/link/kindles-video-...   \n",
       "\n",
       "                                     extracted.title       extracted.date  \\\n",
       "0  Amy Coney Barrett hearing Day 2: Questioning b...                 None   \n",
       "1  Vanessa Bryant wishes Kobe, Gigi could've seen...  2020-10-12T19:24:52   \n",
       "2  Kindles, Video Doorbells And More Are On Sale ...                 None   \n",
       "\n",
       "                                   extracted.authors  \\\n",
       "0  [Debbie Lord, Cox Media Group National Content...   \n",
       "1                     [Author, Douglas Jones, Tegna]   \n",
       "2                                     [Digg Editors]   \n",
       "\n",
       "                                      extracted.text  \\\n",
       "0  “His judicial philosophy was straightforward: ...   \n",
       "1  Vanessa Bryant wrote that she wished Kobe and ...   \n",
       "2  👋 Welcome to Digg\\n\\nThanks for creating an ac...   \n",
       "\n",
       "                                   metadata.keywords  \\\n",
       "0  [amy coney barrett, amy coney barrett hearing,...   \n",
       "1                                                 []   \n",
       "2                                                 []   \n",
       "\n",
       "                                metadata.description metadata.language  \\\n",
       "0  Judge Amy Coney Barrett will face questions fr...                en   \n",
       "1  After the Los Angeles Lakers won the NBA champ...                en   \n",
       "2  <p>If you're a Prime member, Amazon has a nice...                en   \n",
       "\n",
       "                                        metadata.url  \\\n",
       "0  https://www.actionnewsjax.com/news/trending/am...   \n",
       "1  https://www.13newsnow.com/article/news/nation-...   \n",
       "2  https://digg.com/digg-picks/link/kindles-video...   \n",
       "\n",
       "  metadata.dump.distribution  ...  \\\n",
       "0                     global  ...   \n",
       "1                        NaN  ...   \n",
       "2                        NaN  ...   \n",
       "\n",
       "  metadata.dump.The Echelon exercise bike is $100 off, down to $499, right now at Walmart — and it comes with a free 6-month membership  \\\n",
       "0                                                NaN                                                                                      \n",
       "1                                                NaN                                                                                      \n",
       "2                                                NaN                                                                                      \n",
       "\n",
       "  metadata.dump.DC.source metadata.dump.DC.date.published  \\\n",
       "0                     NaN                             NaN   \n",
       "1                     NaN                             NaN   \n",
       "2                     NaN                             NaN   \n",
       "\n",
       "  metadata.dump.webit_document_id metadata.dump.webit_document_name  \\\n",
       "0                             NaN                               NaN   \n",
       "1                             NaN                               NaN   \n",
       "2                             NaN                               NaN   \n",
       "\n",
       "  metadata.dump.webit_cover_date metadata.dump.burntime  \\\n",
       "0                            NaN                    NaN   \n",
       "1                            NaN                    NaN   \n",
       "2                            NaN                    NaN   \n",
       "\n",
       "  metadata.dump.Everything we know about Ariana Grande's sixth album  \\\n",
       "0                                                NaN                   \n",
       "1                                                NaN                   \n",
       "2                                                NaN                   \n",
       "\n",
       "  metadata.dump.article_references metadata.dump.epdf_available  \n",
       "0                              NaN                          NaN  \n",
       "1                              NaN                          NaN  \n",
       "2                              NaN                          NaN  \n",
       "\n",
       "[3 rows x 2481 columns]"
      ]
     },
     "execution_count": 40,
     "metadata": {},
     "output_type": "execute_result"
    }
   ],
   "source": [
    "df_src_norm.head(3)"
   ]
  },
  {
   "cell_type": "code",
   "execution_count": 41,
   "metadata": {},
   "outputs": [
    {
     "name": "stdout",
     "output_type": "stream",
     "text": [
      "<class 'pandas.core.frame.DataFrame'>\n",
      "RangeIndex: 60374 entries, 0 to 60373\n",
      "Columns: 2481 entries, url to metadata.dump.epdf_available\n",
      "dtypes: bool(2), float64(251), object(2228)\n",
      "memory usage: 1.1+ GB\n"
     ]
    }
   ],
   "source": [
    "df_src_norm.info()"
   ]
  },
  {
   "cell_type": "code",
   "execution_count": 43,
   "metadata": {},
   "outputs": [
    {
     "data": {
      "text/plain": [
       "(60374, 2481)"
      ]
     },
     "execution_count": 43,
     "metadata": {},
     "output_type": "execute_result"
    }
   ],
   "source": [
    "df_src_norm.shape"
   ]
  },
  {
   "cell_type": "code",
   "execution_count": 45,
   "metadata": {},
   "outputs": [],
   "source": [
    "df_src_norm_limited=df_src_norm.filter(items=['url', 'extracted.title', 'extracted.date', 'extracted.text', 'metadata.keywords', 'metadata.description'])"
   ]
  },
  {
   "cell_type": "code",
   "execution_count": 46,
   "metadata": {},
   "outputs": [
    {
     "data": {
      "text/plain": [
       "(60374, 6)"
      ]
     },
     "execution_count": 46,
     "metadata": {},
     "output_type": "execute_result"
    }
   ],
   "source": [
    "df_src_norm_limited.shape"
   ]
  },
  {
   "cell_type": "code",
   "execution_count": 57,
   "metadata": {},
   "outputs": [
    {
     "data": {
      "text/html": [
       "<div>\n",
       "<style scoped>\n",
       "    .dataframe tbody tr th:only-of-type {\n",
       "        vertical-align: middle;\n",
       "    }\n",
       "\n",
       "    .dataframe tbody tr th {\n",
       "        vertical-align: top;\n",
       "    }\n",
       "\n",
       "    .dataframe thead th {\n",
       "        text-align: right;\n",
       "    }\n",
       "</style>\n",
       "<table border=\"1\" class=\"dataframe\">\n",
       "  <thead>\n",
       "    <tr style=\"text-align: right;\">\n",
       "      <th></th>\n",
       "      <th>url</th>\n",
       "      <th>extracted.title</th>\n",
       "      <th>extracted.date</th>\n",
       "      <th>extracted.text</th>\n",
       "      <th>metadata.keywords</th>\n",
       "      <th>metadata.description</th>\n",
       "    </tr>\n",
       "  </thead>\n",
       "  <tbody>\n",
       "    <tr>\n",
       "      <th>0</th>\n",
       "      <td>http://actionnewsjax.com/news/trending/amy-con...</td>\n",
       "      <td>Amy Coney Barrett hearing Day 2: Questioning b...</td>\n",
       "      <td>None</td>\n",
       "      <td>“His judicial philosophy was straightforward: ...</td>\n",
       "      <td>[amy coney barrett, amy coney barrett hearing,...</td>\n",
       "      <td>Judge Amy Coney Barrett will face questions fr...</td>\n",
       "    </tr>\n",
       "    <tr>\n",
       "      <th>1</th>\n",
       "      <td>https://www.13newsnow.com/article/news/nation-...</td>\n",
       "      <td>Vanessa Bryant wishes Kobe, Gigi could've seen...</td>\n",
       "      <td>2020-10-12T19:24:52</td>\n",
       "      <td>Vanessa Bryant wrote that she wished Kobe and ...</td>\n",
       "      <td>[]</td>\n",
       "      <td>After the Los Angeles Lakers won the NBA champ...</td>\n",
       "    </tr>\n",
       "    <tr>\n",
       "      <th>2</th>\n",
       "      <td>http://digg.com/digg-picks/link/kindles-video-...</td>\n",
       "      <td>Kindles, Video Doorbells And More Are On Sale ...</td>\n",
       "      <td>None</td>\n",
       "      <td>👋 Welcome to Digg\\n\\nThanks for creating an ac...</td>\n",
       "      <td>[]</td>\n",
       "      <td>&lt;p&gt;If you're a Prime member, Amazon has a nice...</td>\n",
       "    </tr>\n",
       "    <tr>\n",
       "      <th>3</th>\n",
       "      <td>http://sports.mynorthwest.com/1199798/clayton-...</td>\n",
       "      <td>Seahawks Observations: John Clayton on 5-0 Haw...</td>\n",
       "      <td>2020-10-12T21:52:23+00:00</td>\n",
       "      <td>The Seahawks’ 27-26 victory over the Minnesota...</td>\n",
       "      <td>[MyNorthwest.com - Seattle news, sports, weath...</td>\n",
       "      <td>What did the Vikings' D do to slow down the Se...</td>\n",
       "    </tr>\n",
       "    <tr>\n",
       "      <th>4</th>\n",
       "      <td>https://www.aier.org/article/lockdowns-have-ki...</td>\n",
       "      <td>Lockdowns Have Killed What’s Left of the Unite...</td>\n",
       "      <td>2020-10-12T12:30:15+00:00</td>\n",
       "      <td></td>\n",
       "      <td>[]</td>\n",
       "      <td>\"Long a failing institution, inaction during g...</td>\n",
       "    </tr>\n",
       "    <tr>\n",
       "      <th>5</th>\n",
       "      <td>http://rte.ie/news/world/2020/1012/1171035-car...</td>\n",
       "      <td>Teenager one step from becoming first millenni...</td>\n",
       "      <td>2020-10-12T15:21:15.903000+01:00</td>\n",
       "      <td>A British-born Italian teenager who dedicated ...</td>\n",
       "      <td>[]</td>\n",
       "      <td>A British-born Italian teenager who dedicated ...</td>\n",
       "    </tr>\n",
       "    <tr>\n",
       "      <th>6</th>\n",
       "      <td>https://www.inforum.com/newsmd/coronavirus/671...</td>\n",
       "      <td>Minnesota to require low-risk care homes be re...</td>\n",
       "      <td>None</td>\n",
       "      <td>ROCHESTER, Minn. — Stressing the need to balan...</td>\n",
       "      <td>[]</td>\n",
       "      <td>Washington County on Wisconsin border hits 142...</td>\n",
       "    </tr>\n",
       "    <tr>\n",
       "      <th>7</th>\n",
       "      <td>https://www.postbulletin.com/news/crime-and-co...</td>\n",
       "      <td>Rochester Police Department daily incident rep...</td>\n",
       "      <td>None</td>\n",
       "      <td>Wondering what the commotion was in your neigh...</td>\n",
       "      <td>[]</td>\n",
       "      <td>Wondering what the commotion was in your neigh...</td>\n",
       "    </tr>\n",
       "    <tr>\n",
       "      <th>8</th>\n",
       "      <td>http://refinery29.com/de-de/2020/10/10080798/g...</td>\n",
       "      <td>„Gilmore Girls“: 16 berühmte Nebendarsteller*i...</td>\n",
       "      <td>2020-10-10T00:00:00</td>\n",
       "      <td>Ich spreche hier also nicht von Melissa McCart...</td>\n",
       "      <td>[]</td>\n",
       "      <td>Achtung: Facepalm-Moment! Diese 16 „Gilmore Gi...</td>\n",
       "    </tr>\n",
       "    <tr>\n",
       "      <th>9</th>\n",
       "      <td>http://elnuevodia.com/noticias/mundo/videos/nu...</td>\n",
       "      <td>Nuevo misil balístico de Corea del Norte ¿Un d...</td>\n",
       "      <td>None</td>\n",
       "      <td></td>\n",
       "      <td>[]</td>\n",
       "      <td>El nuevo misil balístico intercontinental giga...</td>\n",
       "    </tr>\n",
       "  </tbody>\n",
       "</table>\n",
       "</div>"
      ],
      "text/plain": [
       "                                                 url  \\\n",
       "0  http://actionnewsjax.com/news/trending/amy-con...   \n",
       "1  https://www.13newsnow.com/article/news/nation-...   \n",
       "2  http://digg.com/digg-picks/link/kindles-video-...   \n",
       "3  http://sports.mynorthwest.com/1199798/clayton-...   \n",
       "4  https://www.aier.org/article/lockdowns-have-ki...   \n",
       "5  http://rte.ie/news/world/2020/1012/1171035-car...   \n",
       "6  https://www.inforum.com/newsmd/coronavirus/671...   \n",
       "7  https://www.postbulletin.com/news/crime-and-co...   \n",
       "8  http://refinery29.com/de-de/2020/10/10080798/g...   \n",
       "9  http://elnuevodia.com/noticias/mundo/videos/nu...   \n",
       "\n",
       "                                     extracted.title  \\\n",
       "0  Amy Coney Barrett hearing Day 2: Questioning b...   \n",
       "1  Vanessa Bryant wishes Kobe, Gigi could've seen...   \n",
       "2  Kindles, Video Doorbells And More Are On Sale ...   \n",
       "3  Seahawks Observations: John Clayton on 5-0 Haw...   \n",
       "4  Lockdowns Have Killed What’s Left of the Unite...   \n",
       "5  Teenager one step from becoming first millenni...   \n",
       "6  Minnesota to require low-risk care homes be re...   \n",
       "7  Rochester Police Department daily incident rep...   \n",
       "8  „Gilmore Girls“: 16 berühmte Nebendarsteller*i...   \n",
       "9  Nuevo misil balístico de Corea del Norte ¿Un d...   \n",
       "\n",
       "                     extracted.date  \\\n",
       "0                              None   \n",
       "1               2020-10-12T19:24:52   \n",
       "2                              None   \n",
       "3         2020-10-12T21:52:23+00:00   \n",
       "4         2020-10-12T12:30:15+00:00   \n",
       "5  2020-10-12T15:21:15.903000+01:00   \n",
       "6                              None   \n",
       "7                              None   \n",
       "8               2020-10-10T00:00:00   \n",
       "9                              None   \n",
       "\n",
       "                                      extracted.text  \\\n",
       "0  “His judicial philosophy was straightforward: ...   \n",
       "1  Vanessa Bryant wrote that she wished Kobe and ...   \n",
       "2  👋 Welcome to Digg\\n\\nThanks for creating an ac...   \n",
       "3  The Seahawks’ 27-26 victory over the Minnesota...   \n",
       "4                                                      \n",
       "5  A British-born Italian teenager who dedicated ...   \n",
       "6  ROCHESTER, Minn. — Stressing the need to balan...   \n",
       "7  Wondering what the commotion was in your neigh...   \n",
       "8  Ich spreche hier also nicht von Melissa McCart...   \n",
       "9                                                      \n",
       "\n",
       "                                   metadata.keywords  \\\n",
       "0  [amy coney barrett, amy coney barrett hearing,...   \n",
       "1                                                 []   \n",
       "2                                                 []   \n",
       "3  [MyNorthwest.com - Seattle news, sports, weath...   \n",
       "4                                                 []   \n",
       "5                                                 []   \n",
       "6                                                 []   \n",
       "7                                                 []   \n",
       "8                                                 []   \n",
       "9                                                 []   \n",
       "\n",
       "                                metadata.description  \n",
       "0  Judge Amy Coney Barrett will face questions fr...  \n",
       "1  After the Los Angeles Lakers won the NBA champ...  \n",
       "2  <p>If you're a Prime member, Amazon has a nice...  \n",
       "3  What did the Vikings' D do to slow down the Se...  \n",
       "4  \"Long a failing institution, inaction during g...  \n",
       "5  A British-born Italian teenager who dedicated ...  \n",
       "6  Washington County on Wisconsin border hits 142...  \n",
       "7  Wondering what the commotion was in your neigh...  \n",
       "8  Achtung: Facepalm-Moment! Diese 16 „Gilmore Gi...  \n",
       "9  El nuevo misil balístico intercontinental giga...  "
      ]
     },
     "execution_count": 57,
     "metadata": {},
     "output_type": "execute_result"
    }
   ],
   "source": [
    "df_src_norm_limited.head(10)"
   ]
  },
  {
   "cell_type": "code",
   "execution_count": 49,
   "metadata": {},
   "outputs": [
    {
     "data": {
      "text/plain": [
       "'Judge Amy Coney Barrett will face questions from the members of the Senate Judiciary Committee on Tuesday, as hearings into her nomination to the United States Supreme Court continue.'"
      ]
     },
     "execution_count": 49,
     "metadata": {},
     "output_type": "execute_result"
    }
   ],
   "source": [
    "df_src_norm_limited['metadata.description'][0]"
   ]
  },
  {
   "cell_type": "code",
   "execution_count": 54,
   "metadata": {},
   "outputs": [
    {
     "data": {
      "text/plain": [
       "'“His judicial philosophy was straightforward: A judge must apply the law as written, not as the judge wishes it were. Sometimes that approach meant reaching results that he did not like. But as he put it in one of his best-known opinions, that is what it means to say we have a government of laws, not of men.”'"
      ]
     },
     "execution_count": 54,
     "metadata": {},
     "output_type": "execute_result"
    }
   ],
   "source": [
    "df_src_norm_limited['extracted.text'][0]"
   ]
  },
  {
   "cell_type": "code",
   "execution_count": 55,
   "metadata": {},
   "outputs": [
    {
     "data": {
      "text/plain": [
       "'http://actionnewsjax.com/news/trending/amy-coney-barrett-hearing-day-2-questioning-begins-livestream-live-updates/MSRUGTDZVRFO3M7PXIQC6UY45U/'"
      ]
     },
     "execution_count": 55,
     "metadata": {},
     "output_type": "execute_result"
    }
   ],
   "source": [
    "df_src_norm_limited['url'][0]"
   ]
  },
  {
   "cell_type": "code",
   "execution_count": 53,
   "metadata": {},
   "outputs": [
    {
     "data": {
      "text/plain": [
       "<bound method NDFrame.describe of                                                      url  \\\n",
       "0      http://actionnewsjax.com/news/trending/amy-con...   \n",
       "1      https://www.13newsnow.com/article/news/nation-...   \n",
       "2      http://digg.com/digg-picks/link/kindles-video-...   \n",
       "3      http://sports.mynorthwest.com/1199798/clayton-...   \n",
       "4      https://www.aier.org/article/lockdowns-have-ki...   \n",
       "...                                                  ...   \n",
       "60369  http://mediamatters.org/2020-supreme-court-nom...   \n",
       "60370  https://spectrumreport.com/handmaids-tale-prot...   \n",
       "60371  http://pjmedia.com/news-and-politics/rick-mora...   \n",
       "60372  https://twitchy.com/samj-3930/2020/10/12/what-...   \n",
       "60373  https://www.cbsnews.com/news/trump-biden-elect...   \n",
       "\n",
       "                                         extracted.title  \\\n",
       "0      Amy Coney Barrett hearing Day 2: Questioning b...   \n",
       "1      Vanessa Bryant wishes Kobe, Gigi could've seen...   \n",
       "2      Kindles, Video Doorbells And More Are On Sale ...   \n",
       "3      Seahawks Observations: John Clayton on 5-0 Haw...   \n",
       "4      Lockdowns Have Killed What’s Left of the Unite...   \n",
       "...                                                  ...   \n",
       "60369  News outlets must report on how President Trum...   \n",
       "60370  ‘Handmaid’s Tale’ Protesters Descend On Suprem...   \n",
       "60371  Planned Parenthood Audit Finds Many Black Empl...   \n",
       "60372  What is this unhinged BS?! ‘Very gay’ blue-che...   \n",
       "60373  Western Michigan, a longtime GOP stronghold, i...   \n",
       "\n",
       "                  extracted.date  \\\n",
       "0                           None   \n",
       "1            2020-10-12T19:24:52   \n",
       "2                           None   \n",
       "3      2020-10-12T21:52:23+00:00   \n",
       "4      2020-10-12T12:30:15+00:00   \n",
       "...                          ...   \n",
       "60369                       None   \n",
       "60370  2020-10-12T17:30:03+00:00   \n",
       "60371        2020-10-11T00:00:00   \n",
       "60372        2020-10-12T00:00:00   \n",
       "60373                       None   \n",
       "\n",
       "                                          extracted.text  \\\n",
       "0      “His judicial philosophy was straightforward: ...   \n",
       "1      Vanessa Bryant wrote that she wished Kobe and ...   \n",
       "2      👋 Welcome to Digg\\n\\nThanks for creating an ac...   \n",
       "3      The Seahawks’ 27-26 victory over the Minnesota...   \n",
       "4                                                          \n",
       "...                                                  ...   \n",
       "60369  Environmental-focused news outlets such as E&E...   \n",
       "60370  A group of women dressed as characters from th...   \n",
       "60371  An internal audit conducted by the Anti-Oppres...   \n",
       "60372  Twitter has been especially awful today with a...   \n",
       "60373  Democratic presidential nominee Joe Biden is a...   \n",
       "\n",
       "                                       metadata.keywords  \\\n",
       "0      [amy coney barrett, amy coney barrett hearing,...   \n",
       "1                                                     []   \n",
       "2                                                     []   \n",
       "3      [MyNorthwest.com - Seattle news, sports, weath...   \n",
       "4                                                     []   \n",
       "...                                                  ...   \n",
       "60369                                                 []   \n",
       "60370  [fact, check, august, trump, cnn, analysis, ne...   \n",
       "60371                               [planned parenthood]   \n",
       "60372  [Amy Coney Barrett, clown car, Girl Power, Lau...   \n",
       "60373  [joe biden, Donald Trump, United States presid...   \n",
       "\n",
       "                                    metadata.description  \n",
       "0      Judge Amy Coney Barrett will face questions fr...  \n",
       "1      After the Los Angeles Lakers won the NBA champ...  \n",
       "2      <p>If you're a Prime member, Amazon has a nice...  \n",
       "3      What did the Vikings' D do to slow down the Se...  \n",
       "4      \"Long a failing institution, inaction during g...  \n",
       "...                                                  ...  \n",
       "60369                                                     \n",
       "60370                                                     \n",
       "60371  The company's black CEO, Alexis McGill Johnson...  \n",
       "60372       Yup, some women can be as sexist as any man.  \n",
       "60373  Joe Biden is ahead in Michigan 52 to 46%, a ne...  \n",
       "\n",
       "[60374 rows x 6 columns]>"
      ]
     },
     "execution_count": 53,
     "metadata": {},
     "output_type": "execute_result"
    }
   ],
   "source": [
    "df_src_norm_limited.describe"
   ]
  },
  {
   "cell_type": "markdown",
   "metadata": {},
   "source": [
    "# Topic Modeling\n",
    "\n",
    "## Using Latent Dirichlet Allocation (LDA)\n",
    "#### The LDA is based upon two general assumptions:\n",
    "\n",
    "### Documents that have similar words usually have the same topic\n",
    "### Documents that have groups of words frequently occurring together usually have the same topic.\n",
    "\n",
    "\n",
    "# Vocabulary Creation\n",
    "\n",
    "### Using CountVectorizer class from the sklearn.feature_extraction.text module to create a document-term matrix. We specify to only include those words that appear in less than 80% of the document and appear in at least 2 documents. We also remove all the stop words as they do not really contribute to topic modeling."
   ]
  },
  {
   "cell_type": "code",
   "execution_count": 59,
   "metadata": {},
   "outputs": [],
   "source": [
    "count_vect = CountVectorizer(max_df=0.8, min_df=2, stop_words='english')\n",
    "doc_term_matrix = count_vect.fit_transform(df_src_norm_limited['extracted.text'].values.astype('U'))\n"
   ]
  },
  {
   "cell_type": "code",
   "execution_count": 60,
   "metadata": {},
   "outputs": [
    {
     "data": {
      "text/plain": [
       "<60374x228401 sparse matrix of type '<class 'numpy.int64'>'\n",
       "\twith 8898350 stored elements in Compressed Sparse Row format>"
      ]
     },
     "execution_count": 60,
     "metadata": {},
     "output_type": "execute_result"
    }
   ],
   "source": [
    "doc_term_matrix"
   ]
  },
  {
   "cell_type": "code",
   "execution_count": 61,
   "metadata": {},
   "outputs": [],
   "source": [
    "# Has 228,401 size vocabulary in this dataset"
   ]
  },
  {
   "cell_type": "code",
   "execution_count": 63,
   "metadata": {},
   "outputs": [
    {
     "data": {
      "text/plain": [
       "LatentDirichletAllocation(batch_size=128, doc_topic_prior=None,\n",
       "             evaluate_every=-1, learning_decay=0.7,\n",
       "             learning_method='batch', learning_offset=10.0,\n",
       "             max_doc_update_iter=100, max_iter=10, mean_change_tol=0.001,\n",
       "             n_components=5, n_jobs=None, n_topics=None, perp_tol=0.1,\n",
       "             random_state=42, topic_word_prior=None,\n",
       "             total_samples=1000000.0, verbose=0)"
      ]
     },
     "execution_count": 63,
     "metadata": {},
     "output_type": "execute_result"
    }
   ],
   "source": [
    "# Next, we will use LDA to create topics along with the probability distribution for each word in our vocabulary for each topic. \n",
    "# LatentDirichletAllocation class from the sklearn.decomposition library to perform LDA on our document-term matrix. \n",
    "# The parameter n_components specifies the number of categories, or topics, that we want our text to be divided into. \n",
    "# The parameter random_state (aka the seed) is set to 42\n",
    "# Number of categories is set by n_components\n",
    "\n",
    "%%time\n",
    "LDA = LatentDirichletAllocation(n_components=5, random_state=42)\n",
    "LDA.fit(doc_term_matrix)"
   ]
  },
  {
   "cell_type": "code",
   "execution_count": 64,
   "metadata": {},
   "outputs": [],
   "source": [
    "first_topic = LDA.components_[0]"
   ]
  },
  {
   "cell_type": "code",
   "execution_count": 65,
   "metadata": {},
   "outputs": [
    {
     "name": "stdout",
     "output_type": "stream",
     "text": [
      "CPU times: user 30.4 ms, sys: 74 µs, total: 30.5 ms\n",
      "Wall time: 27.4 ms\n"
     ]
    }
   ],
   "source": [
    "%%time\n",
    "top_topic_words = first_topic.argsort()[-10:]"
   ]
  },
  {
   "cell_type": "code",
   "execution_count": 66,
   "metadata": {},
   "outputs": [
    {
     "name": "stdout",
     "output_type": "stream",
     "text": [
      "da\n",
      "non\n",
      "una\n",
      "della\n",
      "le\n",
      "del\n",
      "che\n",
      "la\n",
      "il\n",
      "di\n"
     ]
    }
   ],
   "source": [
    "for i in top_topic_words:\n",
    "    print(count_vect.get_feature_names()[i])"
   ]
  },
  {
   "cell_type": "code",
   "execution_count": 67,
   "metadata": {},
   "outputs": [],
   "source": [
    "second_topic = LDA.components_[1]"
   ]
  },
  {
   "cell_type": "code",
   "execution_count": 69,
   "metadata": {},
   "outputs": [
    {
     "name": "stdout",
     "output_type": "stream",
     "text": [
      "CPU times: user 32 ms, sys: 117 µs, total: 32.1 ms\n",
      "Wall time: 29.3 ms\n"
     ]
    }
   ],
   "source": [
    "%%time\n",
    "top_topic_words = second_topic.argsort()[-10:]"
   ]
  },
  {
   "cell_type": "code",
   "execution_count": 70,
   "metadata": {},
   "outputs": [
    {
     "name": "stdout",
     "output_type": "stream",
     "text": [
      "court\n",
      "president\n",
      "19\n",
      "year\n",
      "state\n",
      "covid\n",
      "new\n",
      "trump\n",
      "people\n",
      "said\n"
     ]
    }
   ],
   "source": [
    "for i in top_topic_words:\n",
    "    print(count_vect.get_feature_names()[i])"
   ]
  },
  {
   "cell_type": "code",
   "execution_count": 73,
   "metadata": {},
   "outputs": [
    {
     "name": "stdout",
     "output_type": "stream",
     "text": [
      "Top 10 words for topic #0:\n",
      "['da', 'non', 'una', 'della', 'le', 'del', 'che', 'la', 'il', 'di']\n",
      "\n",
      "\n",
      "Top 10 words for topic #1:\n",
      "['court', 'president', '19', 'year', 'state', 'covid', 'new', 'trump', 'people', 'said']\n",
      "\n",
      "\n",
      "Top 10 words for topic #2:\n",
      "['του', 'το', 'της', 'und', 'bir', 'και', 'amazon', 'der', 'die', 've']\n",
      "\n",
      "\n",
      "Top 10 words for topic #3:\n",
      "['time', 'just', 'season', 'said', 'los', 'game', 'que', 'el', 'en', 'la']\n",
      "\n",
      "\n",
      "Top 10 words for topic #4:\n",
      "['que', 'من', 'du', 'des', 'في', 'en', 'et', 'les', 'le', 'la']\n",
      "\n",
      "\n",
      "CPU times: user 14.7 s, sys: 8.2 ms, total: 14.7 s\n",
      "Wall time: 14.7 s\n"
     ]
    }
   ],
   "source": [
    "%%time\n",
    "# 10 words with highest probabilities for all the five topics:\n",
    "\n",
    "\n",
    "for i,topic in enumerate(LDA.components_):\n",
    "    print(f'Top 10 words for topic #{i}:')\n",
    "    print([count_vect.get_feature_names()[i] for i in topic.argsort()[-10:]])\n",
    "    print('\\n')"
   ]
  },
  {
   "cell_type": "code",
   "execution_count": 74,
   "metadata": {},
   "outputs": [
    {
     "data": {
      "text/plain": [
       "(60374, 5)"
      ]
     },
     "execution_count": 74,
     "metadata": {},
     "output_type": "execute_result"
    }
   ],
   "source": [
    "# we will add a column to the original data frame that will store the topic for the text. \n",
    "#To do so, we can use LDA.transform() method and pass it our document-term matrix. \n",
    "#This method will assign the probability of all the topics to each document\n",
    "\n",
    "topic_values = LDA.transform(doc_term_matrix)\n",
    "topic_values.shape"
   ]
  },
  {
   "cell_type": "code",
   "execution_count": 76,
   "metadata": {},
   "outputs": [
    {
     "name": "stdout",
     "output_type": "stream",
     "text": [
      "CPU times: user 6.49 ms, sys: 72 µs, total: 6.56 ms\n",
      "Wall time: 4.15 ms\n"
     ]
    }
   ],
   "source": [
    "%%time\n",
    "#adds a new column for topic in the data frame and assigns the topic value to each row in the column:\n",
    "# To find the topic index with maximum value, we can call the argmax() method and pass 1 as the value for the axis parameter.\n",
    "\n",
    "df_src_norm_limited['Topic'] = topic_values.argmax(axis=1)"
   ]
  },
  {
   "cell_type": "code",
   "execution_count": 77,
   "metadata": {},
   "outputs": [
    {
     "data": {
      "text/html": [
       "<div>\n",
       "<style scoped>\n",
       "    .dataframe tbody tr th:only-of-type {\n",
       "        vertical-align: middle;\n",
       "    }\n",
       "\n",
       "    .dataframe tbody tr th {\n",
       "        vertical-align: top;\n",
       "    }\n",
       "\n",
       "    .dataframe thead th {\n",
       "        text-align: right;\n",
       "    }\n",
       "</style>\n",
       "<table border=\"1\" class=\"dataframe\">\n",
       "  <thead>\n",
       "    <tr style=\"text-align: right;\">\n",
       "      <th></th>\n",
       "      <th>url</th>\n",
       "      <th>extracted.title</th>\n",
       "      <th>extracted.date</th>\n",
       "      <th>extracted.text</th>\n",
       "      <th>metadata.keywords</th>\n",
       "      <th>metadata.description</th>\n",
       "      <th>Topic</th>\n",
       "    </tr>\n",
       "  </thead>\n",
       "  <tbody>\n",
       "    <tr>\n",
       "      <th>0</th>\n",
       "      <td>http://actionnewsjax.com/news/trending/amy-con...</td>\n",
       "      <td>Amy Coney Barrett hearing Day 2: Questioning b...</td>\n",
       "      <td>None</td>\n",
       "      <td>“His judicial philosophy was straightforward: ...</td>\n",
       "      <td>[amy coney barrett, amy coney barrett hearing,...</td>\n",
       "      <td>Judge Amy Coney Barrett will face questions fr...</td>\n",
       "      <td>1</td>\n",
       "    </tr>\n",
       "    <tr>\n",
       "      <th>1</th>\n",
       "      <td>https://www.13newsnow.com/article/news/nation-...</td>\n",
       "      <td>Vanessa Bryant wishes Kobe, Gigi could've seen...</td>\n",
       "      <td>2020-10-12T19:24:52</td>\n",
       "      <td>Vanessa Bryant wrote that she wished Kobe and ...</td>\n",
       "      <td>[]</td>\n",
       "      <td>After the Los Angeles Lakers won the NBA champ...</td>\n",
       "      <td>3</td>\n",
       "    </tr>\n",
       "    <tr>\n",
       "      <th>2</th>\n",
       "      <td>http://digg.com/digg-picks/link/kindles-video-...</td>\n",
       "      <td>Kindles, Video Doorbells And More Are On Sale ...</td>\n",
       "      <td>None</td>\n",
       "      <td>👋 Welcome to Digg\\n\\nThanks for creating an ac...</td>\n",
       "      <td>[]</td>\n",
       "      <td>&lt;p&gt;If you're a Prime member, Amazon has a nice...</td>\n",
       "      <td>1</td>\n",
       "    </tr>\n",
       "    <tr>\n",
       "      <th>3</th>\n",
       "      <td>http://sports.mynorthwest.com/1199798/clayton-...</td>\n",
       "      <td>Seahawks Observations: John Clayton on 5-0 Haw...</td>\n",
       "      <td>2020-10-12T21:52:23+00:00</td>\n",
       "      <td>The Seahawks’ 27-26 victory over the Minnesota...</td>\n",
       "      <td>[MyNorthwest.com - Seattle news, sports, weath...</td>\n",
       "      <td>What did the Vikings' D do to slow down the Se...</td>\n",
       "      <td>3</td>\n",
       "    </tr>\n",
       "    <tr>\n",
       "      <th>4</th>\n",
       "      <td>https://www.aier.org/article/lockdowns-have-ki...</td>\n",
       "      <td>Lockdowns Have Killed What’s Left of the Unite...</td>\n",
       "      <td>2020-10-12T12:30:15+00:00</td>\n",
       "      <td></td>\n",
       "      <td>[]</td>\n",
       "      <td>\"Long a failing institution, inaction during g...</td>\n",
       "      <td>0</td>\n",
       "    </tr>\n",
       "  </tbody>\n",
       "</table>\n",
       "</div>"
      ],
      "text/plain": [
       "                                                 url  \\\n",
       "0  http://actionnewsjax.com/news/trending/amy-con...   \n",
       "1  https://www.13newsnow.com/article/news/nation-...   \n",
       "2  http://digg.com/digg-picks/link/kindles-video-...   \n",
       "3  http://sports.mynorthwest.com/1199798/clayton-...   \n",
       "4  https://www.aier.org/article/lockdowns-have-ki...   \n",
       "\n",
       "                                     extracted.title  \\\n",
       "0  Amy Coney Barrett hearing Day 2: Questioning b...   \n",
       "1  Vanessa Bryant wishes Kobe, Gigi could've seen...   \n",
       "2  Kindles, Video Doorbells And More Are On Sale ...   \n",
       "3  Seahawks Observations: John Clayton on 5-0 Haw...   \n",
       "4  Lockdowns Have Killed What’s Left of the Unite...   \n",
       "\n",
       "              extracted.date  \\\n",
       "0                       None   \n",
       "1        2020-10-12T19:24:52   \n",
       "2                       None   \n",
       "3  2020-10-12T21:52:23+00:00   \n",
       "4  2020-10-12T12:30:15+00:00   \n",
       "\n",
       "                                      extracted.text  \\\n",
       "0  “His judicial philosophy was straightforward: ...   \n",
       "1  Vanessa Bryant wrote that she wished Kobe and ...   \n",
       "2  👋 Welcome to Digg\\n\\nThanks for creating an ac...   \n",
       "3  The Seahawks’ 27-26 victory over the Minnesota...   \n",
       "4                                                      \n",
       "\n",
       "                                   metadata.keywords  \\\n",
       "0  [amy coney barrett, amy coney barrett hearing,...   \n",
       "1                                                 []   \n",
       "2                                                 []   \n",
       "3  [MyNorthwest.com - Seattle news, sports, weath...   \n",
       "4                                                 []   \n",
       "\n",
       "                                metadata.description  Topic  \n",
       "0  Judge Amy Coney Barrett will face questions fr...      1  \n",
       "1  After the Los Angeles Lakers won the NBA champ...      3  \n",
       "2  <p>If you're a Prime member, Amazon has a nice...      1  \n",
       "3  What did the Vikings' D do to slow down the Se...      3  \n",
       "4  \"Long a failing institution, inaction during g...      0  "
      ]
     },
     "execution_count": 77,
     "metadata": {},
     "output_type": "execute_result"
    }
   ],
   "source": [
    "df_src_norm_limited.head()"
   ]
  },
  {
   "cell_type": "code",
   "execution_count": null,
   "metadata": {},
   "outputs": [],
   "source": []
  }
 ],
 "metadata": {
  "kernelspec": {
   "display_name": "Python 3",
   "language": "python",
   "name": "python3"
  },
  "language_info": {
   "codemirror_mode": {
    "name": "ipython",
    "version": 3
   },
   "file_extension": ".py",
   "mimetype": "text/x-python",
   "name": "python",
   "nbconvert_exporter": "python",
   "pygments_lexer": "ipython3",
   "version": "3.7.6"
  }
 },
 "nbformat": 4,
 "nbformat_minor": 4
}
